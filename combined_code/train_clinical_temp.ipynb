{
 "cells": [
  {
   "cell_type": "code",
   "execution_count": 1,
   "metadata": {},
   "outputs": [],
   "source": [
    "from sklearn.feature_selection import RFECV, RFE\n",
    "from sklearn.ensemble import RandomForestClassifier\n",
    "from sklearn.metrics import accuracy_score\n",
    "from sklearn.model_selection import RandomizedSearchCV\n",
    "from sklearn.model_selection import GridSearchCV\n",
    "from sklearn.linear_model import LogisticRegression\n",
    "from sklearn.model_selection import GroupKFold\n",
    "from sklearn.model_selection import StratifiedKFold\n",
    "from sklearn.model_selection import LeaveOneGroupOut\n",
    "from sklearn.preprocessing import Imputer\n",
    "\n",
    "\n",
    "from sklearn.metrics import roc_auc_score\n",
    "from sklearn import linear_model\n",
    "\n",
    "from matplotlib import pyplot as plt\n",
    "from matplotlib.collections import LineCollection\n",
    "import matplotlib.cm as cm\n",
    "from mpl_toolkits.mplot3d import Axes3D\n",
    "import seaborn as sns\n",
    "import pandas as pd\n",
    "import numpy as np\n",
    "import math\n",
    "import os\n",
    "import time\n",
    "\n",
    "import load_data\n",
    "import file_structure\n",
    "\n",
    "from train_helper import RF_grid, RF_random_grid, Logreg_grid\n",
    "\n",
    "def label_conversion(numpy_array):\n",
    "    labels = numpy_array.tolist()\n",
    "    labels_str = list()\n",
    "\n",
    "    for i in range(len(labels)):\n",
    "\n",
    "        if numpy_array[i] == 0:\n",
    "            labels_str.append('non-codel')\n",
    "        else:\n",
    "            labels_str.append('codel')\n",
    "\n",
    "    return labels_str\n"
   ]
  },
  {
   "cell_type": "code",
   "execution_count": 54,
   "metadata": {},
   "outputs": [
    {
     "name": "stdout",
     "output_type": "stream",
     "text": [
      "cmb fold number: 0\n",
      "features rf clinical\n",
      "Fitting 5 folds for each of 100 candidates, totalling 500 fits\n"
     ]
    },
    {
     "ename": "KeyboardInterrupt",
     "evalue": "",
     "output_type": "error",
     "traceback": [
      "\u001b[1;31m---------------------------------------------------------------------------\u001b[0m",
      "\u001b[1;31mKeyboardInterrupt\u001b[0m                         Traceback (most recent call last)",
      "\u001b[1;32m<ipython-input-54-7e331e1e2adf>\u001b[0m in \u001b[0;36m<module>\u001b[1;34m()\u001b[0m\n\u001b[0;32m    137\u001b[0m                                 n_jobs = -1)\n\u001b[0;32m    138\u001b[0m \u001b[1;33m\u001b[0m\u001b[0m\n\u001b[1;32m--> 139\u001b[1;33m                             \u001b[0mestimator\u001b[0m\u001b[1;33m.\u001b[0m\u001b[0mfit\u001b[0m\u001b[1;33m(\u001b[0m\u001b[0mtrain_val_features_df\u001b[0m\u001b[1;33m,\u001b[0m \u001b[0mtrain_val_1p19q\u001b[0m\u001b[1;33m)\u001b[0m\u001b[1;33m\u001b[0m\u001b[0m\n\u001b[0m\u001b[0;32m    140\u001b[0m \u001b[1;33m\u001b[0m\u001b[0m\n\u001b[0;32m    141\u001b[0m                         \u001b[1;32melif\u001b[0m \u001b[0msample_case\u001b[0m \u001b[1;33m==\u001b[0m \u001b[1;34m'all'\u001b[0m\u001b[1;33m:\u001b[0m\u001b[1;33m\u001b[0m\u001b[0m\n",
      "\u001b[1;32m~\\AppData\\Local\\Continuum\\anaconda3\\lib\\site-packages\\sklearn\\model_selection\\_search.py\u001b[0m in \u001b[0;36mfit\u001b[1;34m(self, X, y, groups, **fit_params)\u001b[0m\n\u001b[0;32m    637\u001b[0m                                   error_score=self.error_score)\n\u001b[0;32m    638\u001b[0m           for parameters, (train, test) in product(candidate_params,\n\u001b[1;32m--> 639\u001b[1;33m                                                    cv.split(X, y, groups)))\n\u001b[0m\u001b[0;32m    640\u001b[0m \u001b[1;33m\u001b[0m\u001b[0m\n\u001b[0;32m    641\u001b[0m         \u001b[1;31m# if one choose to see train score, \"out\" will contain train score info\u001b[0m\u001b[1;33m\u001b[0m\u001b[1;33m\u001b[0m\u001b[0m\n",
      "\u001b[1;32m~\\AppData\\Local\\Continuum\\anaconda3\\lib\\site-packages\\sklearn\\externals\\joblib\\parallel.py\u001b[0m in \u001b[0;36m__call__\u001b[1;34m(self, iterable)\u001b[0m\n\u001b[0;32m    787\u001b[0m                 \u001b[1;31m# consumption.\u001b[0m\u001b[1;33m\u001b[0m\u001b[1;33m\u001b[0m\u001b[0m\n\u001b[0;32m    788\u001b[0m                 \u001b[0mself\u001b[0m\u001b[1;33m.\u001b[0m\u001b[0m_iterating\u001b[0m \u001b[1;33m=\u001b[0m \u001b[1;32mFalse\u001b[0m\u001b[1;33m\u001b[0m\u001b[0m\n\u001b[1;32m--> 789\u001b[1;33m             \u001b[0mself\u001b[0m\u001b[1;33m.\u001b[0m\u001b[0mretrieve\u001b[0m\u001b[1;33m(\u001b[0m\u001b[1;33m)\u001b[0m\u001b[1;33m\u001b[0m\u001b[0m\n\u001b[0m\u001b[0;32m    790\u001b[0m             \u001b[1;31m# Make sure that we get a last message telling us we are done\u001b[0m\u001b[1;33m\u001b[0m\u001b[1;33m\u001b[0m\u001b[0m\n\u001b[0;32m    791\u001b[0m             \u001b[0melapsed_time\u001b[0m \u001b[1;33m=\u001b[0m \u001b[0mtime\u001b[0m\u001b[1;33m.\u001b[0m\u001b[0mtime\u001b[0m\u001b[1;33m(\u001b[0m\u001b[1;33m)\u001b[0m \u001b[1;33m-\u001b[0m \u001b[0mself\u001b[0m\u001b[1;33m.\u001b[0m\u001b[0m_start_time\u001b[0m\u001b[1;33m\u001b[0m\u001b[0m\n",
      "\u001b[1;32m~\\AppData\\Local\\Continuum\\anaconda3\\lib\\site-packages\\sklearn\\externals\\joblib\\parallel.py\u001b[0m in \u001b[0;36mretrieve\u001b[1;34m(self)\u001b[0m\n\u001b[0;32m    697\u001b[0m             \u001b[1;32mtry\u001b[0m\u001b[1;33m:\u001b[0m\u001b[1;33m\u001b[0m\u001b[0m\n\u001b[0;32m    698\u001b[0m                 \u001b[1;32mif\u001b[0m \u001b[0mgetattr\u001b[0m\u001b[1;33m(\u001b[0m\u001b[0mself\u001b[0m\u001b[1;33m.\u001b[0m\u001b[0m_backend\u001b[0m\u001b[1;33m,\u001b[0m \u001b[1;34m'supports_timeout'\u001b[0m\u001b[1;33m,\u001b[0m \u001b[1;32mFalse\u001b[0m\u001b[1;33m)\u001b[0m\u001b[1;33m:\u001b[0m\u001b[1;33m\u001b[0m\u001b[0m\n\u001b[1;32m--> 699\u001b[1;33m                     \u001b[0mself\u001b[0m\u001b[1;33m.\u001b[0m\u001b[0m_output\u001b[0m\u001b[1;33m.\u001b[0m\u001b[0mextend\u001b[0m\u001b[1;33m(\u001b[0m\u001b[0mjob\u001b[0m\u001b[1;33m.\u001b[0m\u001b[0mget\u001b[0m\u001b[1;33m(\u001b[0m\u001b[0mtimeout\u001b[0m\u001b[1;33m=\u001b[0m\u001b[0mself\u001b[0m\u001b[1;33m.\u001b[0m\u001b[0mtimeout\u001b[0m\u001b[1;33m)\u001b[0m\u001b[1;33m)\u001b[0m\u001b[1;33m\u001b[0m\u001b[0m\n\u001b[0m\u001b[0;32m    700\u001b[0m                 \u001b[1;32melse\u001b[0m\u001b[1;33m:\u001b[0m\u001b[1;33m\u001b[0m\u001b[0m\n\u001b[0;32m    701\u001b[0m                     \u001b[0mself\u001b[0m\u001b[1;33m.\u001b[0m\u001b[0m_output\u001b[0m\u001b[1;33m.\u001b[0m\u001b[0mextend\u001b[0m\u001b[1;33m(\u001b[0m\u001b[0mjob\u001b[0m\u001b[1;33m.\u001b[0m\u001b[0mget\u001b[0m\u001b[1;33m(\u001b[0m\u001b[1;33m)\u001b[0m\u001b[1;33m)\u001b[0m\u001b[1;33m\u001b[0m\u001b[0m\n",
      "\u001b[1;32m~\\AppData\\Local\\Continuum\\anaconda3\\lib\\multiprocessing\\pool.py\u001b[0m in \u001b[0;36mget\u001b[1;34m(self, timeout)\u001b[0m\n\u001b[0;32m    636\u001b[0m \u001b[1;33m\u001b[0m\u001b[0m\n\u001b[0;32m    637\u001b[0m     \u001b[1;32mdef\u001b[0m \u001b[0mget\u001b[0m\u001b[1;33m(\u001b[0m\u001b[0mself\u001b[0m\u001b[1;33m,\u001b[0m \u001b[0mtimeout\u001b[0m\u001b[1;33m=\u001b[0m\u001b[1;32mNone\u001b[0m\u001b[1;33m)\u001b[0m\u001b[1;33m:\u001b[0m\u001b[1;33m\u001b[0m\u001b[0m\n\u001b[1;32m--> 638\u001b[1;33m         \u001b[0mself\u001b[0m\u001b[1;33m.\u001b[0m\u001b[0mwait\u001b[0m\u001b[1;33m(\u001b[0m\u001b[0mtimeout\u001b[0m\u001b[1;33m)\u001b[0m\u001b[1;33m\u001b[0m\u001b[0m\n\u001b[0m\u001b[0;32m    639\u001b[0m         \u001b[1;32mif\u001b[0m \u001b[1;32mnot\u001b[0m \u001b[0mself\u001b[0m\u001b[1;33m.\u001b[0m\u001b[0mready\u001b[0m\u001b[1;33m(\u001b[0m\u001b[1;33m)\u001b[0m\u001b[1;33m:\u001b[0m\u001b[1;33m\u001b[0m\u001b[0m\n\u001b[0;32m    640\u001b[0m             \u001b[1;32mraise\u001b[0m \u001b[0mTimeoutError\u001b[0m\u001b[1;33m\u001b[0m\u001b[0m\n",
      "\u001b[1;32m~\\AppData\\Local\\Continuum\\anaconda3\\lib\\multiprocessing\\pool.py\u001b[0m in \u001b[0;36mwait\u001b[1;34m(self, timeout)\u001b[0m\n\u001b[0;32m    633\u001b[0m \u001b[1;33m\u001b[0m\u001b[0m\n\u001b[0;32m    634\u001b[0m     \u001b[1;32mdef\u001b[0m \u001b[0mwait\u001b[0m\u001b[1;33m(\u001b[0m\u001b[0mself\u001b[0m\u001b[1;33m,\u001b[0m \u001b[0mtimeout\u001b[0m\u001b[1;33m=\u001b[0m\u001b[1;32mNone\u001b[0m\u001b[1;33m)\u001b[0m\u001b[1;33m:\u001b[0m\u001b[1;33m\u001b[0m\u001b[0m\n\u001b[1;32m--> 635\u001b[1;33m         \u001b[0mself\u001b[0m\u001b[1;33m.\u001b[0m\u001b[0m_event\u001b[0m\u001b[1;33m.\u001b[0m\u001b[0mwait\u001b[0m\u001b[1;33m(\u001b[0m\u001b[0mtimeout\u001b[0m\u001b[1;33m)\u001b[0m\u001b[1;33m\u001b[0m\u001b[0m\n\u001b[0m\u001b[0;32m    636\u001b[0m \u001b[1;33m\u001b[0m\u001b[0m\n\u001b[0;32m    637\u001b[0m     \u001b[1;32mdef\u001b[0m \u001b[0mget\u001b[0m\u001b[1;33m(\u001b[0m\u001b[0mself\u001b[0m\u001b[1;33m,\u001b[0m \u001b[0mtimeout\u001b[0m\u001b[1;33m=\u001b[0m\u001b[1;32mNone\u001b[0m\u001b[1;33m)\u001b[0m\u001b[1;33m:\u001b[0m\u001b[1;33m\u001b[0m\u001b[0m\n",
      "\u001b[1;32m~\\AppData\\Local\\Continuum\\anaconda3\\lib\\threading.py\u001b[0m in \u001b[0;36mwait\u001b[1;34m(self, timeout)\u001b[0m\n\u001b[0;32m    549\u001b[0m             \u001b[0msignaled\u001b[0m \u001b[1;33m=\u001b[0m \u001b[0mself\u001b[0m\u001b[1;33m.\u001b[0m\u001b[0m_flag\u001b[0m\u001b[1;33m\u001b[0m\u001b[0m\n\u001b[0;32m    550\u001b[0m             \u001b[1;32mif\u001b[0m \u001b[1;32mnot\u001b[0m \u001b[0msignaled\u001b[0m\u001b[1;33m:\u001b[0m\u001b[1;33m\u001b[0m\u001b[0m\n\u001b[1;32m--> 551\u001b[1;33m                 \u001b[0msignaled\u001b[0m \u001b[1;33m=\u001b[0m \u001b[0mself\u001b[0m\u001b[1;33m.\u001b[0m\u001b[0m_cond\u001b[0m\u001b[1;33m.\u001b[0m\u001b[0mwait\u001b[0m\u001b[1;33m(\u001b[0m\u001b[0mtimeout\u001b[0m\u001b[1;33m)\u001b[0m\u001b[1;33m\u001b[0m\u001b[0m\n\u001b[0m\u001b[0;32m    552\u001b[0m             \u001b[1;32mreturn\u001b[0m \u001b[0msignaled\u001b[0m\u001b[1;33m\u001b[0m\u001b[0m\n\u001b[0;32m    553\u001b[0m \u001b[1;33m\u001b[0m\u001b[0m\n",
      "\u001b[1;32m~\\AppData\\Local\\Continuum\\anaconda3\\lib\\threading.py\u001b[0m in \u001b[0;36mwait\u001b[1;34m(self, timeout)\u001b[0m\n\u001b[0;32m    293\u001b[0m         \u001b[1;32mtry\u001b[0m\u001b[1;33m:\u001b[0m    \u001b[1;31m# restore state no matter what (e.g., KeyboardInterrupt)\u001b[0m\u001b[1;33m\u001b[0m\u001b[0m\n\u001b[0;32m    294\u001b[0m             \u001b[1;32mif\u001b[0m \u001b[0mtimeout\u001b[0m \u001b[1;32mis\u001b[0m \u001b[1;32mNone\u001b[0m\u001b[1;33m:\u001b[0m\u001b[1;33m\u001b[0m\u001b[0m\n\u001b[1;32m--> 295\u001b[1;33m                 \u001b[0mwaiter\u001b[0m\u001b[1;33m.\u001b[0m\u001b[0macquire\u001b[0m\u001b[1;33m(\u001b[0m\u001b[1;33m)\u001b[0m\u001b[1;33m\u001b[0m\u001b[0m\n\u001b[0m\u001b[0;32m    296\u001b[0m                 \u001b[0mgotit\u001b[0m \u001b[1;33m=\u001b[0m \u001b[1;32mTrue\u001b[0m\u001b[1;33m\u001b[0m\u001b[0m\n\u001b[0;32m    297\u001b[0m             \u001b[1;32melse\u001b[0m\u001b[1;33m:\u001b[0m\u001b[1;33m\u001b[0m\u001b[0m\n",
      "\u001b[1;31mKeyboardInterrupt\u001b[0m: "
     ]
    }
   ],
   "source": [
    "# modals\n",
    "modal_list = ['FLAIR','T1', 'T1post','T2']\n",
    "#study = 'CNN' # <== CHANGE HERE\n",
    "# study_list = ['texture','TDA','CNN']\n",
    "study_list = ['texture','TDA','CNN','cmb']\n",
    "study_list = ['cmb']\n",
    "ICC_filt = 0\n",
    "if ICC_filt == 1:\n",
    "    suffix = '_icc2'\n",
    "else: \n",
    "    suffix = ''\n",
    "\n",
    "for study in study_list:\n",
    "    (origdir,basedir,imagedir,normdir,splitdir,out_dir,model_dir) = file_structure.file_dirs(study)\n",
    "    # load feature names and corr+rfe filtered feature names\n",
    "    #if study == 'TDA':\n",
    "    #    feature_names = np.load(data_dir + 'ph_feature_names.npy')\n",
    "    #    corr_rfe_selected_list = np.load(os.path.join(out_dir,'corr_rfe_ph_features_09.npy')).item()\n",
    "    #elif study == 'texture':\n",
    "    #    feature_names = np.load(data_dir + 'rfecv_tex_features_selected.npy')\n",
    "    #    corr_rfe_selected_list = np.load(os.path.join(out_dir, 'rfe_tex_features_selected.npy')).item()\n",
    "    corr_rfe_selected_list = np.load(os.path.join(out_dir,'rfe_%s_features_selected%s.npy' % (study.lower()[0:3],suffix))).item()\n",
    "    random_state_list = [2,4,6,8,10,12,14,16,18,20] \n",
    "\n",
    "    # For timing purpose\n",
    "    time_list = []\n",
    "\n",
    "    for fold in range(10):\n",
    "        print('%s fold number: %d' % (study, fold))\n",
    "        #t0 = time.time() python 2 vs python 3\n",
    "        t0 = time.time()\n",
    "\n",
    "        random_state = random_state_list[fold]\n",
    "\n",
    "        fold_dir = os.path.join(splitdir,'fold_' + str(fold))\n",
    "\n",
    "        #study_saved_model = data_dir_fold + 'saved_models/' + study + '_saved_model/'\n",
    "\n",
    "        # load data\n",
    "        (train_samples, train_features_pca, train_1p19q, train_age, \n",
    "         train_KPS, train_gender, train_id, train_fnames)= load_data.load_data('train',fold,study,ICC_filt)\n",
    "        (val_samples,val_features_pca, val_1p19q, val_age, \n",
    "         val_KPS, val_gender, val_id, val_fnames)= load_data.load_data('val',fold,study,ICC_filt)\n",
    "\n",
    "        feature_names = train_fnames\n",
    "\n",
    "        # conver 1,0 into string: 'codel' and 'non-codel'\n",
    "        train_1p19q_str = label_conversion(train_1p19q)\n",
    "        val_1p19q_str = label_conversion(val_1p19q)\n",
    "\n",
    "        # Create clinical variable df\n",
    "        clinical_names = ['age', 'KPS', 'gender']\n",
    "        train_clinical_df = pd.DataFrame(data = np.vstack((train_age, train_KPS, train_gender)).transpose(), \n",
    "                                            columns = clinical_names, index=train_1p19q_str)\n",
    "        val_clinical_df = pd.DataFrame(data = np.vstack((val_age, val_KPS, val_gender)).transpose(), \n",
    "                                            columns = clinical_names, index=val_1p19q_str)\n",
    "\n",
    "        # leave one group out for CV purpose later\n",
    "        logo = LeaveOneGroupOut()\n",
    "\n",
    "        for train_features, val_features, rfe_pca_flag in [(train_clinical_df, val_clinical_df,'clinical'),\n",
    "                                                           (train_samples, val_samples,'rfe')\n",
    "                                                          ]:\n",
    "\n",
    "            if rfe_pca_flag == 'rfe': # original features (i.e. non PCA features). This part needs to be filtered with corr_rfe selection\n",
    "                # create the pandas dataframes\n",
    "                train_features_df = pd.DataFrame(data=train_features, columns=feature_names, index=train_1p19q_str)\n",
    "                val_features_df = pd.DataFrame(data=val_features, columns=feature_names, index=val_1p19q_str)\n",
    "\n",
    "                # Remove Flatness and LeastAxis since they are all 0s for every sample\n",
    "                drop_features = ['shape_Flatness_', 'shape_LeastAxis_']\n",
    "                drop_features = [elemt + modal for modal in modal_list for elemt in drop_features]\n",
    "\n",
    "                train_features_df = train_features_df.drop(drop_features, axis=1, errors = 'ignore')\n",
    "                val_features_df = val_features_df.drop(drop_features, axis=1, errors = 'ignore')\n",
    "\n",
    "                # obtain feature names to select from corr + RFE\n",
    "                corr_rfe_selected = corr_rfe_selected_list[fold]\n",
    "\n",
    "                # only the corr rfe selected features\n",
    "                train_features_df = train_features_df[corr_rfe_selected]\n",
    "                val_features_df = val_features_df[corr_rfe_selected]\n",
    "\n",
    "            elif rfe_pca_flag == 'pca': #PCA features\n",
    "                # create the pandas dataframes\n",
    "                train_features_df = pd.DataFrame(data=train_features, index=train_1p19q_str)\n",
    "                val_features_df = pd.DataFrame(data=val_features, index=val_1p19q_str)\n",
    "            elif rfe_pca_flag == 'clinical': #PCA features\n",
    "                # create the pandas dataframes\n",
    "                train_features_df = pd.DataFrame(data=train_features, index=train_1p19q_str)\n",
    "                val_features_df = pd.DataFrame(data=val_features, index=val_1p19q_str)\n",
    "\n",
    "            # combine train and val for CV purpose\n",
    "            train_val_features_df = pd.concat([train_features_df, val_features_df], axis=0)\n",
    "            train_val_clinical_df = pd.concat([train_clinical_df, val_clinical_df], axis=0)\n",
    "            train_val_1p19q = np.append(train_1p19q, val_1p19q)\n",
    "            train_val_1p19q_str = train_1p19q_str + val_1p19q_str\n",
    "\n",
    "            # combine the membership as well for CV purpose\n",
    "            #train_val_group_membership = train_group_membership + val_group_membership\n",
    "            train_val_id = np.append(train_id, val_id)\n",
    "\n",
    "            # features + clinical \n",
    "            train_val_all_df = pd.concat([train_val_features_df, train_val_clinical_df], axis=1)\n",
    "\n",
    "\n",
    "\n",
    "            for sample_case in ['features', 'all']: #features without clinical vs features + clinical\n",
    "                # group kfold split (initially unused, donnie did leave one out)\n",
    "                # cross validation groups were too small, and it was causing errors\n",
    "                #if sample_case == 'features':\n",
    "                #elif sample_case == 'all':\n",
    "                if (rfe_pca_flag == 'clinical' and sample_case != 'features'):\n",
    "                    continue # only run clinical once through\n",
    "\n",
    "                for classifier in ['rf','logreg']:\n",
    "                    print(sample_case,classifier,rfe_pca_flag)\n",
    "                    if classifier == 'rf':\n",
    "                        estimator_instance = RandomForestClassifier() \n",
    "                        estimator_grid = RF_random_grid()\n",
    "\n",
    "                        n_iter = 100\n",
    "                        if sample_case == 'features':\n",
    "                            gkf = GroupKFold(n_splits=5) #5-fold cross-validation\n",
    "                            gkfSp = gkf.split(train_val_features_df,train_val_1p19q, groups = train_val_id)\n",
    "\n",
    "                            estimator = RandomizedSearchCV(\n",
    "                                estimator = estimator_instance, \n",
    "                                param_distributions = estimator_grid,\n",
    "                                scoring = 'roc_auc',\n",
    "                                #cv = logo.split(train_val_features_df, train_val_1p19q, groups = train_val_id),\n",
    "                                cv = gkfSp,\n",
    "                                verbose=2,\n",
    "                                random_state = random_state,\n",
    "                                n_iter = n_iter,\n",
    "                                refit = True,\n",
    "                                n_jobs = -1)\n",
    "\n",
    "                            estimator.fit(train_val_features_df, train_val_1p19q)\n",
    "\n",
    "                        elif sample_case == 'all':\n",
    "                            gkf = GroupKFold(n_splits=5) #5-fold cross-validation\n",
    "                            gkfSp = gkf.split(train_val_all_df,train_val_1p19q, groups = train_val_id)\n",
    "                            estimator = RandomizedSearchCV(\n",
    "                                estimator = estimator_instance, \n",
    "                                param_distributions = estimator_grid,\n",
    "                                scoring = 'roc_auc',\n",
    "                                #cv = logo.split(train_val_all_df, train_val_1p19q, groups = train_val_id),\n",
    "                                cv = gkfSp,\n",
    "                                verbose=2,\n",
    "                                random_state = random_state,\n",
    "                                n_iter = n_iter,\n",
    "                                refit = True,\n",
    "                                n_jobs = -1)\n",
    "                            estimator.fit(train_val_all_df, train_val_1p19q)\n",
    "\n",
    "                    elif classifier == 'logreg':\n",
    "                        estimator_instance = LogisticRegression()\n",
    "                        estimator_grid = Logreg_grid()\n",
    "\n",
    "                        if sample_case == 'features':\n",
    "                            gkf = GroupKFold(n_splits=5) #5-fold cross-validation\n",
    "                            gkfSp = gkf.split(train_val_features_df,train_val_1p19q, groups = train_val_id)\n",
    "\n",
    "                            estimator = GridSearchCV(\n",
    "                                estimator = estimator_instance, \n",
    "                                param_grid = estimator_grid,\n",
    "                                scoring = 'roc_auc',\n",
    "                                #cv = logo.split(train_val_features_df, train_val_1p19q, groups = train_val_id),\n",
    "                                cv = gkfSp,\n",
    "                                verbose=2,\n",
    "                                refit = True,\n",
    "                                n_jobs = -1)\n",
    "\n",
    "                            estimator.fit(train_val_features_df, train_val_1p19q)\n",
    "\n",
    "                        elif sample_case == 'all':\n",
    "                            gkf = GroupKFold(n_splits=5) #5-fold cross-validation\n",
    "                            gkfSp = gkf.split(train_val_all_df,train_val_1p19q, groups = train_val_id)\n",
    "                            estimator = GridSearchCV(\n",
    "                                estimator = estimator_instance, \n",
    "                                param_grid = estimator_grid,\n",
    "                                scoring = 'roc_auc',\n",
    "                                #cv = logo.split(train_val_all_df, train_val_1p19q, groups = train_val_id),\n",
    "                                cv = gkfSp,\n",
    "                                verbose=2,\n",
    "                                refit = True,\n",
    "                                n_jobs = -1)\n",
    "\n",
    "                            estimator.fit(train_val_all_df, train_val_1p19q)\n",
    "\n",
    "                    best_estimator = estimator.best_estimator_.__dict__\n",
    "                    best_score = estimator.best_score_\n",
    "\n",
    "                    # save models and train score\n",
    "\n",
    "    #                if rfe_pca_flag == 'rfe': # corr + rfe\n",
    "    #                    estimator_name = classifier + '_' + sample_case +'_rfe_' + str(fold) + '.npy'\n",
    "    #                    estimator_score_name = classifier + '_' + sample_case +'_rfe_' + str(fold) + '_best_cv_score.npy'\n",
    "\n",
    "    #                elif rfe_pca_flag == 'pca': # pca\n",
    "    #                    estimator_name = classifier + '_' + sample_case +'_pca_' + str(fold) + '.npy'\n",
    "    #                    estimator_score_name = classifier + '_' + sample_case +'_pca_' + str(fold) + '_best_cv_score.npy'\n",
    "    #                elif rfe_pca_flag == 'clinical': # pca\n",
    "    #                    estimator_name = classifier '_' + sample_case + '_clinical_' + str(fold) + '.npy'\n",
    "    #                    estimator_score_name = classifier'_' + sample_case + '_clinical_' + str(fold) + '_best_cv_score.npy'\n",
    "\n",
    "                    estimator_name = (classifier + '_' + sample_case + '_'\n",
    "                                      + rfe_pca_flag + '_' + str(fold) +suffix + '.npy')\n",
    "                    estimator_score_name =(classifier +  '_' + sample_case + '_'+ rfe_pca_flag \n",
    "                                           +'_' + str(fold) + '_best_cv_score'+suffix+'.npy')\n",
    "\n",
    "                    np.save(os.path.join(model_dir,estimator_name), best_estimator)\n",
    "                    np.save(os.path.join(model_dir,estimator_score_name), best_score)\n",
    "\n",
    "        t1 = time.time()\n",
    "        time_list.append((t1-t0)/60)\n",
    "        print('%s FOLD: %d DONE WITH TIME TAKEN (IN MIN): %g' % (study, fold, (t1-t0)/60))\n"
   ]
  },
  {
   "cell_type": "code",
   "execution_count": 57,
   "metadata": {},
   "outputs": [
    {
     "name": "stdout",
     "output_type": "stream",
     "text": [
      "texture fold number: 0\n",
      "features rf clin_ppt\n",
      "Fitting 5 folds for each of 100 candidates, totalling 500 fits\n"
     ]
    },
    {
     "name": "stderr",
     "output_type": "stream",
     "text": [
      "[Parallel(n_jobs=-1)]: Done  25 tasks      | elapsed:   19.0s\n",
      "[Parallel(n_jobs=-1)]: Done 146 tasks      | elapsed:  1.4min\n",
      "[Parallel(n_jobs=-1)]: Done 349 tasks      | elapsed:  3.0min\n",
      "[Parallel(n_jobs=-1)]: Done 500 out of 500 | elapsed:  3.9min finished\n"
     ]
    },
    {
     "name": "stdout",
     "output_type": "stream",
     "text": [
      "features logreg clin_ppt\n",
      "Fitting 5 folds for each of 18 candidates, totalling 90 fits\n"
     ]
    },
    {
     "name": "stderr",
     "output_type": "stream",
     "text": [
      "[Parallel(n_jobs=-1)]: Done  25 tasks      | elapsed:    4.3s\n",
      "[Parallel(n_jobs=-1)]: Done  75 out of  90 | elapsed:    4.4s remaining:    0.8s\n",
      "[Parallel(n_jobs=-1)]: Done  90 out of  90 | elapsed:    4.4s finished\n"
     ]
    },
    {
     "name": "stdout",
     "output_type": "stream",
     "text": [
      "texture FOLD: 0 DONE WITH TIME TAKEN (IN MIN): 4.04395\n",
      "texture fold number: 1\n",
      "features rf clin_ppt\n",
      "Fitting 5 folds for each of 100 candidates, totalling 500 fits\n"
     ]
    },
    {
     "name": "stderr",
     "output_type": "stream",
     "text": [
      "[Parallel(n_jobs=-1)]: Done  25 tasks      | elapsed:   14.5s\n",
      "[Parallel(n_jobs=-1)]: Done 146 tasks      | elapsed:  1.2min\n",
      "[Parallel(n_jobs=-1)]: Done 349 tasks      | elapsed:  2.4min\n",
      "[Parallel(n_jobs=-1)]: Done 500 out of 500 | elapsed:  3.3min finished\n"
     ]
    },
    {
     "name": "stdout",
     "output_type": "stream",
     "text": [
      "features logreg clin_ppt\n",
      "Fitting 5 folds for each of 18 candidates, totalling 90 fits\n"
     ]
    },
    {
     "name": "stderr",
     "output_type": "stream",
     "text": [
      "[Parallel(n_jobs=-1)]: Done  25 tasks      | elapsed:    6.3s\n",
      "[Parallel(n_jobs=-1)]: Done  90 out of  90 | elapsed:    8.5s finished\n"
     ]
    },
    {
     "name": "stdout",
     "output_type": "stream",
     "text": [
      "texture FOLD: 1 DONE WITH TIME TAKEN (IN MIN): 3.4899\n",
      "texture fold number: 2\n",
      "features rf clin_ppt\n",
      "Fitting 5 folds for each of 100 candidates, totalling 500 fits\n"
     ]
    },
    {
     "name": "stderr",
     "output_type": "stream",
     "text": [
      "[Parallel(n_jobs=-1)]: Done  25 tasks      | elapsed:   17.0s\n",
      "[Parallel(n_jobs=-1)]: Done 146 tasks      | elapsed:  1.4min\n",
      "[Parallel(n_jobs=-1)]: Done 349 tasks      | elapsed:  3.2min\n",
      "[Parallel(n_jobs=-1)]: Done 500 out of 500 | elapsed:  4.6min finished\n"
     ]
    },
    {
     "name": "stdout",
     "output_type": "stream",
     "text": [
      "features logreg clin_ppt\n",
      "Fitting 5 folds for each of 18 candidates, totalling 90 fits\n"
     ]
    },
    {
     "name": "stderr",
     "output_type": "stream",
     "text": [
      "[Parallel(n_jobs=-1)]: Done  25 tasks      | elapsed:    8.3s\n",
      "[Parallel(n_jobs=-1)]: Done  90 out of  90 | elapsed:   10.5s finished\n"
     ]
    },
    {
     "name": "stdout",
     "output_type": "stream",
     "text": [
      "texture FOLD: 2 DONE WITH TIME TAKEN (IN MIN): 4.93395\n",
      "texture fold number: 3\n",
      "features rf clin_ppt\n",
      "Fitting 5 folds for each of 100 candidates, totalling 500 fits\n"
     ]
    },
    {
     "name": "stderr",
     "output_type": "stream",
     "text": [
      "[Parallel(n_jobs=-1)]: Done  25 tasks      | elapsed:   20.5s\n",
      "[Parallel(n_jobs=-1)]: Done 146 tasks      | elapsed:  1.3min\n",
      "[Parallel(n_jobs=-1)]: Done 349 tasks      | elapsed:  2.9min\n",
      "[Parallel(n_jobs=-1)]: Done 500 out of 500 | elapsed:  3.8min finished\n"
     ]
    },
    {
     "name": "stdout",
     "output_type": "stream",
     "text": [
      "features logreg clin_ppt\n",
      "Fitting 5 folds for each of 18 candidates, totalling 90 fits\n"
     ]
    },
    {
     "name": "stderr",
     "output_type": "stream",
     "text": [
      "[Parallel(n_jobs=-1)]: Done  25 tasks      | elapsed:    6.7s\n",
      "[Parallel(n_jobs=-1)]: Done  90 out of  90 | elapsed:    8.8s finished\n"
     ]
    },
    {
     "name": "stdout",
     "output_type": "stream",
     "text": [
      "texture FOLD: 3 DONE WITH TIME TAKEN (IN MIN): 4.03163\n",
      "texture fold number: 4\n",
      "features rf clin_ppt\n",
      "Fitting 5 folds for each of 100 candidates, totalling 500 fits\n"
     ]
    },
    {
     "name": "stderr",
     "output_type": "stream",
     "text": [
      "[Parallel(n_jobs=-1)]: Done  25 tasks      | elapsed:   18.5s\n",
      "[Parallel(n_jobs=-1)]: Done 146 tasks      | elapsed:   57.0s\n",
      "[Parallel(n_jobs=-1)]: Done 349 tasks      | elapsed:  2.2min\n",
      "[Parallel(n_jobs=-1)]: Done 500 out of 500 | elapsed:  3.5min finished\n"
     ]
    },
    {
     "name": "stdout",
     "output_type": "stream",
     "text": [
      "features logreg clin_ppt\n",
      "Fitting 5 folds for each of 18 candidates, totalling 90 fits\n"
     ]
    },
    {
     "name": "stderr",
     "output_type": "stream",
     "text": [
      "[Parallel(n_jobs=-1)]: Done  25 tasks      | elapsed:    7.9s\n",
      "[Parallel(n_jobs=-1)]: Done  90 out of  90 | elapsed:   12.4s finished\n"
     ]
    },
    {
     "name": "stdout",
     "output_type": "stream",
     "text": [
      "texture FOLD: 4 DONE WITH TIME TAKEN (IN MIN): 3.84382\n",
      "texture fold number: 5\n",
      "features rf clin_ppt\n",
      "Fitting 5 folds for each of 100 candidates, totalling 500 fits\n"
     ]
    },
    {
     "name": "stderr",
     "output_type": "stream",
     "text": [
      "[Parallel(n_jobs=-1)]: Done  25 tasks      | elapsed:   19.4s\n",
      "[Parallel(n_jobs=-1)]: Done 146 tasks      | elapsed:  1.1min\n",
      "[Parallel(n_jobs=-1)]: Done 349 tasks      | elapsed:  3.0min\n",
      "[Parallel(n_jobs=-1)]: Done 500 out of 500 | elapsed:  4.3min finished\n"
     ]
    },
    {
     "name": "stdout",
     "output_type": "stream",
     "text": [
      "features logreg clin_ppt\n",
      "Fitting 5 folds for each of 18 candidates, totalling 90 fits\n"
     ]
    },
    {
     "name": "stderr",
     "output_type": "stream",
     "text": [
      "[Parallel(n_jobs=-1)]: Done  25 tasks      | elapsed:    9.1s\n",
      "[Parallel(n_jobs=-1)]: Done  75 out of  90 | elapsed:    9.6s remaining:    1.8s\n",
      "[Parallel(n_jobs=-1)]: Done  90 out of  90 | elapsed:   10.6s finished\n"
     ]
    },
    {
     "name": "stdout",
     "output_type": "stream",
     "text": [
      "texture FOLD: 5 DONE WITH TIME TAKEN (IN MIN): 4.51598\n",
      "texture fold number: 6\n",
      "features rf clin_ppt\n",
      "Fitting 5 folds for each of 100 candidates, totalling 500 fits\n"
     ]
    },
    {
     "name": "stderr",
     "output_type": "stream",
     "text": [
      "[Parallel(n_jobs=-1)]: Done  25 tasks      | elapsed:   17.9s\n",
      "[Parallel(n_jobs=-1)]: Done 146 tasks      | elapsed:  1.5min\n",
      "[Parallel(n_jobs=-1)]: Done 349 tasks      | elapsed:  2.7min\n",
      "[Parallel(n_jobs=-1)]: Done 500 out of 500 | elapsed:  3.7min finished\n"
     ]
    },
    {
     "name": "stdout",
     "output_type": "stream",
     "text": [
      "features logreg clin_ppt\n",
      "Fitting 5 folds for each of 18 candidates, totalling 90 fits\n"
     ]
    },
    {
     "name": "stderr",
     "output_type": "stream",
     "text": [
      "[Parallel(n_jobs=-1)]: Done  25 tasks      | elapsed:    6.2s\n",
      "[Parallel(n_jobs=-1)]: Done  90 out of  90 | elapsed:    6.9s finished\n"
     ]
    },
    {
     "name": "stdout",
     "output_type": "stream",
     "text": [
      "texture FOLD: 6 DONE WITH TIME TAKEN (IN MIN): 3.90635\n",
      "texture fold number: 7\n",
      "features rf clin_ppt\n",
      "Fitting 5 folds for each of 100 candidates, totalling 500 fits\n"
     ]
    },
    {
     "name": "stderr",
     "output_type": "stream",
     "text": [
      "[Parallel(n_jobs=-1)]: Done  25 tasks      | elapsed:   15.9s\n",
      "[Parallel(n_jobs=-1)]: Done 146 tasks      | elapsed:  1.1min\n",
      "[Parallel(n_jobs=-1)]: Done 349 tasks      | elapsed:  2.4min\n",
      "[Parallel(n_jobs=-1)]: Done 500 out of 500 | elapsed:  3.9min finished\n"
     ]
    },
    {
     "name": "stdout",
     "output_type": "stream",
     "text": [
      "features logreg clin_ppt\n",
      "Fitting 5 folds for each of 18 candidates, totalling 90 fits\n"
     ]
    },
    {
     "name": "stderr",
     "output_type": "stream",
     "text": [
      "[Parallel(n_jobs=-1)]: Done  25 tasks      | elapsed:    6.7s\n",
      "[Parallel(n_jobs=-1)]: Done  90 out of  90 | elapsed:    8.3s finished\n"
     ]
    },
    {
     "name": "stdout",
     "output_type": "stream",
     "text": [
      "texture FOLD: 7 DONE WITH TIME TAKEN (IN MIN): 4.05892\n",
      "texture fold number: 8\n",
      "features rf clin_ppt\n",
      "Fitting 5 folds for each of 100 candidates, totalling 500 fits\n"
     ]
    },
    {
     "name": "stderr",
     "output_type": "stream",
     "text": [
      "[Parallel(n_jobs=-1)]: Done  25 tasks      | elapsed:   25.0s\n",
      "[Parallel(n_jobs=-1)]: Done 146 tasks      | elapsed:  1.6min\n",
      "[Parallel(n_jobs=-1)]: Done 349 tasks      | elapsed:  3.4min\n",
      "[Parallel(n_jobs=-1)]: Done 500 out of 500 | elapsed:  4.1min finished\n"
     ]
    },
    {
     "name": "stdout",
     "output_type": "stream",
     "text": [
      "features logreg clin_ppt\n",
      "Fitting 5 folds for each of 18 candidates, totalling 90 fits\n"
     ]
    },
    {
     "name": "stderr",
     "output_type": "stream",
     "text": [
      "[Parallel(n_jobs=-1)]: Done  25 tasks      | elapsed:    5.7s\n",
      "[Parallel(n_jobs=-1)]: Done  90 out of  90 | elapsed:    5.8s finished\n"
     ]
    },
    {
     "name": "stdout",
     "output_type": "stream",
     "text": [
      "texture FOLD: 8 DONE WITH TIME TAKEN (IN MIN): 4.21357\n",
      "texture fold number: 9\n",
      "features rf clin_ppt\n",
      "Fitting 5 folds for each of 100 candidates, totalling 500 fits\n"
     ]
    },
    {
     "name": "stderr",
     "output_type": "stream",
     "text": [
      "[Parallel(n_jobs=-1)]: Done  25 tasks      | elapsed:    9.6s\n",
      "[Parallel(n_jobs=-1)]: Done 146 tasks      | elapsed:   34.9s\n",
      "[Parallel(n_jobs=-1)]: Done 349 tasks      | elapsed:  1.3min\n",
      "[Parallel(n_jobs=-1)]: Done 500 out of 500 | elapsed:  1.8min finished\n"
     ]
    },
    {
     "name": "stdout",
     "output_type": "stream",
     "text": [
      "features logreg clin_ppt\n",
      "Fitting 5 folds for each of 18 candidates, totalling 90 fits\n",
      "texture FOLD: 9 DONE WITH TIME TAKEN (IN MIN): 1.88663\n"
     ]
    },
    {
     "name": "stderr",
     "output_type": "stream",
     "text": [
      "[Parallel(n_jobs=-1)]: Done  25 tasks      | elapsed:    3.7s\n",
      "[Parallel(n_jobs=-1)]: Done  75 out of  90 | elapsed:    3.8s remaining:    0.7s\n",
      "[Parallel(n_jobs=-1)]: Done  90 out of  90 | elapsed:    3.8s finished\n"
     ]
    }
   ],
   "source": [
    "# modals\n",
    "modal_list = ['FLAIR','T1', 'T1post','T2']\n",
    "#study = 'CNN' # <== CHANGE HERE\n",
    "# study_list = ['texture','TDA','CNN']\n",
    "study_list = ['texture','TDA','CNN','cmb']\n",
    "study_list = ['texture']\n",
    "ICC_filt = 0\n",
    "if ICC_filt == 1:\n",
    "    suffix = '_icc2'\n",
    "else: \n",
    "    suffix = ''\n",
    "\n",
    "for study in study_list:\n",
    "    (origdir,basedir,imagedir,normdir,splitdir,out_dir,model_dir) = file_structure.file_dirs(study)\n",
    "    # load feature names and corr+rfe filtered feature names\n",
    "    #if study == 'TDA':\n",
    "    #    feature_names = np.load(data_dir + 'ph_feature_names.npy')\n",
    "    #    corr_rfe_selected_list = np.load(os.path.join(out_dir,'corr_rfe_ph_features_09.npy')).item()\n",
    "    #elif study == 'texture':\n",
    "    #    feature_names = np.load(data_dir + 'rfecv_tex_features_selected.npy')\n",
    "    #    corr_rfe_selected_list = np.load(os.path.join(out_dir, 'rfe_tex_features_selected.npy')).item()\n",
    "    corr_rfe_selected_list = np.load(os.path.join(out_dir,'rfe_%s_features_selected%s.npy' % (study.lower()[0:3],suffix))).item()\n",
    "    random_state_list = [2,4,6,8,10,12,14,16,18,20] \n",
    "\n",
    "    # For timing purpose\n",
    "    time_list = []\n",
    "#     if 1:\n",
    "#         fold = 0\n",
    "    for fold in range(10):\n",
    "        print('%s fold number: %d' % (study, fold))\n",
    "        #t0 = time.time() python 2 vs python 3\n",
    "        t0 = time.time()\n",
    "\n",
    "        random_state = random_state_list[fold]\n",
    "\n",
    "        fold_dir = os.path.join(splitdir,'fold_' + str(fold))\n",
    "\n",
    "        #study_saved_model = data_dir_fold + 'saved_models/' + study + '_saved_model/'\n",
    "\n",
    "        # load data\n",
    "        (train_samples, train_features_pca, train_1p19q, train_age, \n",
    "         train_KPS, train_gender, train_id, train_fnames)= load_data.load_data('train',fold,study,ICC_filt)\n",
    "        (val_samples,val_features_pca, val_1p19q, val_age, \n",
    "         val_KPS, val_gender, val_id, val_fnames)= load_data.load_data('val',fold,study,ICC_filt)\n",
    "\n",
    "        feature_names = train_fnames\n",
    "\n",
    "        # conver 1,0 into string: 'codel' and 'non-codel'\n",
    "        train_1p19q_str = label_conversion(train_1p19q)\n",
    "        val_1p19q_str = label_conversion(val_1p19q)\n",
    "\n",
    "        # Create clinical variable df\n",
    "        clinical_names = ['age', 'KPS', 'gender']\n",
    "        train_clinical_df = pd.DataFrame(data = np.vstack((train_age, train_KPS, train_gender)).transpose(), \n",
    "                                            columns = clinical_names, index=train_1p19q_str)\n",
    "        train_clin_by_pt_df = train_clinical_df.assign(pid = pd.Series(train_id).values)\n",
    "        train_clin_by_pt_df = train_clin_by_pt_df.groupby('pid').mean()\n",
    "        val_clinical_df = pd.DataFrame(data = np.vstack((val_age, val_KPS, val_gender)).transpose(), \n",
    "                                            columns = clinical_names, index=val_1p19q_str)\n",
    "        val_clin_by_pt_df = val_clinical_df.assign(pid = pd.Series(val_id).values)\n",
    "        val_clin_by_pt_df = val_clin_by_pt_df.groupby('pid').mean()\n",
    "        \n",
    "        for train_features, val_features, rfe_pca_flag in [(train_clin_by_pt_df, val_clin_by_pt_df,'clin_ppt')\n",
    "                                                          ]:\n",
    "\n",
    "            if rfe_pca_flag == 'rfe': # original features (i.e. non PCA features). This part needs to be filtered with corr_rfe selection\n",
    "                # create the pandas dataframes\n",
    "                train_features_df = pd.DataFrame(data=train_features, columns=feature_names, index=train_1p19q_str)\n",
    "                val_features_df = pd.DataFrame(data=val_features, columns=feature_names, index=val_1p19q_str)\n",
    "\n",
    "                # Remove Flatness and LeastAxis since they are all 0s for every sample\n",
    "                drop_features = ['shape_Flatness_', 'shape_LeastAxis_']\n",
    "                drop_features = [elemt + modal for modal in modal_list for elemt in drop_features]\n",
    "\n",
    "                train_features_df = train_features_df.drop(drop_features, axis=1, errors = 'ignore')\n",
    "                val_features_df = val_features_df.drop(drop_features, axis=1, errors = 'ignore')\n",
    "\n",
    "                # obtain feature names to select from corr + RFE\n",
    "                corr_rfe_selected = corr_rfe_selected_list[fold]\n",
    "\n",
    "                # only the corr rfe selected features\n",
    "                train_features_df = train_features_df[corr_rfe_selected]\n",
    "                val_features_df = val_features_df[corr_rfe_selected]\n",
    "\n",
    "            elif rfe_pca_flag == 'pca': #PCA features\n",
    "                # create the pandas dataframes\n",
    "                train_features_df = pd.DataFrame(data=train_features, index=train_1p19q_str)\n",
    "                val_features_df = pd.DataFrame(data=val_features, index=val_1p19q_str)\n",
    "            elif rfe_pca_flag == 'clinical':  #clinical variables\n",
    "                # create the pandas dataframes\n",
    "                train_features_df = pd.DataFrame(data=train_features, index=train_1p19q_str)\n",
    "                val_features_df = pd.DataFrame(data=val_features, index=val_1p19q_str)\n",
    "            elif rfe_pca_flag == 'clin_ppt':  #clinical per patient variables\n",
    "                # create the pandas dataframes\n",
    "                train_1p19q_df = pd.DataFrame(data=np.vstack((train_1p19q, train_id)).T, \n",
    "                                              columns=('1p19q','pid'), index=train_1p19q_str)\n",
    "                val_1p19q_df = pd.DataFrame(data=np.vstack((val_1p19q, val_id)).T, \n",
    "                                              columns=('1p19q','pid'), index=val_1p19q_str)\n",
    "                ct_1p19q = train_1p19q_df.groupby('pid')['1p19q'].mean().values\n",
    "                cv_1p19q = val_1p19q_df.groupby('pid')['1p19q'].mean().values\n",
    "                train_val_1p19q = np.append(ct_1p19q,cv_1p19q)\n",
    "                train_val_1p19q_str = label_conversion(train_val_1p19q)\n",
    "                \n",
    "                train_features_df = pd.DataFrame(data=train_features.values, columns=clinical_names, index=label_conversion(ct_1p19q))\n",
    "                val_features_df = pd.DataFrame(data=val_features.values, columns=clinical_names, index=label_conversion(cv_1p19q))\n",
    "\n",
    "            # combine train and val for CV purpose\n",
    "            train_val_features_df = pd.concat([train_features_df, val_features_df], axis=0)\n",
    "            train_val_clinical_df = pd.concat([train_clinical_df, val_clinical_df], axis=0)\n",
    "\n",
    "            # combine the membership as well for CV purpose\n",
    "            #train_val_group_membership = train_group_membership + val_group_membership\n",
    "            train_val_id = np.append(train_id, val_id)\n",
    "\n",
    "            \n",
    "            if rfe_pca_flag == 'clin_ppt': #clinical per patient variables\n",
    "                train_val_id = np.append(train_clin_by_pt_df.index.values, val_clin_by_pt_df.index.values)\n",
    "            else:\n",
    "                train_val_1p19q = np.append(train_1p19q, val_1p19q)\n",
    "                train_val_1p19q_str = train_1p19q_str + val_1p19q_str\n",
    "                # features + clinical \n",
    "                train_val_all_df = pd.concat([train_val_features_df, train_val_clinical_df], axis=1)\n",
    "\n",
    "\n",
    "            for sample_case in ['features', 'all']: #features without clinical vs features + clinical\n",
    "                # group kfold split (initially unused, donnie did leave one out)\n",
    "                # cross validation groups were too small, and it was causing errors\n",
    "                #if sample_case == 'features':\n",
    "                #elif sample_case == 'all':\n",
    "                if ((rfe_pca_flag == 'clinical' or rfe_pca_flag == 'clin_ppt') and sample_case != 'features'):\n",
    "                    continue # only run clinical once through\n",
    "\n",
    "                for classifier in ['rf','logreg']:\n",
    "                    print(sample_case,classifier,rfe_pca_flag)\n",
    "                    if classifier == 'rf':\n",
    "                        estimator_instance = RandomForestClassifier() \n",
    "                        estimator_grid = RF_random_grid()\n",
    "\n",
    "                        n_iter = 100\n",
    "                        if sample_case == 'features':\n",
    "                            gkf = GroupKFold(n_splits=5) #5-fold cross-validation\n",
    "                            if rfe_pca_flag == 'clin_ppt':\n",
    "                                gkf = StratifiedKFold(n_splits=5)\n",
    "                            gkfSp = gkf.split(train_val_features_df,train_val_1p19q, groups = train_val_id)\n",
    "\n",
    "                            estimator = RandomizedSearchCV(\n",
    "                                estimator = estimator_instance, \n",
    "                                param_distributions = estimator_grid,\n",
    "                                scoring = 'roc_auc',\n",
    "                                #cv = logo.split(train_val_features_df, train_val_1p19q, groups = train_val_id),\n",
    "                                cv = gkfSp,\n",
    "                                verbose=2,\n",
    "                                random_state = random_state,\n",
    "                                n_iter = n_iter,\n",
    "                                refit = True,\n",
    "                                n_jobs = -1)\n",
    "\n",
    "                            estimator.fit(train_val_features_df, train_val_1p19q)\n",
    "\n",
    "                        elif sample_case == 'all':\n",
    "                            gkf = GroupKFold(n_splits=5) #5-fold cross-validation\n",
    "                            gkfSp = gkf.split(train_val_all_df,train_val_1p19q, groups = train_val_id)\n",
    "                            estimator = RandomizedSearchCV(\n",
    "                                estimator = estimator_instance, \n",
    "                                param_distributions = estimator_grid,\n",
    "                                scoring = 'roc_auc',\n",
    "                                #cv = logo.split(train_val_all_df, train_val_1p19q, groups = train_val_id),\n",
    "                                cv = gkfSp,\n",
    "                                verbose=2,\n",
    "                                random_state = random_state,\n",
    "                                n_iter = n_iter,\n",
    "                                refit = True,\n",
    "                                n_jobs = -1)\n",
    "                            estimator.fit(train_val_all_df, train_val_1p19q)\n",
    "\n",
    "                    elif classifier == 'logreg':\n",
    "                        estimator_instance = LogisticRegression()\n",
    "                        estimator_grid = Logreg_grid()\n",
    "\n",
    "                        if sample_case == 'features':\n",
    "                            gkf = GroupKFold(n_splits=5) #5-fold cross-validation\n",
    "                            if rfe_pca_flag == 'clin_ppt':\n",
    "                                gkf = StratifiedKFold(n_splits=5)\n",
    "                            gkfSp = gkf.split(train_val_features_df,train_val_1p19q, groups = train_val_id)\n",
    "                            \n",
    "                            estimator = GridSearchCV(\n",
    "                                estimator = estimator_instance, \n",
    "                                param_grid = estimator_grid,\n",
    "                                scoring = 'roc_auc',\n",
    "                                #cv = logo.split(train_val_features_df, train_val_1p19q, groups = train_val_id),\n",
    "                                cv = gkfSp,\n",
    "                                verbose=2,\n",
    "                                refit = True,\n",
    "                                n_jobs = -1)\n",
    "\n",
    "                            estimator.fit(train_val_features_df, train_val_1p19q)\n",
    "                    elif sample_case == 'all':\n",
    "                            gkf = GroupKFold(n_splits=5) #5-fold cross-validation\n",
    "                            gkfSp = gkf.split(train_val_all_df,train_val_1p19q, groups = train_val_id)\n",
    "                            estimator = GridSearchCV(\n",
    "                                estimator = estimator_instance, \n",
    "                                param_grid = estimator_grid,\n",
    "                                scoring = 'roc_auc',\n",
    "                                #cv = logo.split(train_val_all_df, train_val_1p19q, groups = train_val_id),\n",
    "                                cv = gkfSp,\n",
    "                                verbose=2,\n",
    "                                refit = True,\n",
    "                                n_jobs = -1)\n",
    "\n",
    "                            estimator.fit(train_val_all_df, train_val_1p19q)\n",
    "\n",
    "                    best_estimator = estimator.best_estimator_.__dict__\n",
    "                    best_score = estimator.best_score_\n",
    "                    \n",
    "                    estimator_name = (classifier + '_' + sample_case + '_'\n",
    "                                      + rfe_pca_flag + '_' + str(fold) +suffix + '.npy')\n",
    "                    estimator_score_name =(classifier +  '_' + sample_case + '_'+ rfe_pca_flag \n",
    "                                           +'_' + str(fold) + '_best_cv_score'+suffix+'.npy')\n",
    "\n",
    "                    np.save(os.path.join(model_dir,estimator_name), best_estimator)\n",
    "                    np.save(os.path.join(model_dir,estimator_score_name), best_score)\n",
    "\n",
    "        t1 = time.time()\n",
    "        time_list.append((t1-t0)/60)\n",
    "        print('%s FOLD: %d DONE WITH TIME TAKEN (IN MIN): %g' % (study, fold, (t1-t0)/60))\n"
   ]
  },
  {
   "cell_type": "code",
   "execution_count": 58,
   "metadata": {},
   "outputs": [
    {
     "name": "stdout",
     "output_type": "stream",
     "text": [
      "            age    KPS  gender\n",
      "non-codel  56.0   80.0     1.0\n",
      "non-codel  61.0   80.0     1.0\n",
      "non-codel  18.0   80.0     1.0\n",
      "non-codel  33.0  100.0     1.0\n",
      "non-codel  54.0  100.0     0.0\n",
      "non-codel  74.0   80.0     1.0\n",
      "non-codel  61.0   60.0     0.0\n",
      "non-codel  44.0   80.0     1.0\n",
      "non-codel  57.0   80.0     0.0\n",
      "non-codel  31.0   80.0     1.0\n",
      "non-codel  70.0   80.0     0.0\n",
      "non-codel  63.0   80.0     0.0\n",
      "non-codel  63.0   80.0     1.0\n",
      "non-codel  45.0  100.0     1.0\n",
      "non-codel  51.0   80.0     0.0\n",
      "non-codel  84.0   80.0     1.0\n",
      "non-codel  54.0   80.0     0.0\n",
      "non-codel  43.0   80.0     0.0\n",
      "non-codel  53.0   80.0     1.0\n",
      "non-codel  73.0   80.0     0.0\n",
      "non-codel  34.0   80.0     0.0\n",
      "non-codel  63.0   80.0     0.0\n",
      "non-codel  54.0  100.0     0.0\n",
      "non-codel  69.0   60.0     0.0\n",
      "non-codel  71.0  100.0     0.0\n",
      "non-codel  62.0   80.0     0.0\n",
      "non-codel  58.0  100.0     0.0\n",
      "non-codel  57.0   90.0     0.0\n",
      "non-codel  71.0   80.0     0.0\n",
      "non-codel  60.0   80.0     0.0\n",
      "...         ...    ...     ...\n",
      "non-codel  70.0   80.0     0.0\n",
      "non-codel  62.0   50.0     1.0\n",
      "non-codel  27.0   90.0     1.0\n",
      "codel      74.0   90.0     1.0\n",
      "non-codel  23.0  100.0     1.0\n",
      "non-codel  63.0   80.0     0.0\n",
      "codel      28.0   80.0     0.0\n",
      "non-codel  28.0   80.0     0.0\n",
      "non-codel  21.0   80.0     0.0\n",
      "non-codel  29.0   80.0     1.0\n",
      "codel      60.0   90.0     0.0\n",
      "non-codel  31.0   80.0     0.0\n",
      "non-codel  32.0   80.0     0.0\n",
      "non-codel  30.0   80.0     1.0\n",
      "non-codel  20.0   80.0     1.0\n",
      "non-codel  56.0   80.0     1.0\n",
      "non-codel  61.0   80.0     1.0\n",
      "non-codel  63.0   80.0     1.0\n",
      "non-codel  81.0   80.0     0.0\n",
      "non-codel  54.0  100.0     0.0\n",
      "non-codel  49.0  100.0     1.0\n",
      "non-codel  30.0  100.0     1.0\n",
      "non-codel  63.0   80.0     0.0\n",
      "non-codel  50.0   90.0     0.0\n",
      "non-codel  58.0   90.0     0.0\n",
      "non-codel  25.0   80.0     0.0\n",
      "non-codel  33.0   90.0     0.0\n",
      "codel      55.0   70.0     1.0\n",
      "non-codel  46.0   80.0     1.0\n",
      "non-codel  27.0  100.0     1.0\n",
      "\n",
      "[109 rows x 3 columns] [0. 0. 0. 0. 0. 0. 0. 0. 0. 0. 0. 0. 0. 0. 0. 0. 0. 0. 0. 0. 0. 0. 0. 0.\n",
      " 0. 0. 0. 0. 0. 0. 0. 0. 0. 0. 0. 0. 0. 0. 0. 0. 0. 0. 0. 0. 0. 0. 0. 0.\n",
      " 0. 0. 0. 0. 0. 0. 0. 0. 1. 0. 0. 1. 0. 0. 0. 0. 0. 1. 0. 0. 0. 1. 0. 1.\n",
      " 1. 0. 0. 0. 0. 0. 0. 0. 0. 0. 1. 0. 0. 1. 0. 0. 0. 1. 0. 0. 0. 0. 0. 0.\n",
      " 0. 0. 0. 0. 0. 0. 0. 0. 0. 0. 1. 0. 0.]\n",
      "(350,) (109,) (109,)\n"
     ]
    }
   ],
   "source": [
    "print(train_val_features_df, train_val_1p19q)\n",
    "print(train_1p19q.shape,train_val_1p19q.shape,train_val_id.shape)"
   ]
  },
  {
   "cell_type": "code",
   "execution_count": 63,
   "metadata": {},
   "outputs": [
    {
     "name": "stdout",
     "output_type": "stream",
     "text": [
      "texture fold number: 0\n",
      "texture fold number: 1\n",
      "texture fold number: 2\n",
      "texture fold number: 3\n",
      "texture fold number: 4\n",
      "texture fold number: 5\n",
      "texture fold number: 6\n",
      "texture fold number: 7\n",
      "texture fold number: 8\n",
      "texture fold number: 9\n",
      "TDA fold number: 0\n",
      "TDA fold number: 1\n",
      "TDA fold number: 2\n",
      "TDA fold number: 3\n",
      "TDA fold number: 4\n",
      "TDA fold number: 5\n",
      "TDA fold number: 6\n",
      "TDA fold number: 7\n",
      "TDA fold number: 8\n",
      "TDA fold number: 9\n",
      "CNN fold number: 0\n",
      "CNN fold number: 1\n",
      "CNN fold number: 2\n",
      "CNN fold number: 3\n",
      "CNN fold number: 4\n",
      "CNN fold number: 5\n",
      "CNN fold number: 6\n",
      "CNN fold number: 7\n",
      "CNN fold number: 8\n",
      "CNN fold number: 9\n",
      "cmb fold number: 0\n",
      "cmb fold number: 1\n",
      "cmb fold number: 2\n",
      "cmb fold number: 3\n",
      "cmb fold number: 4\n",
      "cmb fold number: 5\n",
      "cmb fold number: 6\n",
      "cmb fold number: 7\n",
      "cmb fold number: 8\n",
      "cmb fold number: 9\n"
     ]
    }
   ],
   "source": [
    "study_list = ['texture','TDA','CNN','cmb']\n",
    "for study in study_list:\n",
    "    (origdir,basedir,imagedir,normdir,splitdir,out_dir,model_dir) = file_structure.file_dirs(study)\n",
    "    # load feature names and corr+rfe filtered feature names\n",
    "    #if study == 'TDA':\n",
    "    #    feature_names = np.load(data_dir + 'ph_feature_names.npy')\n",
    "    #    corr_rfe_selected_list = np.load(os.path.join(out_dir,'corr_rfe_ph_features_09.npy')).item()\n",
    "    #elif study == 'texture':\n",
    "    #    feature_names = np.load(data_dir + 'rfecv_tex_features_selected.npy')\n",
    "    #    corr_rfe_selected_list = np.load(os.path.join(out_dir, 'rfe_tex_features_selected.npy')).item()\n",
    "    corr_rfe_selected_list = np.load(os.path.join(out_dir,'rfe_%s_features_selected%s.npy' % (study.lower()[0:3],suffix))).item()\n",
    "    random_state_list = [2,4,6,8,10,12,14,16,18,20] \n",
    "\n",
    "    # For timing purpose\n",
    "    time_list = []\n",
    "\n",
    "    for fold in range(10):\n",
    "        print('%s fold number: %d' % (study, fold))\n",
    "        #t0 = time.time() python 2 vs python 3\n",
    "        t0 = time.time()\n",
    "\n",
    "        random_state = random_state_list[fold]\n",
    "\n",
    "        fold_dir = os.path.join(splitdir,'fold_' + str(fold))\n",
    "\n",
    "        #study_saved_model = data_dir_fold + 'saved_models/' + study + '_saved_model/'\n",
    "\n",
    "        # load data\n",
    "        (train_samples, train_features_pca, train_1p19q, train_age, \n",
    "         train_KPS, train_gender, train_id, train_fnames)= load_data.load_data('train',fold,study,ICC_filt)\n",
    "        (val_samples,val_features_pca, val_1p19q, val_age, \n",
    "         val_KPS, val_gender, val_id, val_fnames)= load_data.load_data('val',fold,study,ICC_filt)\n",
    "        \n",
    "        feature_names = train_fnames\n",
    "        # add PID to DF\n",
    "        test_samples = np.hstack((np.expand_dims(test_id,1),test_samples))\n",
    "        feature_names  =np.hstack((['pid'],feature_names))\n",
    "        \n",
    "        \n",
    "        # conver 1,0 into string: 'codel' and 'non-codel'\n",
    "        train_1p19q_str = label_conversion(train_1p19q)\n",
    "        val_1p19q_str = label_conversion(val_1p19q)\n",
    "\n",
    "        # Create clinical variable df\n",
    "        clinical_names = ['age', 'KPS', 'gender']\n",
    "        train_clinical_df = pd.DataFrame(data = np.vstack((train_age, train_KPS, train_gender)).transpose(), \n",
    "                                            columns = clinical_names, index=train_1p19q_str)\n",
    "        val_clinical_df = pd.DataFrame(data = np.vstack((val_age, val_KPS, val_gender)).transpose(), \n",
    "                                            columns = clinical_names, index=val_1p19q_str)\n",
    "\n",
    "        # leave one group out for CV purpose later\n",
    "        logo = LeaveOneGroupOut()\n",
    "\n",
    "        for train_features, val_features, rfe_pca_flag in [(train_features_pca, val_features_pca,'pca'),\n",
    "                                                           (train_clinical_df, val_clinical_df,'clinical'),\n",
    "                                                           (train_samples, val_samples,'rfe')\n",
    "                                                          ]:\n",
    "\n",
    "            if rfe_pca_flag == 'rfe': # original features (i.e. non PCA features). This part needs to be filtered with corr_rfe selection\n",
    "                # create the pandas dataframes\n",
    "                train_features_df = pd.DataFrame(data=train_features, columns=feature_names, index=train_1p19q_str)\n",
    "                val_features_df = pd.DataFrame(data=val_features, columns=feature_names, index=val_1p19q_str)\n",
    "\n",
    "                # Remove Flatness and LeastAxis since they are all 0s for every sample\n",
    "                drop_features = ['shape_Flatness_', 'shape_LeastAxis_']\n",
    "                drop_features = [elemt + modal for modal in modal_list for elemt in drop_features]\n",
    "\n",
    "                train_features_df = train_features_df.drop(drop_features, axis=1, errors = 'ignore')\n",
    "                val_features_df = val_features_df.drop(drop_features, axis=1, errors = 'ignore')\n",
    "\n",
    "                # obtain feature names to select from corr + RFE\n",
    "                corr_rfe_selected = corr_rfe_selected_list[fold]\n",
    "\n",
    "                # only the corr rfe selected features\n",
    "                train_features_df = train_features_df[corr_rfe_selected]\n",
    "                val_features_df = val_features_df[corr_rfe_selected]\n",
    "\n",
    "            elif rfe_pca_flag == 'pca': #PCA features\n",
    "                # create the pandas dataframes\n",
    "                train_features_df = pd.DataFrame(data=train_features, index=train_1p19q_str)\n",
    "                val_features_df = pd.DataFrame(data=val_features, index=val_1p19q_str)\n",
    "            elif rfe_pca_flag == 'clinical': #PCA features\n",
    "                # create the pandas dataframes\n",
    "                train_features_df = pd.DataFrame(data=train_features, index=train_1p19q_str)\n",
    "                val_features_df = pd.DataFrame(data=val_features, index=val_1p19q_str)\n",
    "\n",
    "            # combine train and val for CV purpose\n",
    "            train_val_features_df = pd.concat([train_features_df, val_features_df], axis=0)\n",
    "            train_val_clinical_df = pd.concat([train_clinical_df, val_clinical_df], axis=0)\n",
    "            train_val_1p19q = np.append(train_1p19q, val_1p19q)\n",
    "            train_val_1p19q_str = train_1p19q_str + val_1p19q_str\n",
    "\n",
    "            # combine the membership as well for CV purpose\n",
    "            #train_val_group_membership = train_group_membership + val_group_membership\n",
    "            train_val_id = np.append(train_id, val_id)\n",
    "\n",
    "            # features + clinical \n",
    "            train_val_all_df = pd.concat([train_val_features_df, train_val_clinical_df], axis=1)\n",
    "            # save to excel\n",
    "            output_name = ('training'+'_'+study + '_' + rfe_pca_flag + '_' + str(fold) +suffix + '.csv')\n",
    "            train_val_features_df.to_csv(os.path.join(out_dir,output_name))\n",
    "    "
   ]
  },
  {
   "cell_type": "code",
   "execution_count": 14,
   "metadata": {},
   "outputs": [
    {
     "name": "stdout",
     "output_type": "stream",
     "text": [
      "texture fold number: 0\n",
      "texture fold number: 1\n",
      "texture fold number: 2\n",
      "texture fold number: 3\n",
      "texture fold number: 4\n",
      "texture fold number: 5\n",
      "texture fold number: 6\n",
      "texture fold number: 7\n",
      "texture fold number: 8\n",
      "texture fold number: 9\n",
      "TDA fold number: 0\n",
      "TDA fold number: 1\n",
      "TDA fold number: 2\n",
      "TDA fold number: 3\n",
      "TDA fold number: 4\n",
      "TDA fold number: 5\n",
      "TDA fold number: 6\n",
      "TDA fold number: 7\n",
      "TDA fold number: 8\n",
      "TDA fold number: 9\n",
      "CNN fold number: 0\n",
      "CNN fold number: 1\n",
      "CNN fold number: 2\n",
      "CNN fold number: 3\n",
      "CNN fold number: 4\n",
      "CNN fold number: 5\n",
      "CNN fold number: 6\n",
      "CNN fold number: 7\n",
      "CNN fold number: 8\n",
      "CNN fold number: 9\n",
      "cmb fold number: 0\n",
      "cmb fold number: 1\n",
      "cmb fold number: 2\n",
      "cmb fold number: 3\n",
      "cmb fold number: 4\n",
      "cmb fold number: 5\n",
      "cmb fold number: 6\n",
      "cmb fold number: 7\n",
      "cmb fold number: 8\n",
      "cmb fold number: 9\n"
     ]
    }
   ],
   "source": [
    "study_list = ['texture','TDA','CNN','cmb']\n",
    "ICC_filt = 0\n",
    "if ICC_filt == 1:\n",
    "    suffix = '_icc2'\n",
    "else: \n",
    "    suffix = ''\n",
    "\n",
    "for study in study_list:\n",
    "\n",
    "    (origdir,basedir,imagedir,normdir,splitdir,out_dir,model_dir) = file_structure.file_dirs(study)\n",
    "    corr_rfe_selected_list = np.load(os.path.join(out_dir,'rfe_%s_features_selected%s.npy' % (study.lower()[0:3],suffix))).item()\n",
    "    random_state_list = [2,4,6,8,10,12,14,16,18,20] \n",
    "\n",
    "\n",
    "    res_arr = []\n",
    "    for fold in range(10):\n",
    "        result = {}\n",
    "        print('%s fold number: %d' % (study, fold))\n",
    "        #(train_samples, train_pca , train_1p19q, train_age, train_KPS, train_gender, train_id, train_fnames)= load_data.load_data('train',fold)\n",
    "        #(val_samples, val_pca , val_1p19q, val_age, val_KPS, val_gender, val_id, val_fnames)= load_data.load_data('val',fold)\n",
    "        (test_samples, test_pca , test_1p19q, test_age,\n",
    "         test_KPS, test_gender, test_id, feature_names)= load_data.load_data('test',fold, study,ICC_filt)\n",
    "        \n",
    "        # add PID to DF\n",
    "        test_samples = np.hstack((np.expand_dims(test_id,1),test_samples))\n",
    "        feature_names  =np.hstack((['pid'],feature_names))\n",
    "        \n",
    "        \n",
    "        \n",
    "        fold_dir = os.path.join(splitdir,'fold_' + str(fold))\n",
    "\n",
    "        # convert 1,0 into string: 'codel' and 'non-codel'\n",
    "        test_1p19q_str = label_conversion(test_1p19q)\n",
    "\n",
    "        # create the pandas dataframes\n",
    "        data_test_imaging = pd.DataFrame(data=test_samples, columns=feature_names, index=test_1p19q_str)\n",
    "\n",
    "        clinical_names = ['age', 'KPS', 'gender']\n",
    "        test_clinical_df = pd.DataFrame(data = np.vstack((test_age, test_KPS, test_gender)).transpose(),\n",
    "                                        columns = clinical_names, index=test_1p19q_str)\n",
    "        test_clin_by_pt_df = test_clinical_df.assign(pid = pd.Series(test_id).values)\n",
    "        test_clin_by_pt_df = test_clin_by_pt_df.groupby('pid').mean()\n",
    "        #data_test_age = pd.DataFrame(data = np.hstack((test_age)), columns = ['age'], index=test_1p19q_str)\n",
    "\n",
    "\n",
    "#         for test_features, rfe_pca_flag in [(test_clin_by_pt_df,'clin_ppt')]:\n",
    "        for test_features, rfe_pca_flag in [(test_clinical_df,'clinical'),\n",
    "                                            (test_samples,'rfe'),\n",
    "                                            (test_pca,'pca')]:\n",
    "\n",
    "            if rfe_pca_flag == 'rfe': # original features (i.e. non PCA features). This part needs to be filtered with corr_rfe selection\n",
    "                # create the pandas dataframes\n",
    "                test_features_df = pd.DataFrame(data=test_features, columns=feature_names, index=test_1p19q_str)\n",
    "\n",
    "                # Remove Flatness and LeastAxis since they are all 0s for every sample\n",
    "                drop_features = ['shape_Flatness_', 'shape_LeastAxis_']\n",
    "                drop_features = [elemt + modal for modal in modal_list for elemt in drop_features]\n",
    "\n",
    "                test_features_df = test_features_df.drop(drop_features, axis=1 , errors = 'ignore')\n",
    "\n",
    "                # obtain feature names to select from corr + RFE\n",
    "                corr_rfe_selected = corr_rfe_selected_list[fold]\n",
    "\n",
    "                # only the corr rfe selected features\n",
    "                test_features_df = test_features_df[corr_rfe_selected]\n",
    "\n",
    "            elif rfe_pca_flag == 'pca': #PCA features\n",
    "                # create the pandas dataframes            \n",
    "                test_features_df = pd.DataFrame(data=test_features, index=test_1p19q_str)\n",
    "\n",
    "            elif rfe_pca_flag == 'clinical': #PCA features\n",
    "                if study != 'cmb':\n",
    "                    continue\n",
    "                # create the pandas dataframes            \n",
    "                test_features_df = pd.DataFrame(data=test_features, index=test_1p19q_str)\n",
    "            \n",
    "            output_name = ('testing'+'_'+study+'_' + rfe_pca_flag + '_' + str(fold) +suffix + '.csv')\n",
    "            \n",
    "            test_features_df.to_csv(os.path.join(out_dir,output_name))"
   ]
  },
  {
   "cell_type": "code",
   "execution_count": 10,
   "metadata": {},
   "outputs": [
    {
     "name": "stdout",
     "output_type": "stream",
     "text": [
      "(112,)\n",
      "(112, 239)\n"
     ]
    }
   ],
   "source": [
    "print(test_id.shape)\n",
    "print(test_samples.shape)"
   ]
  },
  {
   "cell_type": "code",
   "execution_count": 3,
   "metadata": {},
   "outputs": [
    {
     "name": "stdout",
     "output_type": "stream",
     "text": [
      "texture fold number: 0\n",
      "features rf pca\n",
      "Fitting 5 folds for each of 100 candidates, totalling 500 fits\n"
     ]
    },
    {
     "name": "stderr",
     "output_type": "stream",
     "text": [
      "[Parallel(n_jobs=-1)]: Done  25 tasks      | elapsed:   15.2s\n",
      "[Parallel(n_jobs=-1)]: Done 146 tasks      | elapsed:  1.1min\n",
      "[Parallel(n_jobs=-1)]: Done 349 tasks      | elapsed:  2.3min\n",
      "[Parallel(n_jobs=-1)]: Done 500 out of 500 | elapsed:  2.9min finished\n"
     ]
    },
    {
     "name": "stdout",
     "output_type": "stream",
     "text": [
      "features logreg pca\n",
      "Fitting 5 folds for each of 18 candidates, totalling 90 fits\n"
     ]
    },
    {
     "name": "stderr",
     "output_type": "stream",
     "text": [
      "[Parallel(n_jobs=-1)]: Done  25 tasks      | elapsed:    3.7s\n",
      "[Parallel(n_jobs=-1)]: Done  75 out of  90 | elapsed:    3.8s remaining:    0.7s\n",
      "[Parallel(n_jobs=-1)]: Done  90 out of  90 | elapsed:    3.9s finished\n"
     ]
    },
    {
     "name": "stdout",
     "output_type": "stream",
     "text": [
      "all rf pca\n",
      "Fitting 5 folds for each of 100 candidates, totalling 500 fits\n"
     ]
    },
    {
     "name": "stderr",
     "output_type": "stream",
     "text": [
      "[Parallel(n_jobs=-1)]: Done  25 tasks      | elapsed:    8.2s\n",
      "[Parallel(n_jobs=-1)]: Done 146 tasks      | elapsed:   41.1s\n",
      "[Parallel(n_jobs=-1)]: Done 349 tasks      | elapsed:  1.4min\n",
      "[Parallel(n_jobs=-1)]: Done 500 out of 500 | elapsed:  2.0min finished\n"
     ]
    },
    {
     "name": "stdout",
     "output_type": "stream",
     "text": [
      "all logreg pca\n",
      "Fitting 5 folds for each of 18 candidates, totalling 90 fits\n"
     ]
    },
    {
     "name": "stderr",
     "output_type": "stream",
     "text": [
      "[Parallel(n_jobs=-1)]: Done  25 tasks      | elapsed:    3.6s\n",
      "[Parallel(n_jobs=-1)]: Done  75 out of  90 | elapsed:    3.7s remaining:    0.7s\n",
      "[Parallel(n_jobs=-1)]: Done  90 out of  90 | elapsed:    3.9s finished\n"
     ]
    },
    {
     "name": "stdout",
     "output_type": "stream",
     "text": [
      "features rf clinical\n",
      "Fitting 5 folds for each of 100 candidates, totalling 500 fits\n"
     ]
    },
    {
     "name": "stderr",
     "output_type": "stream",
     "text": [
      "[Parallel(n_jobs=-1)]: Done  25 tasks      | elapsed:   12.8s\n",
      "[Parallel(n_jobs=-1)]: Done 146 tasks      | elapsed:  1.0min\n",
      "[Parallel(n_jobs=-1)]: Done 349 tasks      | elapsed:  2.0min\n",
      "[Parallel(n_jobs=-1)]: Done 500 out of 500 | elapsed:  2.9min finished\n"
     ]
    },
    {
     "name": "stdout",
     "output_type": "stream",
     "text": [
      "features logreg clinical\n",
      "Fitting 5 folds for each of 18 candidates, totalling 90 fits\n"
     ]
    },
    {
     "name": "stderr",
     "output_type": "stream",
     "text": [
      "[Parallel(n_jobs=-1)]: Done  25 tasks      | elapsed:    5.6s\n",
      "[Parallel(n_jobs=-1)]: Done  90 out of  90 | elapsed:    7.6s finished\n"
     ]
    },
    {
     "name": "stdout",
     "output_type": "stream",
     "text": [
      "features rf rfe\n",
      "Fitting 5 folds for each of 100 candidates, totalling 500 fits\n"
     ]
    },
    {
     "name": "stderr",
     "output_type": "stream",
     "text": [
      "[Parallel(n_jobs=-1)]: Done  25 tasks      | elapsed:   13.8s\n",
      "[Parallel(n_jobs=-1)]: Done 146 tasks      | elapsed:  1.1min\n",
      "[Parallel(n_jobs=-1)]: Done 349 tasks      | elapsed:  2.2min\n",
      "[Parallel(n_jobs=-1)]: Done 500 out of 500 | elapsed:  2.7min finished\n"
     ]
    },
    {
     "name": "stdout",
     "output_type": "stream",
     "text": [
      "features logreg rfe\n",
      "Fitting 5 folds for each of 18 candidates, totalling 90 fits\n"
     ]
    },
    {
     "name": "stderr",
     "output_type": "stream",
     "text": [
      "[Parallel(n_jobs=-1)]: Done  25 tasks      | elapsed:    3.5s\n",
      "[Parallel(n_jobs=-1)]: Done  75 out of  90 | elapsed:    3.8s remaining:    0.7s\n",
      "[Parallel(n_jobs=-1)]: Done  90 out of  90 | elapsed:    3.9s finished\n"
     ]
    },
    {
     "name": "stdout",
     "output_type": "stream",
     "text": [
      "all rf rfe\n",
      "Fitting 5 folds for each of 100 candidates, totalling 500 fits\n"
     ]
    },
    {
     "name": "stderr",
     "output_type": "stream",
     "text": [
      "[Parallel(n_jobs=-1)]: Done  25 tasks      | elapsed:    8.4s\n",
      "[Parallel(n_jobs=-1)]: Done 146 tasks      | elapsed:   40.5s\n",
      "[Parallel(n_jobs=-1)]: Done 349 tasks      | elapsed:  1.4min\n",
      "[Parallel(n_jobs=-1)]: Done 500 out of 500 | elapsed:  1.9min finished\n"
     ]
    },
    {
     "name": "stdout",
     "output_type": "stream",
     "text": [
      "all logreg rfe\n",
      "Fitting 5 folds for each of 18 candidates, totalling 90 fits\n"
     ]
    },
    {
     "name": "stderr",
     "output_type": "stream",
     "text": [
      "[Parallel(n_jobs=-1)]: Done  25 tasks      | elapsed:    3.5s\n",
      "[Parallel(n_jobs=-1)]: Done  90 out of  90 | elapsed:    4.0s finished\n"
     ]
    },
    {
     "name": "stdout",
     "output_type": "stream",
     "text": [
      "texture FOLD: 0 DONE WITH TIME TAKEN (IN MIN): 12.9315\n",
      "texture fold number: 1\n",
      "features rf pca\n",
      "Fitting 5 folds for each of 100 candidates, totalling 500 fits\n"
     ]
    },
    {
     "name": "stderr",
     "output_type": "stream",
     "text": [
      "[Parallel(n_jobs=-1)]: Done  25 tasks      | elapsed:   15.2s\n",
      "[Parallel(n_jobs=-1)]: Done 146 tasks      | elapsed:  1.3min\n",
      "[Parallel(n_jobs=-1)]: Done 349 tasks      | elapsed:  2.6min\n",
      "[Parallel(n_jobs=-1)]: Done 500 out of 500 | elapsed:  3.6min finished\n"
     ]
    },
    {
     "name": "stdout",
     "output_type": "stream",
     "text": [
      "features logreg pca\n",
      "Fitting 5 folds for each of 18 candidates, totalling 90 fits\n"
     ]
    },
    {
     "name": "stderr",
     "output_type": "stream",
     "text": [
      "[Parallel(n_jobs=-1)]: Done  25 tasks      | elapsed:    5.4s\n",
      "[Parallel(n_jobs=-1)]: Done  75 out of  90 | elapsed:    5.5s remaining:    1.0s\n",
      "[Parallel(n_jobs=-1)]: Done  90 out of  90 | elapsed:    5.6s finished\n"
     ]
    },
    {
     "name": "stdout",
     "output_type": "stream",
     "text": [
      "all rf pca\n",
      "Fitting 5 folds for each of 100 candidates, totalling 500 fits\n"
     ]
    },
    {
     "name": "stderr",
     "output_type": "stream",
     "text": [
      "[Parallel(n_jobs=-1)]: Done  25 tasks      | elapsed:   17.3s\n",
      "[Parallel(n_jobs=-1)]: Done 146 tasks      | elapsed:  1.3min\n",
      "[Parallel(n_jobs=-1)]: Done 349 tasks      | elapsed:  2.2min\n",
      "[Parallel(n_jobs=-1)]: Done 500 out of 500 | elapsed:  2.7min finished\n"
     ]
    },
    {
     "name": "stdout",
     "output_type": "stream",
     "text": [
      "all logreg pca\n",
      "Fitting 5 folds for each of 18 candidates, totalling 90 fits\n"
     ]
    },
    {
     "name": "stderr",
     "output_type": "stream",
     "text": [
      "[Parallel(n_jobs=-1)]: Done  25 tasks      | elapsed:    3.5s\n",
      "[Parallel(n_jobs=-1)]: Done  75 out of  90 | elapsed:    3.7s remaining:    0.7s\n",
      "[Parallel(n_jobs=-1)]: Done  90 out of  90 | elapsed:    4.0s finished\n"
     ]
    },
    {
     "name": "stdout",
     "output_type": "stream",
     "text": [
      "features rf clinical\n",
      "Fitting 5 folds for each of 100 candidates, totalling 500 fits\n"
     ]
    },
    {
     "name": "stderr",
     "output_type": "stream",
     "text": [
      "[Parallel(n_jobs=-1)]: Done  25 tasks      | elapsed:    9.3s\n",
      "[Parallel(n_jobs=-1)]: Done 146 tasks      | elapsed:   40.0s\n",
      "[Parallel(n_jobs=-1)]: Done 349 tasks      | elapsed:  1.4min\n",
      "[Parallel(n_jobs=-1)]: Done 500 out of 500 | elapsed:  2.0min finished\n"
     ]
    },
    {
     "name": "stdout",
     "output_type": "stream",
     "text": [
      "features logreg clinical\n",
      "Fitting 5 folds for each of 18 candidates, totalling 90 fits\n"
     ]
    },
    {
     "name": "stderr",
     "output_type": "stream",
     "text": [
      "[Parallel(n_jobs=-1)]: Done  25 tasks      | elapsed:    5.5s\n",
      "[Parallel(n_jobs=-1)]: Done  90 out of  90 | elapsed:    5.7s finished\n"
     ]
    },
    {
     "name": "stdout",
     "output_type": "stream",
     "text": [
      "features rf rfe\n",
      "Fitting 5 folds for each of 100 candidates, totalling 500 fits\n"
     ]
    },
    {
     "name": "stderr",
     "output_type": "stream",
     "text": [
      "[Parallel(n_jobs=-1)]: Done  25 tasks      | elapsed:   17.2s\n",
      "[Parallel(n_jobs=-1)]: Done 146 tasks      | elapsed:  1.2min\n",
      "[Parallel(n_jobs=-1)]: Done 349 tasks      | elapsed:  2.6min\n",
      "[Parallel(n_jobs=-1)]: Done 500 out of 500 | elapsed:  3.5min finished\n"
     ]
    },
    {
     "name": "stdout",
     "output_type": "stream",
     "text": [
      "features logreg rfe\n",
      "Fitting 5 folds for each of 18 candidates, totalling 90 fits\n"
     ]
    },
    {
     "name": "stderr",
     "output_type": "stream",
     "text": [
      "[Parallel(n_jobs=-1)]: Done  25 tasks      | elapsed:    6.0s\n",
      "[Parallel(n_jobs=-1)]: Done  90 out of  90 | elapsed:    8.3s finished\n"
     ]
    },
    {
     "name": "stdout",
     "output_type": "stream",
     "text": [
      "all rf rfe\n",
      "Fitting 5 folds for each of 100 candidates, totalling 500 fits\n"
     ]
    },
    {
     "name": "stderr",
     "output_type": "stream",
     "text": [
      "[Parallel(n_jobs=-1)]: Done  25 tasks      | elapsed:   16.9s\n",
      "[Parallel(n_jobs=-1)]: Done 146 tasks      | elapsed:  1.1min\n",
      "[Parallel(n_jobs=-1)]: Done 349 tasks      | elapsed:  1.9min\n",
      "[Parallel(n_jobs=-1)]: Done 500 out of 500 | elapsed:  2.4min finished\n"
     ]
    },
    {
     "name": "stdout",
     "output_type": "stream",
     "text": [
      "all logreg rfe\n",
      "Fitting 5 folds for each of 18 candidates, totalling 90 fits\n"
     ]
    },
    {
     "name": "stderr",
     "output_type": "stream",
     "text": [
      "[Parallel(n_jobs=-1)]: Done  25 tasks      | elapsed:    3.7s\n",
      "[Parallel(n_jobs=-1)]: Done  75 out of  90 | elapsed:    3.9s remaining:    0.7s\n",
      "[Parallel(n_jobs=-1)]: Done  90 out of  90 | elapsed:    4.0s finished\n"
     ]
    },
    {
     "name": "stdout",
     "output_type": "stream",
     "text": [
      "texture FOLD: 1 DONE WITH TIME TAKEN (IN MIN): 14.867\n",
      "texture fold number: 2\n",
      "features rf pca\n",
      "Fitting 5 folds for each of 100 candidates, totalling 500 fits\n"
     ]
    },
    {
     "name": "stderr",
     "output_type": "stream",
     "text": [
      "[Parallel(n_jobs=-1)]: Done  25 tasks      | elapsed:    9.9s\n",
      "[Parallel(n_jobs=-1)]: Done 146 tasks      | elapsed:   41.7s\n",
      "[Parallel(n_jobs=-1)]: Done 349 tasks      | elapsed:  1.7min\n",
      "[Parallel(n_jobs=-1)]: Done 500 out of 500 | elapsed:  2.8min finished\n"
     ]
    },
    {
     "name": "stdout",
     "output_type": "stream",
     "text": [
      "features logreg pca\n",
      "Fitting 5 folds for each of 18 candidates, totalling 90 fits\n"
     ]
    },
    {
     "name": "stderr",
     "output_type": "stream",
     "text": [
      "[Parallel(n_jobs=-1)]: Done  25 tasks      | elapsed:    6.5s\n",
      "[Parallel(n_jobs=-1)]: Done  75 out of  90 | elapsed:    6.6s remaining:    1.2s\n",
      "[Parallel(n_jobs=-1)]: Done  90 out of  90 | elapsed:    6.6s finished\n"
     ]
    },
    {
     "name": "stdout",
     "output_type": "stream",
     "text": [
      "all rf pca\n",
      "Fitting 5 folds for each of 100 candidates, totalling 500 fits\n"
     ]
    },
    {
     "name": "stderr",
     "output_type": "stream",
     "text": [
      "[Parallel(n_jobs=-1)]: Done  25 tasks      | elapsed:   18.1s\n",
      "[Parallel(n_jobs=-1)]: Done 146 tasks      | elapsed:  1.2min\n",
      "[Parallel(n_jobs=-1)]: Done 349 tasks      | elapsed:  2.6min\n",
      "[Parallel(n_jobs=-1)]: Done 500 out of 500 | elapsed:  3.8min finished\n"
     ]
    },
    {
     "name": "stdout",
     "output_type": "stream",
     "text": [
      "all logreg pca\n",
      "Fitting 5 folds for each of 18 candidates, totalling 90 fits\n"
     ]
    },
    {
     "name": "stderr",
     "output_type": "stream",
     "text": [
      "[Parallel(n_jobs=-1)]: Done  25 tasks      | elapsed:    4.3s\n",
      "[Parallel(n_jobs=-1)]: Done  75 out of  90 | elapsed:    4.5s remaining:    0.8s\n",
      "[Parallel(n_jobs=-1)]: Done  90 out of  90 | elapsed:    4.7s finished\n"
     ]
    },
    {
     "name": "stdout",
     "output_type": "stream",
     "text": [
      "features rf clinical\n",
      "Fitting 5 folds for each of 100 candidates, totalling 500 fits\n"
     ]
    },
    {
     "name": "stderr",
     "output_type": "stream",
     "text": [
      "[Parallel(n_jobs=-1)]: Done  25 tasks      | elapsed:   10.3s\n",
      "[Parallel(n_jobs=-1)]: Done 146 tasks      | elapsed:   36.2s\n",
      "[Parallel(n_jobs=-1)]: Done 349 tasks      | elapsed:  1.3min\n",
      "[Parallel(n_jobs=-1)]: Done 500 out of 500 | elapsed:  1.8min finished\n"
     ]
    },
    {
     "name": "stdout",
     "output_type": "stream",
     "text": [
      "features logreg clinical\n",
      "Fitting 5 folds for each of 18 candidates, totalling 90 fits\n"
     ]
    },
    {
     "name": "stderr",
     "output_type": "stream",
     "text": [
      "[Parallel(n_jobs=-1)]: Done  25 tasks      | elapsed:    4.2s\n",
      "[Parallel(n_jobs=-1)]: Done  75 out of  90 | elapsed:    4.2s remaining:    0.8s\n",
      "[Parallel(n_jobs=-1)]: Done  90 out of  90 | elapsed:    4.3s finished\n"
     ]
    },
    {
     "name": "stdout",
     "output_type": "stream",
     "text": [
      "features rf rfe\n",
      "Fitting 5 folds for each of 100 candidates, totalling 500 fits\n"
     ]
    },
    {
     "name": "stderr",
     "output_type": "stream",
     "text": [
      "[Parallel(n_jobs=-1)]: Done  25 tasks      | elapsed:   10.2s\n",
      "[Parallel(n_jobs=-1)]: Done 146 tasks      | elapsed:   42.6s\n",
      "[Parallel(n_jobs=-1)]: Done 349 tasks      | elapsed:  1.9min\n",
      "[Parallel(n_jobs=-1)]: Done 500 out of 500 | elapsed:  2.9min finished\n"
     ]
    },
    {
     "name": "stdout",
     "output_type": "stream",
     "text": [
      "features logreg rfe\n",
      "Fitting 5 folds for each of 18 candidates, totalling 90 fits\n"
     ]
    },
    {
     "name": "stderr",
     "output_type": "stream",
     "text": [
      "[Parallel(n_jobs=-1)]: Done  25 tasks      | elapsed:    5.9s\n",
      "[Parallel(n_jobs=-1)]: Done  75 out of  90 | elapsed:    6.6s remaining:    1.2s\n",
      "[Parallel(n_jobs=-1)]: Done  90 out of  90 | elapsed:    7.1s finished\n"
     ]
    },
    {
     "name": "stdout",
     "output_type": "stream",
     "text": [
      "all rf rfe\n",
      "Fitting 5 folds for each of 100 candidates, totalling 500 fits\n"
     ]
    },
    {
     "name": "stderr",
     "output_type": "stream",
     "text": [
      "[Parallel(n_jobs=-1)]: Done  25 tasks      | elapsed:   17.1s\n",
      "[Parallel(n_jobs=-1)]: Done 146 tasks      | elapsed:  1.1min\n",
      "[Parallel(n_jobs=-1)]: Done 349 tasks      | elapsed:  2.6min\n",
      "[Parallel(n_jobs=-1)]: Done 500 out of 500 | elapsed:  3.6min finished\n"
     ]
    },
    {
     "name": "stdout",
     "output_type": "stream",
     "text": [
      "all logreg rfe\n",
      "Fitting 5 folds for each of 18 candidates, totalling 90 fits\n"
     ]
    },
    {
     "name": "stderr",
     "output_type": "stream",
     "text": [
      "[Parallel(n_jobs=-1)]: Done  25 tasks      | elapsed:    3.7s\n",
      "[Parallel(n_jobs=-1)]: Done  90 out of  90 | elapsed:    4.0s finished\n"
     ]
    },
    {
     "name": "stdout",
     "output_type": "stream",
     "text": [
      "texture FOLD: 2 DONE WITH TIME TAKEN (IN MIN): 15.4442\n",
      "texture fold number: 3\n",
      "features rf pca\n",
      "Fitting 5 folds for each of 100 candidates, totalling 500 fits\n"
     ]
    },
    {
     "name": "stderr",
     "output_type": "stream",
     "text": [
      "[Parallel(n_jobs=-1)]: Done  25 tasks      | elapsed:   12.9s\n",
      "[Parallel(n_jobs=-1)]: Done 146 tasks      | elapsed:   40.4s\n",
      "[Parallel(n_jobs=-1)]: Done 349 tasks      | elapsed:  1.7min\n",
      "[Parallel(n_jobs=-1)]: Done 500 out of 500 | elapsed:  2.4min finished\n"
     ]
    },
    {
     "name": "stdout",
     "output_type": "stream",
     "text": [
      "features logreg pca\n",
      "Fitting 5 folds for each of 18 candidates, totalling 90 fits\n"
     ]
    },
    {
     "name": "stderr",
     "output_type": "stream",
     "text": [
      "[Parallel(n_jobs=-1)]: Done  25 tasks      | elapsed:    3.5s\n",
      "[Parallel(n_jobs=-1)]: Done  75 out of  90 | elapsed:    3.6s remaining:    0.6s\n",
      "[Parallel(n_jobs=-1)]: Done  90 out of  90 | elapsed:    3.6s finished\n"
     ]
    },
    {
     "name": "stdout",
     "output_type": "stream",
     "text": [
      "all rf pca\n",
      "Fitting 5 folds for each of 100 candidates, totalling 500 fits\n"
     ]
    },
    {
     "name": "stderr",
     "output_type": "stream",
     "text": [
      "[Parallel(n_jobs=-1)]: Done  25 tasks      | elapsed:   12.0s\n",
      "[Parallel(n_jobs=-1)]: Done 146 tasks      | elapsed:   54.4s\n",
      "[Parallel(n_jobs=-1)]: Done 349 tasks      | elapsed:  2.5min\n",
      "[Parallel(n_jobs=-1)]: Done 500 out of 500 | elapsed:  3.6min finished\n"
     ]
    },
    {
     "name": "stdout",
     "output_type": "stream",
     "text": [
      "all logreg pca\n",
      "Fitting 5 folds for each of 18 candidates, totalling 90 fits\n"
     ]
    },
    {
     "name": "stderr",
     "output_type": "stream",
     "text": [
      "[Parallel(n_jobs=-1)]: Done  25 tasks      | elapsed:    5.0s\n",
      "[Parallel(n_jobs=-1)]: Done  75 out of  90 | elapsed:    6.3s remaining:    1.2s\n",
      "[Parallel(n_jobs=-1)]: Done  90 out of  90 | elapsed:    6.6s finished\n"
     ]
    },
    {
     "name": "stdout",
     "output_type": "stream",
     "text": [
      "features rf clinical\n",
      "Fitting 5 folds for each of 100 candidates, totalling 500 fits\n"
     ]
    },
    {
     "name": "stderr",
     "output_type": "stream",
     "text": [
      "[Parallel(n_jobs=-1)]: Done  25 tasks      | elapsed:   12.8s\n",
      "[Parallel(n_jobs=-1)]: Done 146 tasks      | elapsed:   50.8s\n",
      "[Parallel(n_jobs=-1)]: Done 349 tasks      | elapsed:  2.0min\n",
      "[Parallel(n_jobs=-1)]: Done 500 out of 500 | elapsed:  2.5min finished\n"
     ]
    },
    {
     "name": "stdout",
     "output_type": "stream",
     "text": [
      "features logreg clinical\n",
      "Fitting 5 folds for each of 18 candidates, totalling 90 fits\n"
     ]
    },
    {
     "name": "stderr",
     "output_type": "stream",
     "text": [
      "[Parallel(n_jobs=-1)]: Done  25 tasks      | elapsed:    3.5s\n",
      "[Parallel(n_jobs=-1)]: Done  75 out of  90 | elapsed:    3.6s remaining:    0.6s\n",
      "[Parallel(n_jobs=-1)]: Done  90 out of  90 | elapsed:    3.6s finished\n"
     ]
    },
    {
     "name": "stdout",
     "output_type": "stream",
     "text": [
      "features rf rfe\n",
      "Fitting 5 folds for each of 100 candidates, totalling 500 fits\n"
     ]
    },
    {
     "name": "stderr",
     "output_type": "stream",
     "text": [
      "[Parallel(n_jobs=-1)]: Done  25 tasks      | elapsed:   11.7s\n",
      "[Parallel(n_jobs=-1)]: Done 146 tasks      | elapsed:   37.1s\n",
      "[Parallel(n_jobs=-1)]: Done 349 tasks      | elapsed:  1.6min\n",
      "[Parallel(n_jobs=-1)]: Done 500 out of 500 | elapsed:  2.2min finished\n"
     ]
    },
    {
     "name": "stdout",
     "output_type": "stream",
     "text": [
      "features logreg rfe\n",
      "Fitting 5 folds for each of 18 candidates, totalling 90 fits\n"
     ]
    },
    {
     "name": "stderr",
     "output_type": "stream",
     "text": [
      "[Parallel(n_jobs=-1)]: Done  25 tasks      | elapsed:    5.1s\n",
      "[Parallel(n_jobs=-1)]: Done  90 out of  90 | elapsed:    6.7s finished\n"
     ]
    },
    {
     "name": "stdout",
     "output_type": "stream",
     "text": [
      "all rf rfe\n",
      "Fitting 5 folds for each of 100 candidates, totalling 500 fits\n"
     ]
    },
    {
     "name": "stderr",
     "output_type": "stream",
     "text": [
      "[Parallel(n_jobs=-1)]: Done  25 tasks      | elapsed:   19.8s\n",
      "[Parallel(n_jobs=-1)]: Done 146 tasks      | elapsed:   57.6s\n",
      "[Parallel(n_jobs=-1)]: Done 349 tasks      | elapsed:  2.7min\n",
      "[Parallel(n_jobs=-1)]: Done 500 out of 500 | elapsed:  3.6min finished\n"
     ]
    },
    {
     "name": "stdout",
     "output_type": "stream",
     "text": [
      "all logreg rfe\n",
      "Fitting 5 folds for each of 18 candidates, totalling 90 fits\n"
     ]
    },
    {
     "name": "stderr",
     "output_type": "stream",
     "text": [
      "[Parallel(n_jobs=-1)]: Done  25 tasks      | elapsed:    5.1s\n",
      "[Parallel(n_jobs=-1)]: Done  90 out of  90 | elapsed:    6.6s finished\n"
     ]
    },
    {
     "name": "stdout",
     "output_type": "stream",
     "text": [
      "texture FOLD: 3 DONE WITH TIME TAKEN (IN MIN): 15.0078\n",
      "texture fold number: 4\n",
      "features rf pca\n",
      "Fitting 5 folds for each of 100 candidates, totalling 500 fits\n"
     ]
    },
    {
     "name": "stderr",
     "output_type": "stream",
     "text": [
      "[Parallel(n_jobs=-1)]: Done  25 tasks      | elapsed:   20.5s\n",
      "[Parallel(n_jobs=-1)]: Done 146 tasks      | elapsed:  1.1min\n",
      "[Parallel(n_jobs=-1)]: Done 349 tasks      | elapsed:  2.0min\n",
      "[Parallel(n_jobs=-1)]: Done 500 out of 500 | elapsed:  2.7min finished\n"
     ]
    },
    {
     "name": "stdout",
     "output_type": "stream",
     "text": [
      "features logreg pca\n",
      "Fitting 5 folds for each of 18 candidates, totalling 90 fits\n"
     ]
    },
    {
     "name": "stderr",
     "output_type": "stream",
     "text": [
      "[Parallel(n_jobs=-1)]: Done  25 tasks      | elapsed:    3.5s\n",
      "[Parallel(n_jobs=-1)]: Done  75 out of  90 | elapsed:    3.6s remaining:    0.6s\n",
      "[Parallel(n_jobs=-1)]: Done  90 out of  90 | elapsed:    3.7s finished\n"
     ]
    },
    {
     "name": "stdout",
     "output_type": "stream",
     "text": [
      "all rf pca\n",
      "Fitting 5 folds for each of 100 candidates, totalling 500 fits\n"
     ]
    },
    {
     "name": "stderr",
     "output_type": "stream",
     "text": [
      "[Parallel(n_jobs=-1)]: Done  25 tasks      | elapsed:   12.0s\n",
      "[Parallel(n_jobs=-1)]: Done 146 tasks      | elapsed:   44.4s\n",
      "[Parallel(n_jobs=-1)]: Done 349 tasks      | elapsed:  2.0min\n",
      "[Parallel(n_jobs=-1)]: Done 500 out of 500 | elapsed:  3.1min finished\n"
     ]
    },
    {
     "name": "stdout",
     "output_type": "stream",
     "text": [
      "all logreg pca\n",
      "Fitting 5 folds for each of 18 candidates, totalling 90 fits\n"
     ]
    },
    {
     "name": "stderr",
     "output_type": "stream",
     "text": [
      "[Parallel(n_jobs=-1)]: Done  25 tasks      | elapsed:    5.4s\n",
      "[Parallel(n_jobs=-1)]: Done  90 out of  90 | elapsed:    7.0s finished\n"
     ]
    },
    {
     "name": "stdout",
     "output_type": "stream",
     "text": [
      "features rf clinical\n",
      "Fitting 5 folds for each of 100 candidates, totalling 500 fits\n"
     ]
    },
    {
     "name": "stderr",
     "output_type": "stream",
     "text": [
      "[Parallel(n_jobs=-1)]: Done  25 tasks      | elapsed:   18.1s\n",
      "[Parallel(n_jobs=-1)]: Done 146 tasks      | elapsed:  1.1min\n",
      "[Parallel(n_jobs=-1)]: Done 349 tasks      | elapsed:  2.4min\n",
      "[Parallel(n_jobs=-1)]: Done 500 out of 500 | elapsed:  3.4min finished\n"
     ]
    },
    {
     "name": "stdout",
     "output_type": "stream",
     "text": [
      "features logreg clinical\n",
      "Fitting 5 folds for each of 18 candidates, totalling 90 fits\n"
     ]
    },
    {
     "name": "stderr",
     "output_type": "stream",
     "text": [
      "[Parallel(n_jobs=-1)]: Done  25 tasks      | elapsed:    3.6s\n",
      "[Parallel(n_jobs=-1)]: Done  75 out of  90 | elapsed:    3.7s remaining:    0.7s\n",
      "[Parallel(n_jobs=-1)]: Done  90 out of  90 | elapsed:    3.7s finished\n"
     ]
    },
    {
     "name": "stdout",
     "output_type": "stream",
     "text": [
      "features rf rfe\n",
      "Fitting 5 folds for each of 100 candidates, totalling 500 fits\n"
     ]
    },
    {
     "name": "stderr",
     "output_type": "stream",
     "text": [
      "[Parallel(n_jobs=-1)]: Done  25 tasks      | elapsed:   11.9s\n",
      "[Parallel(n_jobs=-1)]: Done 146 tasks      | elapsed:   41.4s\n",
      "[Parallel(n_jobs=-1)]: Done 349 tasks      | elapsed:  1.5min\n",
      "[Parallel(n_jobs=-1)]: Done 500 out of 500 | elapsed:  2.2min finished\n"
     ]
    },
    {
     "name": "stdout",
     "output_type": "stream",
     "text": [
      "features logreg rfe\n",
      "Fitting 5 folds for each of 18 candidates, totalling 90 fits\n"
     ]
    },
    {
     "name": "stderr",
     "output_type": "stream",
     "text": [
      "[Parallel(n_jobs=-1)]: Done  25 tasks      | elapsed:    3.5s\n",
      "[Parallel(n_jobs=-1)]: Done  75 out of  90 | elapsed:    3.8s remaining:    0.7s\n",
      "[Parallel(n_jobs=-1)]: Done  90 out of  90 | elapsed:    3.9s finished\n"
     ]
    },
    {
     "name": "stdout",
     "output_type": "stream",
     "text": [
      "all rf rfe\n",
      "Fitting 5 folds for each of 100 candidates, totalling 500 fits\n"
     ]
    },
    {
     "name": "stderr",
     "output_type": "stream",
     "text": [
      "[Parallel(n_jobs=-1)]: Done  25 tasks      | elapsed:   11.6s\n",
      "[Parallel(n_jobs=-1)]: Done 146 tasks      | elapsed:   54.1s\n",
      "[Parallel(n_jobs=-1)]: Done 349 tasks      | elapsed:  2.2min\n",
      "[Parallel(n_jobs=-1)]: Done 500 out of 500 | elapsed:  3.4min finished\n"
     ]
    },
    {
     "name": "stdout",
     "output_type": "stream",
     "text": [
      "all logreg rfe\n",
      "Fitting 5 folds for each of 18 candidates, totalling 90 fits\n"
     ]
    },
    {
     "name": "stderr",
     "output_type": "stream",
     "text": [
      "[Parallel(n_jobs=-1)]: Done  25 tasks      | elapsed:    5.2s\n",
      "[Parallel(n_jobs=-1)]: Done  90 out of  90 | elapsed:    6.8s finished\n"
     ]
    },
    {
     "name": "stdout",
     "output_type": "stream",
     "text": [
      "texture FOLD: 4 DONE WITH TIME TAKEN (IN MIN): 15.2974\n",
      "texture fold number: 5\n",
      "features rf pca\n",
      "Fitting 5 folds for each of 100 candidates, totalling 500 fits\n"
     ]
    },
    {
     "name": "stderr",
     "output_type": "stream",
     "text": [
      "[Parallel(n_jobs=-1)]: Done  25 tasks      | elapsed:   16.4s\n",
      "[Parallel(n_jobs=-1)]: Done 146 tasks      | elapsed:   57.0s\n",
      "[Parallel(n_jobs=-1)]: Done 349 tasks      | elapsed:  2.2min\n",
      "[Parallel(n_jobs=-1)]: Done 500 out of 500 | elapsed:  2.9min finished\n"
     ]
    },
    {
     "name": "stdout",
     "output_type": "stream",
     "text": [
      "features logreg pca\n",
      "Fitting 5 folds for each of 18 candidates, totalling 90 fits\n"
     ]
    },
    {
     "name": "stderr",
     "output_type": "stream",
     "text": [
      "[Parallel(n_jobs=-1)]: Done  25 tasks      | elapsed:    3.7s\n",
      "[Parallel(n_jobs=-1)]: Done  75 out of  90 | elapsed:    3.8s remaining:    0.7s\n",
      "[Parallel(n_jobs=-1)]: Done  90 out of  90 | elapsed:    3.9s finished\n"
     ]
    },
    {
     "name": "stdout",
     "output_type": "stream",
     "text": [
      "all rf pca\n",
      "Fitting 5 folds for each of 100 candidates, totalling 500 fits\n"
     ]
    },
    {
     "name": "stderr",
     "output_type": "stream",
     "text": [
      "[Parallel(n_jobs=-1)]: Done  25 tasks      | elapsed:    9.3s\n",
      "[Parallel(n_jobs=-1)]: Done 146 tasks      | elapsed:   35.0s\n",
      "[Parallel(n_jobs=-1)]: Done 349 tasks      | elapsed:  1.3min\n",
      "[Parallel(n_jobs=-1)]: Done 500 out of 500 | elapsed:  1.9min finished\n"
     ]
    },
    {
     "name": "stdout",
     "output_type": "stream",
     "text": [
      "all logreg pca\n",
      "Fitting 5 folds for each of 18 candidates, totalling 90 fits\n"
     ]
    },
    {
     "name": "stderr",
     "output_type": "stream",
     "text": [
      "[Parallel(n_jobs=-1)]: Done  25 tasks      | elapsed:    3.5s\n",
      "[Parallel(n_jobs=-1)]: Done  90 out of  90 | elapsed:    3.7s finished\n"
     ]
    },
    {
     "name": "stdout",
     "output_type": "stream",
     "text": [
      "features rf clinical\n",
      "Fitting 5 folds for each of 100 candidates, totalling 500 fits\n"
     ]
    },
    {
     "name": "stderr",
     "output_type": "stream",
     "text": [
      "[Parallel(n_jobs=-1)]: Done  25 tasks      | elapsed:    9.3s\n",
      "[Parallel(n_jobs=-1)]: Done 146 tasks      | elapsed:   47.5s\n",
      "[Parallel(n_jobs=-1)]: Done 349 tasks      | elapsed:  1.9min\n",
      "[Parallel(n_jobs=-1)]: Done 500 out of 500 | elapsed:  2.8min finished\n"
     ]
    },
    {
     "name": "stdout",
     "output_type": "stream",
     "text": [
      "features logreg clinical\n",
      "Fitting 5 folds for each of 18 candidates, totalling 90 fits\n"
     ]
    },
    {
     "name": "stderr",
     "output_type": "stream",
     "text": [
      "[Parallel(n_jobs=-1)]: Done  25 tasks      | elapsed:    5.1s\n",
      "[Parallel(n_jobs=-1)]: Done  75 out of  90 | elapsed:    5.2s remaining:    1.0s\n",
      "[Parallel(n_jobs=-1)]: Done  90 out of  90 | elapsed:    5.3s finished\n"
     ]
    },
    {
     "name": "stdout",
     "output_type": "stream",
     "text": [
      "features rf rfe\n",
      "Fitting 5 folds for each of 100 candidates, totalling 500 fits\n"
     ]
    },
    {
     "name": "stderr",
     "output_type": "stream",
     "text": [
      "[Parallel(n_jobs=-1)]: Done  25 tasks      | elapsed:   15.3s\n",
      "[Parallel(n_jobs=-1)]: Done 146 tasks      | elapsed:   54.1s\n",
      "[Parallel(n_jobs=-1)]: Done 349 tasks      | elapsed:  2.2min\n",
      "[Parallel(n_jobs=-1)]: Done 500 out of 500 | elapsed:  2.9min finished\n"
     ]
    },
    {
     "name": "stdout",
     "output_type": "stream",
     "text": [
      "features logreg rfe\n",
      "Fitting 5 folds for each of 18 candidates, totalling 90 fits\n"
     ]
    },
    {
     "name": "stderr",
     "output_type": "stream",
     "text": [
      "[Parallel(n_jobs=-1)]: Done  25 tasks      | elapsed:    3.6s\n",
      "[Parallel(n_jobs=-1)]: Done  75 out of  90 | elapsed:    3.7s remaining:    0.7s\n",
      "[Parallel(n_jobs=-1)]: Done  90 out of  90 | elapsed:    3.9s finished\n"
     ]
    },
    {
     "name": "stdout",
     "output_type": "stream",
     "text": [
      "all rf rfe\n",
      "Fitting 5 folds for each of 100 candidates, totalling 500 fits\n"
     ]
    },
    {
     "name": "stderr",
     "output_type": "stream",
     "text": [
      "[Parallel(n_jobs=-1)]: Done  25 tasks      | elapsed:    9.2s\n",
      "[Parallel(n_jobs=-1)]: Done 146 tasks      | elapsed:   34.3s\n",
      "[Parallel(n_jobs=-1)]: Done 349 tasks      | elapsed:  1.3min\n",
      "[Parallel(n_jobs=-1)]: Done 500 out of 500 | elapsed:  1.9min finished\n"
     ]
    },
    {
     "name": "stdout",
     "output_type": "stream",
     "text": [
      "all logreg rfe\n",
      "Fitting 5 folds for each of 18 candidates, totalling 90 fits\n"
     ]
    },
    {
     "name": "stderr",
     "output_type": "stream",
     "text": [
      "[Parallel(n_jobs=-1)]: Done  25 tasks      | elapsed:    3.6s\n",
      "[Parallel(n_jobs=-1)]: Done  75 out of  90 | elapsed:    3.9s remaining:    0.7s\n",
      "[Parallel(n_jobs=-1)]: Done  90 out of  90 | elapsed:    4.1s finished\n"
     ]
    },
    {
     "name": "stdout",
     "output_type": "stream",
     "text": [
      "texture FOLD: 5 DONE WITH TIME TAKEN (IN MIN): 12.907\n",
      "texture fold number: 6\n",
      "features rf pca\n",
      "Fitting 5 folds for each of 100 candidates, totalling 500 fits\n"
     ]
    },
    {
     "name": "stderr",
     "output_type": "stream",
     "text": [
      "[Parallel(n_jobs=-1)]: Done  25 tasks      | elapsed:    7.1s\n",
      "[Parallel(n_jobs=-1)]: Done 146 tasks      | elapsed:   56.2s\n",
      "[Parallel(n_jobs=-1)]: Done 349 tasks      | elapsed:  2.4min\n",
      "[Parallel(n_jobs=-1)]: Done 500 out of 500 | elapsed:  3.5min finished\n"
     ]
    },
    {
     "name": "stdout",
     "output_type": "stream",
     "text": [
      "features logreg pca\n",
      "Fitting 5 folds for each of 18 candidates, totalling 90 fits\n"
     ]
    },
    {
     "name": "stderr",
     "output_type": "stream",
     "text": [
      "[Parallel(n_jobs=-1)]: Done  25 tasks      | elapsed:    5.5s\n",
      "[Parallel(n_jobs=-1)]: Done  90 out of  90 | elapsed:    6.4s finished\n"
     ]
    },
    {
     "name": "stdout",
     "output_type": "stream",
     "text": [
      "all rf pca\n",
      "Fitting 5 folds for each of 100 candidates, totalling 500 fits\n"
     ]
    },
    {
     "name": "stderr",
     "output_type": "stream",
     "text": [
      "[Parallel(n_jobs=-1)]: Done  25 tasks      | elapsed:   11.2s\n",
      "[Parallel(n_jobs=-1)]: Done 146 tasks      | elapsed:  1.1min\n",
      "[Parallel(n_jobs=-1)]: Done 349 tasks      | elapsed:  2.3min\n",
      "[Parallel(n_jobs=-1)]: Done 500 out of 500 | elapsed:  2.9min finished\n"
     ]
    },
    {
     "name": "stdout",
     "output_type": "stream",
     "text": [
      "all logreg pca\n",
      "Fitting 5 folds for each of 18 candidates, totalling 90 fits\n"
     ]
    },
    {
     "name": "stderr",
     "output_type": "stream",
     "text": [
      "[Parallel(n_jobs=-1)]: Done  25 tasks      | elapsed:    3.5s\n",
      "[Parallel(n_jobs=-1)]: Done  75 out of  90 | elapsed:    3.7s remaining:    0.7s\n",
      "[Parallel(n_jobs=-1)]: Done  90 out of  90 | elapsed:    3.9s finished\n"
     ]
    },
    {
     "name": "stdout",
     "output_type": "stream",
     "text": [
      "features rf clinical\n",
      "Fitting 5 folds for each of 100 candidates, totalling 500 fits\n"
     ]
    },
    {
     "name": "stderr",
     "output_type": "stream",
     "text": [
      "[Parallel(n_jobs=-1)]: Done  25 tasks      | elapsed:    6.4s\n",
      "[Parallel(n_jobs=-1)]: Done 146 tasks      | elapsed:   36.2s\n",
      "[Parallel(n_jobs=-1)]: Done 349 tasks      | elapsed:  1.4min\n",
      "[Parallel(n_jobs=-1)]: Done 500 out of 500 | elapsed:  1.9min finished\n"
     ]
    },
    {
     "name": "stdout",
     "output_type": "stream",
     "text": [
      "features logreg clinical\n",
      "Fitting 5 folds for each of 18 candidates, totalling 90 fits\n"
     ]
    },
    {
     "name": "stderr",
     "output_type": "stream",
     "text": [
      "[Parallel(n_jobs=-1)]: Done  25 tasks      | elapsed:    6.2s\n",
      "[Parallel(n_jobs=-1)]: Done  75 out of  90 | elapsed:    6.4s remaining:    1.2s\n",
      "[Parallel(n_jobs=-1)]: Done  90 out of  90 | elapsed:    6.4s finished\n"
     ]
    },
    {
     "name": "stdout",
     "output_type": "stream",
     "text": [
      "features rf rfe\n",
      "Fitting 5 folds for each of 100 candidates, totalling 500 fits\n"
     ]
    },
    {
     "name": "stderr",
     "output_type": "stream",
     "text": [
      "[Parallel(n_jobs=-1)]: Done  25 tasks      | elapsed:   11.7s\n",
      "[Parallel(n_jobs=-1)]: Done 146 tasks      | elapsed:  1.0min\n",
      "[Parallel(n_jobs=-1)]: Done 349 tasks      | elapsed:  2.6min\n",
      "[Parallel(n_jobs=-1)]: Done 500 out of 500 | elapsed:  3.5min finished\n"
     ]
    },
    {
     "name": "stdout",
     "output_type": "stream",
     "text": [
      "features logreg rfe\n",
      "Fitting 5 folds for each of 18 candidates, totalling 90 fits\n"
     ]
    },
    {
     "name": "stderr",
     "output_type": "stream",
     "text": [
      "[Parallel(n_jobs=-1)]: Done  25 tasks      | elapsed:    5.1s\n",
      "[Parallel(n_jobs=-1)]: Done  90 out of  90 | elapsed:    6.5s finished\n"
     ]
    },
    {
     "name": "stdout",
     "output_type": "stream",
     "text": [
      "all rf rfe\n",
      "Fitting 5 folds for each of 100 candidates, totalling 500 fits\n"
     ]
    },
    {
     "name": "stderr",
     "output_type": "stream",
     "text": [
      "[Parallel(n_jobs=-1)]: Done  25 tasks      | elapsed:   11.6s\n",
      "[Parallel(n_jobs=-1)]: Done 146 tasks      | elapsed:  1.2min\n",
      "[Parallel(n_jobs=-1)]: Done 349 tasks      | elapsed:  2.0min\n",
      "[Parallel(n_jobs=-1)]: Done 500 out of 500 | elapsed:  2.7min finished\n"
     ]
    },
    {
     "name": "stdout",
     "output_type": "stream",
     "text": [
      "all logreg rfe\n",
      "Fitting 5 folds for each of 18 candidates, totalling 90 fits\n"
     ]
    },
    {
     "name": "stderr",
     "output_type": "stream",
     "text": [
      "[Parallel(n_jobs=-1)]: Done  25 tasks      | elapsed:    3.6s\n",
      "[Parallel(n_jobs=-1)]: Done  75 out of  90 | elapsed:    3.7s remaining:    0.7s\n",
      "[Parallel(n_jobs=-1)]: Done  90 out of  90 | elapsed:    3.9s finished\n"
     ]
    },
    {
     "name": "stdout",
     "output_type": "stream",
     "text": [
      "texture FOLD: 6 DONE WITH TIME TAKEN (IN MIN): 15.151\n",
      "texture fold number: 7\n",
      "features rf pca\n",
      "Fitting 5 folds for each of 100 candidates, totalling 500 fits\n"
     ]
    },
    {
     "name": "stderr",
     "output_type": "stream",
     "text": [
      "[Parallel(n_jobs=-1)]: Done  25 tasks      | elapsed:   10.6s\n",
      "[Parallel(n_jobs=-1)]: Done 146 tasks      | elapsed:   42.6s\n",
      "[Parallel(n_jobs=-1)]: Done 349 tasks      | elapsed:  1.9min\n",
      "[Parallel(n_jobs=-1)]: Done 500 out of 500 | elapsed:  2.8min finished\n"
     ]
    },
    {
     "name": "stdout",
     "output_type": "stream",
     "text": [
      "features logreg pca\n",
      "Fitting 5 folds for each of 18 candidates, totalling 90 fits\n"
     ]
    },
    {
     "name": "stderr",
     "output_type": "stream",
     "text": [
      "[Parallel(n_jobs=-1)]: Done  25 tasks      | elapsed:    5.9s\n",
      "[Parallel(n_jobs=-1)]: Done  75 out of  90 | elapsed:    6.6s remaining:    1.2s\n",
      "[Parallel(n_jobs=-1)]: Done  90 out of  90 | elapsed:    7.1s finished\n"
     ]
    },
    {
     "name": "stdout",
     "output_type": "stream",
     "text": [
      "all rf pca\n",
      "Fitting 5 folds for each of 100 candidates, totalling 500 fits\n"
     ]
    },
    {
     "name": "stderr",
     "output_type": "stream",
     "text": [
      "[Parallel(n_jobs=-1)]: Done  25 tasks      | elapsed:   17.6s\n",
      "[Parallel(n_jobs=-1)]: Done 146 tasks      | elapsed:  1.2min\n",
      "[Parallel(n_jobs=-1)]: Done 349 tasks      | elapsed:  2.7min\n",
      "[Parallel(n_jobs=-1)]: Done 500 out of 500 | elapsed:  3.7min finished\n"
     ]
    },
    {
     "name": "stdout",
     "output_type": "stream",
     "text": [
      "all logreg pca\n",
      "Fitting 5 folds for each of 18 candidates, totalling 90 fits\n"
     ]
    },
    {
     "name": "stderr",
     "output_type": "stream",
     "text": [
      "[Parallel(n_jobs=-1)]: Done  25 tasks      | elapsed:    3.8s\n",
      "[Parallel(n_jobs=-1)]: Done  75 out of  90 | elapsed:    3.9s remaining:    0.7s\n",
      "[Parallel(n_jobs=-1)]: Done  90 out of  90 | elapsed:    4.1s finished\n"
     ]
    },
    {
     "name": "stdout",
     "output_type": "stream",
     "text": [
      "features rf clinical\n",
      "Fitting 5 folds for each of 100 candidates, totalling 500 fits\n"
     ]
    },
    {
     "name": "stderr",
     "output_type": "stream",
     "text": [
      "[Parallel(n_jobs=-1)]: Done  25 tasks      | elapsed:    9.6s\n",
      "[Parallel(n_jobs=-1)]: Done 146 tasks      | elapsed:   39.5s\n",
      "[Parallel(n_jobs=-1)]: Done 349 tasks      | elapsed:  1.4min\n",
      "[Parallel(n_jobs=-1)]: Done 500 out of 500 | elapsed:  2.1min finished\n"
     ]
    },
    {
     "name": "stdout",
     "output_type": "stream",
     "text": [
      "features logreg clinical\n",
      "Fitting 5 folds for each of 18 candidates, totalling 90 fits\n"
     ]
    },
    {
     "name": "stderr",
     "output_type": "stream",
     "text": [
      "[Parallel(n_jobs=-1)]: Done  25 tasks      | elapsed:    3.9s\n",
      "[Parallel(n_jobs=-1)]: Done  75 out of  90 | elapsed:    4.0s remaining:    0.7s\n",
      "[Parallel(n_jobs=-1)]: Done  90 out of  90 | elapsed:    4.0s finished\n"
     ]
    },
    {
     "name": "stdout",
     "output_type": "stream",
     "text": [
      "features rf rfe\n",
      "Fitting 5 folds for each of 100 candidates, totalling 500 fits\n"
     ]
    },
    {
     "name": "stderr",
     "output_type": "stream",
     "text": [
      "[Parallel(n_jobs=-1)]: Done  25 tasks      | elapsed:   11.4s\n",
      "[Parallel(n_jobs=-1)]: Done 146 tasks      | elapsed:   46.4s\n",
      "[Parallel(n_jobs=-1)]: Done 349 tasks      | elapsed:  2.2min\n",
      "[Parallel(n_jobs=-1)]: Done 500 out of 500 | elapsed:  3.3min finished\n"
     ]
    },
    {
     "name": "stdout",
     "output_type": "stream",
     "text": [
      "features logreg rfe\n",
      "Fitting 5 folds for each of 18 candidates, totalling 90 fits\n"
     ]
    },
    {
     "name": "stderr",
     "output_type": "stream",
     "text": [
      "[Parallel(n_jobs=-1)]: Done  25 tasks      | elapsed:    6.2s\n",
      "[Parallel(n_jobs=-1)]: Done  90 out of  90 | elapsed:    7.8s finished\n"
     ]
    },
    {
     "name": "stdout",
     "output_type": "stream",
     "text": [
      "all rf rfe\n",
      "Fitting 5 folds for each of 100 candidates, totalling 500 fits\n"
     ]
    },
    {
     "name": "stderr",
     "output_type": "stream",
     "text": [
      "[Parallel(n_jobs=-1)]: Done  25 tasks      | elapsed:   17.4s\n",
      "[Parallel(n_jobs=-1)]: Done 146 tasks      | elapsed:  1.1min\n",
      "[Parallel(n_jobs=-1)]: Done 349 tasks      | elapsed:  2.5min\n",
      "[Parallel(n_jobs=-1)]: Done 500 out of 500 | elapsed:  3.1min finished\n"
     ]
    },
    {
     "name": "stdout",
     "output_type": "stream",
     "text": [
      "all logreg rfe\n",
      "Fitting 5 folds for each of 18 candidates, totalling 90 fits\n"
     ]
    },
    {
     "name": "stderr",
     "output_type": "stream",
     "text": [
      "[Parallel(n_jobs=-1)]: Done  25 tasks      | elapsed:    3.5s\n",
      "[Parallel(n_jobs=-1)]: Done  90 out of  90 | elapsed:    4.1s finished\n"
     ]
    },
    {
     "name": "stdout",
     "output_type": "stream",
     "text": [
      "texture FOLD: 7 DONE WITH TIME TAKEN (IN MIN): 15.5358\n",
      "texture fold number: 8\n",
      "features rf pca\n",
      "Fitting 5 folds for each of 100 candidates, totalling 500 fits\n"
     ]
    },
    {
     "name": "stderr",
     "output_type": "stream",
     "text": [
      "[Parallel(n_jobs=-1)]: Done  25 tasks      | elapsed:   11.6s\n",
      "[Parallel(n_jobs=-1)]: Done 146 tasks      | elapsed:   40.9s\n",
      "[Parallel(n_jobs=-1)]: Done 349 tasks      | elapsed:  1.6min\n",
      "[Parallel(n_jobs=-1)]: Done 500 out of 500 | elapsed:  2.1min finished\n"
     ]
    },
    {
     "name": "stdout",
     "output_type": "stream",
     "text": [
      "features logreg pca\n",
      "Fitting 5 folds for each of 18 candidates, totalling 90 fits\n"
     ]
    },
    {
     "name": "stderr",
     "output_type": "stream",
     "text": [
      "[Parallel(n_jobs=-1)]: Done  25 tasks      | elapsed:    3.6s\n",
      "[Parallel(n_jobs=-1)]: Done  75 out of  90 | elapsed:    3.7s remaining:    0.7s\n",
      "[Parallel(n_jobs=-1)]: Done  90 out of  90 | elapsed:    4.6s finished\n"
     ]
    },
    {
     "name": "stdout",
     "output_type": "stream",
     "text": [
      "all rf pca\n",
      "Fitting 5 folds for each of 100 candidates, totalling 500 fits\n"
     ]
    },
    {
     "name": "stderr",
     "output_type": "stream",
     "text": [
      "[Parallel(n_jobs=-1)]: Done  25 tasks      | elapsed:   19.6s\n",
      "[Parallel(n_jobs=-1)]: Done 146 tasks      | elapsed:  1.1min\n",
      "[Parallel(n_jobs=-1)]: Done 349 tasks      | elapsed:  2.6min\n",
      "[Parallel(n_jobs=-1)]: Done 500 out of 500 | elapsed:  3.5min finished\n"
     ]
    },
    {
     "name": "stdout",
     "output_type": "stream",
     "text": [
      "all logreg pca\n",
      "Fitting 5 folds for each of 18 candidates, totalling 90 fits\n"
     ]
    },
    {
     "name": "stderr",
     "output_type": "stream",
     "text": [
      "[Parallel(n_jobs=-1)]: Done  25 tasks      | elapsed:    5.7s\n",
      "[Parallel(n_jobs=-1)]: Done  75 out of  90 | elapsed:    5.9s remaining:    1.1s\n",
      "[Parallel(n_jobs=-1)]: Done  90 out of  90 | elapsed:    6.1s finished\n"
     ]
    },
    {
     "name": "stdout",
     "output_type": "stream",
     "text": [
      "features rf clinical\n",
      "Fitting 5 folds for each of 100 candidates, totalling 500 fits\n"
     ]
    },
    {
     "name": "stderr",
     "output_type": "stream",
     "text": [
      "[Parallel(n_jobs=-1)]: Done  25 tasks      | elapsed:   18.5s\n",
      "[Parallel(n_jobs=-1)]: Done 146 tasks      | elapsed:  1.1min\n",
      "[Parallel(n_jobs=-1)]: Done 349 tasks      | elapsed:  2.1min\n",
      "[Parallel(n_jobs=-1)]: Done 500 out of 500 | elapsed:  2.6min finished\n"
     ]
    },
    {
     "name": "stdout",
     "output_type": "stream",
     "text": [
      "features logreg clinical\n",
      "Fitting 5 folds for each of 18 candidates, totalling 90 fits\n"
     ]
    },
    {
     "name": "stderr",
     "output_type": "stream",
     "text": [
      "[Parallel(n_jobs=-1)]: Done  25 tasks      | elapsed:    4.3s\n",
      "[Parallel(n_jobs=-1)]: Done  90 out of  90 | elapsed:    4.3s finished\n"
     ]
    },
    {
     "name": "stdout",
     "output_type": "stream",
     "text": [
      "features rf rfe\n",
      "Fitting 5 folds for each of 100 candidates, totalling 500 fits\n"
     ]
    },
    {
     "name": "stderr",
     "output_type": "stream",
     "text": [
      "[Parallel(n_jobs=-1)]: Done  25 tasks      | elapsed:   12.6s\n",
      "[Parallel(n_jobs=-1)]: Done 146 tasks      | elapsed:   40.2s\n",
      "[Parallel(n_jobs=-1)]: Done 349 tasks      | elapsed:  1.6min\n",
      "[Parallel(n_jobs=-1)]: Done 500 out of 500 | elapsed:  2.1min finished\n"
     ]
    },
    {
     "name": "stdout",
     "output_type": "stream",
     "text": [
      "features logreg rfe\n",
      "Fitting 5 folds for each of 18 candidates, totalling 90 fits\n"
     ]
    },
    {
     "name": "stderr",
     "output_type": "stream",
     "text": [
      "[Parallel(n_jobs=-1)]: Done  25 tasks      | elapsed:    6.2s\n",
      "[Parallel(n_jobs=-1)]: Done  90 out of  90 | elapsed:    7.8s finished\n"
     ]
    },
    {
     "name": "stdout",
     "output_type": "stream",
     "text": [
      "all rf rfe\n",
      "Fitting 5 folds for each of 100 candidates, totalling 500 fits\n"
     ]
    },
    {
     "name": "stderr",
     "output_type": "stream",
     "text": [
      "[Parallel(n_jobs=-1)]: Done  25 tasks      | elapsed:   19.5s\n",
      "[Parallel(n_jobs=-1)]: Done 146 tasks      | elapsed:  1.0min\n",
      "[Parallel(n_jobs=-1)]: Done 349 tasks      | elapsed:  2.7min\n",
      "[Parallel(n_jobs=-1)]: Done 500 out of 500 | elapsed:  3.5min finished\n"
     ]
    },
    {
     "name": "stdout",
     "output_type": "stream",
     "text": [
      "all logreg rfe\n",
      "Fitting 5 folds for each of 18 candidates, totalling 90 fits\n"
     ]
    },
    {
     "name": "stderr",
     "output_type": "stream",
     "text": [
      "[Parallel(n_jobs=-1)]: Done  25 tasks      | elapsed:    6.4s\n",
      "[Parallel(n_jobs=-1)]: Done  75 out of  90 | elapsed:    7.6s remaining:    1.4s\n",
      "[Parallel(n_jobs=-1)]: Done  90 out of  90 | elapsed:    8.2s finished\n"
     ]
    },
    {
     "name": "stdout",
     "output_type": "stream",
     "text": [
      "texture FOLD: 8 DONE WITH TIME TAKEN (IN MIN): 14.4478\n",
      "texture fold number: 9\n",
      "features rf pca\n",
      "Fitting 5 folds for each of 100 candidates, totalling 500 fits\n"
     ]
    },
    {
     "name": "stderr",
     "output_type": "stream",
     "text": [
      "[Parallel(n_jobs=-1)]: Done  25 tasks      | elapsed:   15.8s\n",
      "[Parallel(n_jobs=-1)]: Done 146 tasks      | elapsed:  1.3min\n",
      "[Parallel(n_jobs=-1)]: Done 349 tasks      | elapsed:  2.2min\n",
      "[Parallel(n_jobs=-1)]: Done 500 out of 500 | elapsed:  3.0min finished\n"
     ]
    },
    {
     "name": "stdout",
     "output_type": "stream",
     "text": [
      "features logreg pca\n",
      "Fitting 5 folds for each of 18 candidates, totalling 90 fits\n"
     ]
    },
    {
     "name": "stderr",
     "output_type": "stream",
     "text": [
      "[Parallel(n_jobs=-1)]: Done  25 tasks      | elapsed:    3.9s\n",
      "[Parallel(n_jobs=-1)]: Done  90 out of  90 | elapsed:    4.0s finished\n"
     ]
    },
    {
     "name": "stdout",
     "output_type": "stream",
     "text": [
      "all rf pca\n",
      "Fitting 5 folds for each of 100 candidates, totalling 500 fits\n"
     ]
    },
    {
     "name": "stderr",
     "output_type": "stream",
     "text": [
      "[Parallel(n_jobs=-1)]: Done  25 tasks      | elapsed:    9.6s\n",
      "[Parallel(n_jobs=-1)]: Done 146 tasks      | elapsed:   43.0s\n",
      "[Parallel(n_jobs=-1)]: Done 349 tasks      | elapsed:  2.1min\n",
      "[Parallel(n_jobs=-1)]: Done 500 out of 500 | elapsed:  3.3min finished\n"
     ]
    },
    {
     "name": "stdout",
     "output_type": "stream",
     "text": [
      "all logreg pca\n",
      "Fitting 5 folds for each of 18 candidates, totalling 90 fits\n"
     ]
    },
    {
     "name": "stderr",
     "output_type": "stream",
     "text": [
      "[Parallel(n_jobs=-1)]: Done  25 tasks      | elapsed:    6.3s\n",
      "[Parallel(n_jobs=-1)]: Done  90 out of  90 | elapsed:    9.7s finished\n"
     ]
    },
    {
     "name": "stdout",
     "output_type": "stream",
     "text": [
      "features rf clinical\n",
      "Fitting 5 folds for each of 100 candidates, totalling 500 fits\n"
     ]
    },
    {
     "name": "stderr",
     "output_type": "stream",
     "text": [
      "[Parallel(n_jobs=-1)]: Done  25 tasks      | elapsed:   13.9s\n",
      "[Parallel(n_jobs=-1)]: Done 146 tasks      | elapsed:  1.2min\n",
      "[Parallel(n_jobs=-1)]: Done 349 tasks      | elapsed:  2.5min\n",
      "[Parallel(n_jobs=-1)]: Done 500 out of 500 | elapsed:  3.3min finished\n"
     ]
    },
    {
     "name": "stdout",
     "output_type": "stream",
     "text": [
      "features logreg clinical\n",
      "Fitting 5 folds for each of 18 candidates, totalling 90 fits\n"
     ]
    },
    {
     "name": "stderr",
     "output_type": "stream",
     "text": [
      "[Parallel(n_jobs=-1)]: Done  25 tasks      | elapsed:    4.0s\n",
      "[Parallel(n_jobs=-1)]: Done  75 out of  90 | elapsed:    4.0s remaining:    0.7s\n",
      "[Parallel(n_jobs=-1)]: Done  90 out of  90 | elapsed:    4.0s finished\n"
     ]
    },
    {
     "name": "stdout",
     "output_type": "stream",
     "text": [
      "features rf rfe\n",
      "Fitting 5 folds for each of 100 candidates, totalling 500 fits\n"
     ]
    },
    {
     "name": "stderr",
     "output_type": "stream",
     "text": [
      "[Parallel(n_jobs=-1)]: Done  25 tasks      | elapsed:    8.4s\n",
      "[Parallel(n_jobs=-1)]: Done 146 tasks      | elapsed:   40.9s\n",
      "[Parallel(n_jobs=-1)]: Done 349 tasks      | elapsed:  1.5min\n",
      "[Parallel(n_jobs=-1)]: Done 500 out of 500 | elapsed:  2.2min finished\n"
     ]
    },
    {
     "name": "stdout",
     "output_type": "stream",
     "text": [
      "features logreg rfe\n",
      "Fitting 5 folds for each of 18 candidates, totalling 90 fits\n"
     ]
    },
    {
     "name": "stderr",
     "output_type": "stream",
     "text": [
      "[Parallel(n_jobs=-1)]: Done  25 tasks      | elapsed:    3.5s\n",
      "[Parallel(n_jobs=-1)]: Done  90 out of  90 | elapsed:    3.8s finished\n"
     ]
    },
    {
     "name": "stdout",
     "output_type": "stream",
     "text": [
      "all rf rfe\n",
      "Fitting 5 folds for each of 100 candidates, totalling 500 fits\n"
     ]
    },
    {
     "name": "stderr",
     "output_type": "stream",
     "text": [
      "[Parallel(n_jobs=-1)]: Done  25 tasks      | elapsed:    8.5s\n",
      "[Parallel(n_jobs=-1)]: Done 146 tasks      | elapsed:  1.1min\n",
      "[Parallel(n_jobs=-1)]: Done 349 tasks      | elapsed:  2.5min\n",
      "[Parallel(n_jobs=-1)]: Done 500 out of 500 | elapsed:  3.9min finished\n"
     ]
    },
    {
     "name": "stdout",
     "output_type": "stream",
     "text": [
      "all logreg rfe\n",
      "Fitting 5 folds for each of 18 candidates, totalling 90 fits\n"
     ]
    },
    {
     "name": "stderr",
     "output_type": "stream",
     "text": [
      "[Parallel(n_jobs=-1)]: Done  25 tasks      | elapsed:    5.5s\n",
      "[Parallel(n_jobs=-1)]: Done  75 out of  90 | elapsed:    5.7s remaining:    1.1s\n",
      "[Parallel(n_jobs=-1)]: Done  90 out of  90 | elapsed:    5.9s finished\n"
     ]
    },
    {
     "name": "stdout",
     "output_type": "stream",
     "text": [
      "texture FOLD: 9 DONE WITH TIME TAKEN (IN MIN): 16.3297\n",
      "TDA fold number: 0\n",
      "features rf pca\n",
      "Fitting 5 folds for each of 100 candidates, totalling 500 fits\n"
     ]
    },
    {
     "name": "stderr",
     "output_type": "stream",
     "text": [
      "[Parallel(n_jobs=-1)]: Done  25 tasks      | elapsed:   14.4s\n",
      "[Parallel(n_jobs=-1)]: Done 146 tasks      | elapsed:  1.2min\n",
      "[Parallel(n_jobs=-1)]: Done 349 tasks      | elapsed:  2.1min\n",
      "[Parallel(n_jobs=-1)]: Done 500 out of 500 | elapsed:  2.7min finished\n"
     ]
    },
    {
     "name": "stdout",
     "output_type": "stream",
     "text": [
      "features logreg pca\n",
      "Fitting 5 folds for each of 18 candidates, totalling 90 fits\n"
     ]
    },
    {
     "name": "stderr",
     "output_type": "stream",
     "text": [
      "[Parallel(n_jobs=-1)]: Done  25 tasks      | elapsed:    3.6s\n",
      "[Parallel(n_jobs=-1)]: Done  90 out of  90 | elapsed:    3.7s finished\n"
     ]
    },
    {
     "name": "stdout",
     "output_type": "stream",
     "text": [
      "all rf pca\n",
      "Fitting 5 folds for each of 100 candidates, totalling 500 fits\n"
     ]
    },
    {
     "name": "stderr",
     "output_type": "stream",
     "text": [
      "[Parallel(n_jobs=-1)]: Done  25 tasks      | elapsed:    8.6s\n",
      "[Parallel(n_jobs=-1)]: Done 146 tasks      | elapsed:   41.8s\n",
      "[Parallel(n_jobs=-1)]: Done 349 tasks      | elapsed:  1.4min\n",
      "[Parallel(n_jobs=-1)]: Done 500 out of 500 | elapsed:  2.3min finished\n"
     ]
    },
    {
     "name": "stdout",
     "output_type": "stream",
     "text": [
      "all logreg pca\n",
      "Fitting 5 folds for each of 18 candidates, totalling 90 fits\n"
     ]
    },
    {
     "name": "stderr",
     "output_type": "stream",
     "text": [
      "[Parallel(n_jobs=-1)]: Done  25 tasks      | elapsed:    5.6s\n",
      "[Parallel(n_jobs=-1)]: Done  90 out of  90 | elapsed:    7.1s finished\n"
     ]
    },
    {
     "name": "stdout",
     "output_type": "stream",
     "text": [
      "features rf clinical\n",
      "Fitting 5 folds for each of 100 candidates, totalling 500 fits\n"
     ]
    },
    {
     "name": "stderr",
     "output_type": "stream",
     "text": [
      "[Parallel(n_jobs=-1)]: Done  25 tasks      | elapsed:   13.3s\n",
      "[Parallel(n_jobs=-1)]: Done 146 tasks      | elapsed:   55.8s\n",
      "[Parallel(n_jobs=-1)]: Done 349 tasks      | elapsed:  2.0min\n",
      "[Parallel(n_jobs=-1)]: Done 500 out of 500 | elapsed:  2.9min finished\n"
     ]
    },
    {
     "name": "stdout",
     "output_type": "stream",
     "text": [
      "features logreg clinical\n",
      "Fitting 5 folds for each of 18 candidates, totalling 90 fits\n"
     ]
    },
    {
     "name": "stderr",
     "output_type": "stream",
     "text": [
      "[Parallel(n_jobs=-1)]: Done  25 tasks      | elapsed:    5.6s\n",
      "[Parallel(n_jobs=-1)]: Done  75 out of  90 | elapsed:    6.5s remaining:    1.2s\n",
      "[Parallel(n_jobs=-1)]: Done  90 out of  90 | elapsed:    6.5s finished\n"
     ]
    },
    {
     "name": "stdout",
     "output_type": "stream",
     "text": [
      "features rf rfe\n",
      "Fitting 5 folds for each of 100 candidates, totalling 500 fits\n"
     ]
    },
    {
     "name": "stderr",
     "output_type": "stream",
     "text": [
      "[Parallel(n_jobs=-1)]: Done  25 tasks      | elapsed:   15.0s\n",
      "[Parallel(n_jobs=-1)]: Done 146 tasks      | elapsed:  1.2min\n",
      "[Parallel(n_jobs=-1)]: Done 349 tasks      | elapsed:  1.9min\n",
      "[Parallel(n_jobs=-1)]: Done 500 out of 500 | elapsed:  2.5min finished\n"
     ]
    },
    {
     "name": "stdout",
     "output_type": "stream",
     "text": [
      "features logreg rfe\n",
      "Fitting 5 folds for each of 18 candidates, totalling 90 fits\n"
     ]
    },
    {
     "name": "stderr",
     "output_type": "stream",
     "text": [
      "[Parallel(n_jobs=-1)]: Done  25 tasks      | elapsed:    3.7s\n",
      "[Parallel(n_jobs=-1)]: Done  75 out of  90 | elapsed:    3.8s remaining:    0.7s\n",
      "[Parallel(n_jobs=-1)]: Done  90 out of  90 | elapsed:    3.8s finished\n"
     ]
    },
    {
     "name": "stdout",
     "output_type": "stream",
     "text": [
      "all rf rfe\n",
      "Fitting 5 folds for each of 100 candidates, totalling 500 fits\n"
     ]
    },
    {
     "name": "stderr",
     "output_type": "stream",
     "text": [
      "[Parallel(n_jobs=-1)]: Done  25 tasks      | elapsed:    8.4s\n",
      "[Parallel(n_jobs=-1)]: Done 146 tasks      | elapsed:   39.6s\n",
      "[Parallel(n_jobs=-1)]: Done 349 tasks      | elapsed:  1.4min\n",
      "[Parallel(n_jobs=-1)]: Done 500 out of 500 | elapsed:  2.1min finished\n"
     ]
    },
    {
     "name": "stdout",
     "output_type": "stream",
     "text": [
      "all logreg rfe\n",
      "Fitting 5 folds for each of 18 candidates, totalling 90 fits\n"
     ]
    },
    {
     "name": "stderr",
     "output_type": "stream",
     "text": [
      "[Parallel(n_jobs=-1)]: Done  25 tasks      | elapsed:    5.6s\n",
      "[Parallel(n_jobs=-1)]: Done  90 out of  90 | elapsed:    6.5s finished\n"
     ]
    },
    {
     "name": "stdout",
     "output_type": "stream",
     "text": [
      "TDA FOLD: 0 DONE WITH TIME TAKEN (IN MIN): 13.0082\n",
      "TDA fold number: 1\n",
      "features rf pca\n",
      "Fitting 5 folds for each of 100 candidates, totalling 500 fits\n"
     ]
    },
    {
     "name": "stderr",
     "output_type": "stream",
     "text": [
      "[Parallel(n_jobs=-1)]: Done  25 tasks      | elapsed:   19.0s\n",
      "[Parallel(n_jobs=-1)]: Done 146 tasks      | elapsed:  1.3min\n",
      "[Parallel(n_jobs=-1)]: Done 349 tasks      | elapsed:  2.8min\n",
      "[Parallel(n_jobs=-1)]: Done 500 out of 500 | elapsed:  3.8min finished\n"
     ]
    },
    {
     "name": "stdout",
     "output_type": "stream",
     "text": [
      "features logreg pca\n",
      "Fitting 5 folds for each of 18 candidates, totalling 90 fits\n"
     ]
    },
    {
     "name": "stderr",
     "output_type": "stream",
     "text": [
      "[Parallel(n_jobs=-1)]: Done  25 tasks      | elapsed:    5.9s\n",
      "[Parallel(n_jobs=-1)]: Done  75 out of  90 | elapsed:    6.5s remaining:    1.2s\n",
      "[Parallel(n_jobs=-1)]: Done  90 out of  90 | elapsed:    6.6s finished\n"
     ]
    },
    {
     "name": "stdout",
     "output_type": "stream",
     "text": [
      "all rf pca\n",
      "Fitting 5 folds for each of 100 candidates, totalling 500 fits\n"
     ]
    },
    {
     "name": "stderr",
     "output_type": "stream",
     "text": [
      "[Parallel(n_jobs=-1)]: Done  25 tasks      | elapsed:   18.9s\n",
      "[Parallel(n_jobs=-1)]: Done 146 tasks      | elapsed:  1.1min\n",
      "[Parallel(n_jobs=-1)]: Done 349 tasks      | elapsed:  1.9min\n",
      "[Parallel(n_jobs=-1)]: Done 500 out of 500 | elapsed:  2.5min finished\n"
     ]
    },
    {
     "name": "stdout",
     "output_type": "stream",
     "text": [
      "all logreg pca\n",
      "Fitting 5 folds for each of 18 candidates, totalling 90 fits\n"
     ]
    },
    {
     "name": "stderr",
     "output_type": "stream",
     "text": [
      "[Parallel(n_jobs=-1)]: Done  25 tasks      | elapsed:    3.6s\n",
      "[Parallel(n_jobs=-1)]: Done  75 out of  90 | elapsed:    3.8s remaining:    0.7s\n",
      "[Parallel(n_jobs=-1)]: Done  90 out of  90 | elapsed:    4.0s finished\n"
     ]
    },
    {
     "name": "stdout",
     "output_type": "stream",
     "text": [
      "features rf clinical\n",
      "Fitting 5 folds for each of 100 candidates, totalling 500 fits\n"
     ]
    },
    {
     "name": "stderr",
     "output_type": "stream",
     "text": [
      "[Parallel(n_jobs=-1)]: Done  25 tasks      | elapsed:    9.3s\n",
      "[Parallel(n_jobs=-1)]: Done 146 tasks      | elapsed:   40.4s\n",
      "[Parallel(n_jobs=-1)]: Done 349 tasks      | elapsed:  1.5min\n",
      "[Parallel(n_jobs=-1)]: Done 500 out of 500 | elapsed:  2.3min finished\n"
     ]
    },
    {
     "name": "stdout",
     "output_type": "stream",
     "text": [
      "features logreg clinical\n",
      "Fitting 5 folds for each of 18 candidates, totalling 90 fits\n"
     ]
    },
    {
     "name": "stderr",
     "output_type": "stream",
     "text": [
      "[Parallel(n_jobs=-1)]: Done  25 tasks      | elapsed:    3.7s\n",
      "[Parallel(n_jobs=-1)]: Done  75 out of  90 | elapsed:    3.8s remaining:    0.7s\n",
      "[Parallel(n_jobs=-1)]: Done  90 out of  90 | elapsed:    3.8s finished\n"
     ]
    },
    {
     "name": "stdout",
     "output_type": "stream",
     "text": [
      "features rf rfe\n",
      "Fitting 5 folds for each of 100 candidates, totalling 500 fits\n"
     ]
    },
    {
     "name": "stderr",
     "output_type": "stream",
     "text": [
      "[Parallel(n_jobs=-1)]: Done  25 tasks      | elapsed:   16.4s\n",
      "[Parallel(n_jobs=-1)]: Done 146 tasks      | elapsed:  1.3min\n",
      "[Parallel(n_jobs=-1)]: Done 349 tasks      | elapsed:  2.5min\n",
      "[Parallel(n_jobs=-1)]: Done 500 out of 500 | elapsed:  3.5min finished\n"
     ]
    },
    {
     "name": "stdout",
     "output_type": "stream",
     "text": [
      "features logreg rfe\n",
      "Fitting 5 folds for each of 18 candidates, totalling 90 fits\n"
     ]
    },
    {
     "name": "stderr",
     "output_type": "stream",
     "text": [
      "[Parallel(n_jobs=-1)]: Done  25 tasks      | elapsed:    5.7s\n",
      "[Parallel(n_jobs=-1)]: Done  75 out of  90 | elapsed:    5.7s remaining:    1.1s\n",
      "[Parallel(n_jobs=-1)]: Done  90 out of  90 | elapsed:    5.9s finished\n"
     ]
    },
    {
     "name": "stdout",
     "output_type": "stream",
     "text": [
      "all rf rfe\n",
      "Fitting 5 folds for each of 100 candidates, totalling 500 fits\n"
     ]
    },
    {
     "name": "stderr",
     "output_type": "stream",
     "text": [
      "[Parallel(n_jobs=-1)]: Done  25 tasks      | elapsed:   15.3s\n",
      "[Parallel(n_jobs=-1)]: Done 146 tasks      | elapsed:   49.1s\n",
      "[Parallel(n_jobs=-1)]: Done 349 tasks      | elapsed:  1.6min\n",
      "[Parallel(n_jobs=-1)]: Done 500 out of 500 | elapsed:  2.2min finished\n"
     ]
    },
    {
     "name": "stdout",
     "output_type": "stream",
     "text": [
      "all logreg rfe\n",
      "Fitting 5 folds for each of 18 candidates, totalling 90 fits\n"
     ]
    },
    {
     "name": "stderr",
     "output_type": "stream",
     "text": [
      "[Parallel(n_jobs=-1)]: Done  25 tasks      | elapsed:    3.6s\n",
      "[Parallel(n_jobs=-1)]: Done  90 out of  90 | elapsed:    3.8s finished\n"
     ]
    },
    {
     "name": "stdout",
     "output_type": "stream",
     "text": [
      "TDA FOLD: 1 DONE WITH TIME TAKEN (IN MIN): 14.8244\n",
      "TDA fold number: 2\n",
      "features rf pca\n",
      "Fitting 5 folds for each of 100 candidates, totalling 500 fits\n"
     ]
    },
    {
     "name": "stderr",
     "output_type": "stream",
     "text": [
      "[Parallel(n_jobs=-1)]: Done  25 tasks      | elapsed:    9.8s\n",
      "[Parallel(n_jobs=-1)]: Done 146 tasks      | elapsed:   42.5s\n",
      "[Parallel(n_jobs=-1)]: Done 349 tasks      | elapsed:  2.1min\n",
      "[Parallel(n_jobs=-1)]: Done 500 out of 500 | elapsed:  3.2min finished\n"
     ]
    },
    {
     "name": "stdout",
     "output_type": "stream",
     "text": [
      "features logreg pca\n",
      "Fitting 5 folds for each of 18 candidates, totalling 90 fits\n"
     ]
    },
    {
     "name": "stderr",
     "output_type": "stream",
     "text": [
      "[Parallel(n_jobs=-1)]: Done  25 tasks      | elapsed:    5.7s\n",
      "[Parallel(n_jobs=-1)]: Done  75 out of  90 | elapsed:    6.7s remaining:    1.3s\n",
      "[Parallel(n_jobs=-1)]: Done  90 out of  90 | elapsed:    6.7s finished\n"
     ]
    },
    {
     "name": "stdout",
     "output_type": "stream",
     "text": [
      "all rf pca\n",
      "Fitting 5 folds for each of 100 candidates, totalling 500 fits\n"
     ]
    },
    {
     "name": "stderr",
     "output_type": "stream",
     "text": [
      "[Parallel(n_jobs=-1)]: Done  25 tasks      | elapsed:   16.2s\n",
      "[Parallel(n_jobs=-1)]: Done 146 tasks      | elapsed:  1.2min\n",
      "[Parallel(n_jobs=-1)]: Done 349 tasks      | elapsed:  2.7min\n",
      "[Parallel(n_jobs=-1)]: Done 500 out of 500 | elapsed:  3.5min finished\n"
     ]
    },
    {
     "name": "stdout",
     "output_type": "stream",
     "text": [
      "all logreg pca\n",
      "Fitting 5 folds for each of 18 candidates, totalling 90 fits\n"
     ]
    },
    {
     "name": "stderr",
     "output_type": "stream",
     "text": [
      "[Parallel(n_jobs=-1)]: Done  25 tasks      | elapsed:    3.7s\n",
      "[Parallel(n_jobs=-1)]: Done  75 out of  90 | elapsed:    3.8s remaining:    0.7s\n",
      "[Parallel(n_jobs=-1)]: Done  90 out of  90 | elapsed:    4.0s finished\n"
     ]
    },
    {
     "name": "stdout",
     "output_type": "stream",
     "text": [
      "features rf clinical\n",
      "Fitting 5 folds for each of 100 candidates, totalling 500 fits\n"
     ]
    },
    {
     "name": "stderr",
     "output_type": "stream",
     "text": [
      "[Parallel(n_jobs=-1)]: Done  25 tasks      | elapsed:    8.5s\n",
      "[Parallel(n_jobs=-1)]: Done 146 tasks      | elapsed:   34.4s\n",
      "[Parallel(n_jobs=-1)]: Done 349 tasks      | elapsed:  1.3min\n",
      "[Parallel(n_jobs=-1)]: Done 500 out of 500 | elapsed:  1.9min finished\n"
     ]
    },
    {
     "name": "stdout",
     "output_type": "stream",
     "text": [
      "features logreg clinical\n",
      "Fitting 5 folds for each of 18 candidates, totalling 90 fits\n"
     ]
    },
    {
     "name": "stderr",
     "output_type": "stream",
     "text": [
      "[Parallel(n_jobs=-1)]: Done  25 tasks      | elapsed:    4.1s\n",
      "[Parallel(n_jobs=-1)]: Done  75 out of  90 | elapsed:    4.1s remaining:    0.7s\n",
      "[Parallel(n_jobs=-1)]: Done  90 out of  90 | elapsed:    4.2s finished\n"
     ]
    },
    {
     "name": "stdout",
     "output_type": "stream",
     "text": [
      "features rf rfe\n",
      "Fitting 5 folds for each of 100 candidates, totalling 500 fits\n"
     ]
    },
    {
     "name": "stderr",
     "output_type": "stream",
     "text": [
      "[Parallel(n_jobs=-1)]: Done  25 tasks      | elapsed:    9.8s\n",
      "[Parallel(n_jobs=-1)]: Done 146 tasks      | elapsed:   44.9s\n",
      "[Parallel(n_jobs=-1)]: Done 349 tasks      | elapsed:  2.1min\n",
      "[Parallel(n_jobs=-1)]: Done 500 out of 500 | elapsed:  3.2min finished\n"
     ]
    },
    {
     "name": "stdout",
     "output_type": "stream",
     "text": [
      "features logreg rfe\n",
      "Fitting 5 folds for each of 18 candidates, totalling 90 fits\n"
     ]
    },
    {
     "name": "stderr",
     "output_type": "stream",
     "text": [
      "[Parallel(n_jobs=-1)]: Done  25 tasks      | elapsed:    5.5s\n",
      "[Parallel(n_jobs=-1)]: Done  75 out of  90 | elapsed:    5.6s remaining:    1.0s\n",
      "[Parallel(n_jobs=-1)]: Done  90 out of  90 | elapsed:    5.6s finished\n"
     ]
    },
    {
     "name": "stdout",
     "output_type": "stream",
     "text": [
      "all rf rfe\n",
      "Fitting 5 folds for each of 100 candidates, totalling 500 fits\n"
     ]
    },
    {
     "name": "stderr",
     "output_type": "stream",
     "text": [
      "[Parallel(n_jobs=-1)]: Done  25 tasks      | elapsed:   16.6s\n",
      "[Parallel(n_jobs=-1)]: Done 146 tasks      | elapsed:  1.1min\n",
      "[Parallel(n_jobs=-1)]: Done 349 tasks      | elapsed:  2.5min\n",
      "[Parallel(n_jobs=-1)]: Done 500 out of 500 | elapsed:  3.1min finished\n"
     ]
    },
    {
     "name": "stdout",
     "output_type": "stream",
     "text": [
      "all logreg rfe\n",
      "Fitting 5 folds for each of 18 candidates, totalling 90 fits\n"
     ]
    },
    {
     "name": "stderr",
     "output_type": "stream",
     "text": [
      "[Parallel(n_jobs=-1)]: Done  25 tasks      | elapsed:    3.6s\n",
      "[Parallel(n_jobs=-1)]: Done  75 out of  90 | elapsed:    3.7s remaining:    0.7s\n",
      "[Parallel(n_jobs=-1)]: Done  90 out of  90 | elapsed:    3.8s finished\n"
     ]
    },
    {
     "name": "stdout",
     "output_type": "stream",
     "text": [
      "TDA FOLD: 2 DONE WITH TIME TAKEN (IN MIN): 15.2402\n",
      "TDA fold number: 3\n",
      "features rf pca\n",
      "Fitting 5 folds for each of 100 candidates, totalling 500 fits\n"
     ]
    },
    {
     "name": "stderr",
     "output_type": "stream",
     "text": [
      "[Parallel(n_jobs=-1)]: Done  25 tasks      | elapsed:   12.5s\n",
      "[Parallel(n_jobs=-1)]: Done 146 tasks      | elapsed:   40.8s\n",
      "[Parallel(n_jobs=-1)]: Done 349 tasks      | elapsed:  1.8min\n",
      "[Parallel(n_jobs=-1)]: Done 500 out of 500 | elapsed:  2.5min finished\n"
     ]
    },
    {
     "name": "stdout",
     "output_type": "stream",
     "text": [
      "features logreg pca\n",
      "Fitting 5 folds for each of 18 candidates, totalling 90 fits\n"
     ]
    },
    {
     "name": "stderr",
     "output_type": "stream",
     "text": [
      "[Parallel(n_jobs=-1)]: Done  25 tasks      | elapsed:    5.7s\n",
      "[Parallel(n_jobs=-1)]: Done  90 out of  90 | elapsed:    8.2s finished\n"
     ]
    },
    {
     "name": "stdout",
     "output_type": "stream",
     "text": [
      "all rf pca\n",
      "Fitting 5 folds for each of 100 candidates, totalling 500 fits\n"
     ]
    },
    {
     "name": "stderr",
     "output_type": "stream",
     "text": [
      "[Parallel(n_jobs=-1)]: Done  25 tasks      | elapsed:   21.5s\n",
      "[Parallel(n_jobs=-1)]: Done 146 tasks      | elapsed:  1.0min\n",
      "[Parallel(n_jobs=-1)]: Done 349 tasks      | elapsed:  2.9min\n",
      "[Parallel(n_jobs=-1)]: Done 500 out of 500 | elapsed:  3.9min finished\n"
     ]
    },
    {
     "name": "stdout",
     "output_type": "stream",
     "text": [
      "all logreg pca\n",
      "Fitting 5 folds for each of 18 candidates, totalling 90 fits\n"
     ]
    },
    {
     "name": "stderr",
     "output_type": "stream",
     "text": [
      "[Parallel(n_jobs=-1)]: Done  25 tasks      | elapsed:    5.3s\n",
      "[Parallel(n_jobs=-1)]: Done  90 out of  90 | elapsed:    7.2s finished\n"
     ]
    },
    {
     "name": "stdout",
     "output_type": "stream",
     "text": [
      "features rf clinical\n",
      "Fitting 5 folds for each of 100 candidates, totalling 500 fits\n"
     ]
    },
    {
     "name": "stderr",
     "output_type": "stream",
     "text": [
      "[Parallel(n_jobs=-1)]: Done  25 tasks      | elapsed:   17.4s\n",
      "[Parallel(n_jobs=-1)]: Done 146 tasks      | elapsed:   44.5s\n",
      "[Parallel(n_jobs=-1)]: Done 349 tasks      | elapsed:  1.6min\n",
      "[Parallel(n_jobs=-1)]: Done 500 out of 500 | elapsed:  2.1min finished\n"
     ]
    },
    {
     "name": "stdout",
     "output_type": "stream",
     "text": [
      "features logreg clinical\n",
      "Fitting 5 folds for each of 18 candidates, totalling 90 fits\n"
     ]
    },
    {
     "name": "stderr",
     "output_type": "stream",
     "text": [
      "[Parallel(n_jobs=-1)]: Done  25 tasks      | elapsed:    3.8s\n",
      "[Parallel(n_jobs=-1)]: Done  75 out of  90 | elapsed:    3.9s remaining:    0.7s\n",
      "[Parallel(n_jobs=-1)]: Done  90 out of  90 | elapsed:    3.9s finished\n"
     ]
    },
    {
     "name": "stdout",
     "output_type": "stream",
     "text": [
      "features rf rfe\n",
      "Fitting 5 folds for each of 100 candidates, totalling 500 fits\n"
     ]
    },
    {
     "name": "stderr",
     "output_type": "stream",
     "text": [
      "[Parallel(n_jobs=-1)]: Done  25 tasks      | elapsed:   11.7s\n",
      "[Parallel(n_jobs=-1)]: Done 146 tasks      | elapsed:   36.9s\n",
      "[Parallel(n_jobs=-1)]: Done 349 tasks      | elapsed:  1.7min\n",
      "[Parallel(n_jobs=-1)]: Done 500 out of 500 | elapsed:  2.7min finished\n"
     ]
    },
    {
     "name": "stdout",
     "output_type": "stream",
     "text": [
      "features logreg rfe\n",
      "Fitting 5 folds for each of 18 candidates, totalling 90 fits\n"
     ]
    },
    {
     "name": "stderr",
     "output_type": "stream",
     "text": [
      "[Parallel(n_jobs=-1)]: Done  25 tasks      | elapsed:    5.6s\n",
      "[Parallel(n_jobs=-1)]: Done  90 out of  90 | elapsed:    6.3s finished\n"
     ]
    },
    {
     "name": "stdout",
     "output_type": "stream",
     "text": [
      "all rf rfe\n",
      "Fitting 5 folds for each of 100 candidates, totalling 500 fits\n"
     ]
    },
    {
     "name": "stderr",
     "output_type": "stream",
     "text": [
      "[Parallel(n_jobs=-1)]: Done  25 tasks      | elapsed:   19.7s\n",
      "[Parallel(n_jobs=-1)]: Done 146 tasks      | elapsed:  1.0min\n",
      "[Parallel(n_jobs=-1)]: Done 349 tasks      | elapsed:  2.6min\n",
      "[Parallel(n_jobs=-1)]: Done 500 out of 500 | elapsed:  3.7min finished\n"
     ]
    },
    {
     "name": "stdout",
     "output_type": "stream",
     "text": [
      "all logreg rfe\n",
      "Fitting 5 folds for each of 18 candidates, totalling 90 fits\n"
     ]
    },
    {
     "name": "stderr",
     "output_type": "stream",
     "text": [
      "[Parallel(n_jobs=-1)]: Done  25 tasks      | elapsed:    3.8s\n",
      "[Parallel(n_jobs=-1)]: Done  75 out of  90 | elapsed:    3.9s remaining:    0.7s\n",
      "[Parallel(n_jobs=-1)]: Done  90 out of  90 | elapsed:    4.0s finished\n"
     ]
    },
    {
     "name": "stdout",
     "output_type": "stream",
     "text": [
      "TDA FOLD: 3 DONE WITH TIME TAKEN (IN MIN): 15.5482\n",
      "TDA fold number: 4\n",
      "features rf pca\n",
      "Fitting 5 folds for each of 100 candidates, totalling 500 fits\n"
     ]
    },
    {
     "name": "stderr",
     "output_type": "stream",
     "text": [
      "[Parallel(n_jobs=-1)]: Done  25 tasks      | elapsed:   14.1s\n",
      "[Parallel(n_jobs=-1)]: Done 146 tasks      | elapsed:   53.8s\n",
      "[Parallel(n_jobs=-1)]: Done 349 tasks      | elapsed:  1.8min\n",
      "[Parallel(n_jobs=-1)]: Done 500 out of 500 | elapsed:  2.5min finished\n"
     ]
    },
    {
     "name": "stdout",
     "output_type": "stream",
     "text": [
      "features logreg pca\n",
      "Fitting 5 folds for each of 18 candidates, totalling 90 fits\n"
     ]
    },
    {
     "name": "stderr",
     "output_type": "stream",
     "text": [
      "[Parallel(n_jobs=-1)]: Done  25 tasks      | elapsed:    3.9s\n",
      "[Parallel(n_jobs=-1)]: Done  75 out of  90 | elapsed:    4.0s remaining:    0.7s\n",
      "[Parallel(n_jobs=-1)]: Done  90 out of  90 | elapsed:    4.0s finished\n"
     ]
    },
    {
     "name": "stdout",
     "output_type": "stream",
     "text": [
      "all rf pca\n",
      "Fitting 5 folds for each of 100 candidates, totalling 500 fits\n"
     ]
    },
    {
     "name": "stderr",
     "output_type": "stream",
     "text": [
      "[Parallel(n_jobs=-1)]: Done  25 tasks      | elapsed:   14.5s\n",
      "[Parallel(n_jobs=-1)]: Done 146 tasks      | elapsed:  1.1min\n",
      "[Parallel(n_jobs=-1)]: Done 349 tasks      | elapsed:  2.5min\n",
      "[Parallel(n_jobs=-1)]: Done 500 out of 500 | elapsed:  3.7min finished\n"
     ]
    },
    {
     "name": "stdout",
     "output_type": "stream",
     "text": [
      "all logreg pca\n",
      "Fitting 5 folds for each of 18 candidates, totalling 90 fits\n"
     ]
    },
    {
     "name": "stderr",
     "output_type": "stream",
     "text": [
      "[Parallel(n_jobs=-1)]: Done  25 tasks      | elapsed:    8.3s\n",
      "[Parallel(n_jobs=-1)]: Done  90 out of  90 | elapsed:   10.2s finished\n"
     ]
    },
    {
     "name": "stdout",
     "output_type": "stream",
     "text": [
      "features rf clinical\n",
      "Fitting 5 folds for each of 100 candidates, totalling 500 fits\n"
     ]
    },
    {
     "name": "stderr",
     "output_type": "stream",
     "text": [
      "[Parallel(n_jobs=-1)]: Done  25 tasks      | elapsed:   22.2s\n",
      "[Parallel(n_jobs=-1)]: Done 146 tasks      | elapsed:  1.1min\n",
      "[Parallel(n_jobs=-1)]: Done 349 tasks      | elapsed:  2.2min\n",
      "[Parallel(n_jobs=-1)]: Done 500 out of 500 | elapsed:  2.7min finished\n"
     ]
    },
    {
     "name": "stdout",
     "output_type": "stream",
     "text": [
      "features logreg clinical\n",
      "Fitting 5 folds for each of 18 candidates, totalling 90 fits\n"
     ]
    },
    {
     "name": "stderr",
     "output_type": "stream",
     "text": [
      "[Parallel(n_jobs=-1)]: Done  25 tasks      | elapsed:    3.7s\n",
      "[Parallel(n_jobs=-1)]: Done  75 out of  90 | elapsed:    3.7s remaining:    0.7s\n",
      "[Parallel(n_jobs=-1)]: Done  90 out of  90 | elapsed:    3.8s finished\n"
     ]
    },
    {
     "name": "stdout",
     "output_type": "stream",
     "text": [
      "features rf rfe\n",
      "Fitting 5 folds for each of 100 candidates, totalling 500 fits\n"
     ]
    },
    {
     "name": "stderr",
     "output_type": "stream",
     "text": [
      "[Parallel(n_jobs=-1)]: Done  25 tasks      | elapsed:   11.7s\n",
      "[Parallel(n_jobs=-1)]: Done 146 tasks      | elapsed:   41.4s\n",
      "[Parallel(n_jobs=-1)]: Done 349 tasks      | elapsed:  1.5min\n",
      "[Parallel(n_jobs=-1)]: Done 500 out of 500 | elapsed:  2.2min finished\n"
     ]
    },
    {
     "name": "stdout",
     "output_type": "stream",
     "text": [
      "features logreg rfe\n",
      "Fitting 5 folds for each of 18 candidates, totalling 90 fits\n"
     ]
    },
    {
     "name": "stderr",
     "output_type": "stream",
     "text": [
      "[Parallel(n_jobs=-1)]: Done  25 tasks      | elapsed:    6.1s\n",
      "[Parallel(n_jobs=-1)]: Done  90 out of  90 | elapsed:    6.1s finished\n"
     ]
    },
    {
     "name": "stdout",
     "output_type": "stream",
     "text": [
      "all rf rfe\n",
      "Fitting 5 folds for each of 100 candidates, totalling 500 fits\n"
     ]
    },
    {
     "name": "stderr",
     "output_type": "stream",
     "text": [
      "[Parallel(n_jobs=-1)]: Done  25 tasks      | elapsed:   18.9s\n",
      "[Parallel(n_jobs=-1)]: Done 146 tasks      | elapsed:   56.9s\n",
      "[Parallel(n_jobs=-1)]: Done 349 tasks      | elapsed:  1.7min\n",
      "[Parallel(n_jobs=-1)]: Done 500 out of 500 | elapsed:  2.2min finished\n"
     ]
    },
    {
     "name": "stdout",
     "output_type": "stream",
     "text": [
      "all logreg rfe\n",
      "Fitting 5 folds for each of 18 candidates, totalling 90 fits\n"
     ]
    },
    {
     "name": "stderr",
     "output_type": "stream",
     "text": [
      "[Parallel(n_jobs=-1)]: Done  25 tasks      | elapsed:    3.5s\n",
      "[Parallel(n_jobs=-1)]: Done  90 out of  90 | elapsed:    3.6s finished\n"
     ]
    },
    {
     "name": "stdout",
     "output_type": "stream",
     "text": [
      "TDA FOLD: 4 DONE WITH TIME TAKEN (IN MIN): 13.997\n",
      "TDA fold number: 5\n",
      "features rf pca\n",
      "Fitting 5 folds for each of 100 candidates, totalling 500 fits\n"
     ]
    },
    {
     "name": "stderr",
     "output_type": "stream",
     "text": [
      "[Parallel(n_jobs=-1)]: Done  25 tasks      | elapsed:    9.3s\n",
      "[Parallel(n_jobs=-1)]: Done 146 tasks      | elapsed:   32.2s\n",
      "[Parallel(n_jobs=-1)]: Done 349 tasks      | elapsed:  1.3min\n",
      "[Parallel(n_jobs=-1)]: Done 500 out of 500 | elapsed:  1.8min finished\n"
     ]
    },
    {
     "name": "stdout",
     "output_type": "stream",
     "text": [
      "features logreg pca\n",
      "Fitting 5 folds for each of 18 candidates, totalling 90 fits\n"
     ]
    },
    {
     "name": "stderr",
     "output_type": "stream",
     "text": [
      "[Parallel(n_jobs=-1)]: Done  25 tasks      | elapsed:    3.5s\n",
      "[Parallel(n_jobs=-1)]: Done  90 out of  90 | elapsed:    3.6s finished\n"
     ]
    },
    {
     "name": "stdout",
     "output_type": "stream",
     "text": [
      "all rf pca\n",
      "Fitting 5 folds for each of 100 candidates, totalling 500 fits\n"
     ]
    },
    {
     "name": "stderr",
     "output_type": "stream",
     "text": [
      "[Parallel(n_jobs=-1)]: Done  25 tasks      | elapsed:    9.0s\n",
      "[Parallel(n_jobs=-1)]: Done 146 tasks      | elapsed:   31.4s\n",
      "[Parallel(n_jobs=-1)]: Done 349 tasks      | elapsed:  1.2min\n",
      "[Parallel(n_jobs=-1)]: Done 500 out of 500 | elapsed:  1.8min finished\n"
     ]
    },
    {
     "name": "stdout",
     "output_type": "stream",
     "text": [
      "all logreg pca\n",
      "Fitting 5 folds for each of 18 candidates, totalling 90 fits\n"
     ]
    },
    {
     "name": "stderr",
     "output_type": "stream",
     "text": [
      "[Parallel(n_jobs=-1)]: Done  25 tasks      | elapsed:    3.5s\n",
      "[Parallel(n_jobs=-1)]: Done  75 out of  90 | elapsed:    3.6s remaining:    0.6s\n",
      "[Parallel(n_jobs=-1)]: Done  90 out of  90 | elapsed:    3.7s finished\n"
     ]
    },
    {
     "name": "stdout",
     "output_type": "stream",
     "text": [
      "features rf clinical\n",
      "Fitting 5 folds for each of 100 candidates, totalling 500 fits\n"
     ]
    },
    {
     "name": "stderr",
     "output_type": "stream",
     "text": [
      "[Parallel(n_jobs=-1)]: Done  25 tasks      | elapsed:    8.3s\n",
      "[Parallel(n_jobs=-1)]: Done 146 tasks      | elapsed:   27.7s\n",
      "[Parallel(n_jobs=-1)]: Done 349 tasks      | elapsed:  1.1min\n",
      "[Parallel(n_jobs=-1)]: Done 500 out of 500 | elapsed:  1.6min finished\n"
     ]
    },
    {
     "name": "stdout",
     "output_type": "stream",
     "text": [
      "features logreg clinical\n",
      "Fitting 5 folds for each of 18 candidates, totalling 90 fits\n"
     ]
    },
    {
     "name": "stderr",
     "output_type": "stream",
     "text": [
      "[Parallel(n_jobs=-1)]: Done  25 tasks      | elapsed:    3.5s\n",
      "[Parallel(n_jobs=-1)]: Done  75 out of  90 | elapsed:    3.6s remaining:    0.6s\n",
      "[Parallel(n_jobs=-1)]: Done  90 out of  90 | elapsed:    3.6s finished\n"
     ]
    },
    {
     "name": "stdout",
     "output_type": "stream",
     "text": [
      "features rf rfe\n",
      "Fitting 5 folds for each of 100 candidates, totalling 500 fits\n"
     ]
    },
    {
     "name": "stderr",
     "output_type": "stream",
     "text": [
      "[Parallel(n_jobs=-1)]: Done  25 tasks      | elapsed:    8.7s\n",
      "[Parallel(n_jobs=-1)]: Done 146 tasks      | elapsed:   29.7s\n",
      "[Parallel(n_jobs=-1)]: Done 349 tasks      | elapsed:  1.2min\n",
      "[Parallel(n_jobs=-1)]: Done 500 out of 500 | elapsed:  1.7min finished\n"
     ]
    },
    {
     "name": "stdout",
     "output_type": "stream",
     "text": [
      "features logreg rfe\n",
      "Fitting 5 folds for each of 18 candidates, totalling 90 fits\n"
     ]
    },
    {
     "name": "stderr",
     "output_type": "stream",
     "text": [
      "[Parallel(n_jobs=-1)]: Done  25 tasks      | elapsed:    3.5s\n",
      "[Parallel(n_jobs=-1)]: Done  75 out of  90 | elapsed:    3.6s remaining:    0.6s\n",
      "[Parallel(n_jobs=-1)]: Done  90 out of  90 | elapsed:    3.6s finished\n"
     ]
    },
    {
     "name": "stdout",
     "output_type": "stream",
     "text": [
      "all rf rfe\n",
      "Fitting 5 folds for each of 100 candidates, totalling 500 fits\n"
     ]
    },
    {
     "name": "stderr",
     "output_type": "stream",
     "text": [
      "[Parallel(n_jobs=-1)]: Done  25 tasks      | elapsed:    8.7s\n",
      "[Parallel(n_jobs=-1)]: Done 146 tasks      | elapsed:   29.7s\n",
      "[Parallel(n_jobs=-1)]: Done 349 tasks      | elapsed:  1.2min\n",
      "[Parallel(n_jobs=-1)]: Done 500 out of 500 | elapsed:  1.7min finished\n"
     ]
    },
    {
     "name": "stdout",
     "output_type": "stream",
     "text": [
      "all logreg rfe\n",
      "Fitting 5 folds for each of 18 candidates, totalling 90 fits\n"
     ]
    },
    {
     "name": "stderr",
     "output_type": "stream",
     "text": [
      "[Parallel(n_jobs=-1)]: Done  25 tasks      | elapsed:    3.5s\n",
      "[Parallel(n_jobs=-1)]: Done  75 out of  90 | elapsed:    3.6s remaining:    0.6s\n",
      "[Parallel(n_jobs=-1)]: Done  90 out of  90 | elapsed:    3.6s finished\n"
     ]
    },
    {
     "name": "stdout",
     "output_type": "stream",
     "text": [
      "TDA FOLD: 5 DONE WITH TIME TAKEN (IN MIN): 8.9141\n",
      "TDA fold number: 6\n",
      "features rf pca\n",
      "Fitting 5 folds for each of 100 candidates, totalling 500 fits\n"
     ]
    },
    {
     "name": "stderr",
     "output_type": "stream",
     "text": [
      "[Parallel(n_jobs=-1)]: Done  25 tasks      | elapsed:    7.1s\n",
      "[Parallel(n_jobs=-1)]: Done 146 tasks      | elapsed:   40.8s\n",
      "[Parallel(n_jobs=-1)]: Done 349 tasks      | elapsed:  1.5min\n",
      "[Parallel(n_jobs=-1)]: Done 500 out of 500 | elapsed:  2.1min finished\n"
     ]
    },
    {
     "name": "stdout",
     "output_type": "stream",
     "text": [
      "features logreg pca\n",
      "Fitting 5 folds for each of 18 candidates, totalling 90 fits\n"
     ]
    },
    {
     "name": "stderr",
     "output_type": "stream",
     "text": [
      "[Parallel(n_jobs=-1)]: Done  25 tasks      | elapsed:    3.9s\n",
      "[Parallel(n_jobs=-1)]: Done  75 out of  90 | elapsed:    3.9s remaining:    0.7s\n",
      "[Parallel(n_jobs=-1)]: Done  90 out of  90 | elapsed:    3.9s finished\n"
     ]
    },
    {
     "name": "stdout",
     "output_type": "stream",
     "text": [
      "all rf pca\n",
      "Fitting 5 folds for each of 100 candidates, totalling 500 fits\n"
     ]
    },
    {
     "name": "stderr",
     "output_type": "stream",
     "text": [
      "[Parallel(n_jobs=-1)]: Done  25 tasks      | elapsed:    7.0s\n",
      "[Parallel(n_jobs=-1)]: Done 146 tasks      | elapsed:   39.3s\n",
      "[Parallel(n_jobs=-1)]: Done 349 tasks      | elapsed:  1.5min\n",
      "[Parallel(n_jobs=-1)]: Done 500 out of 500 | elapsed:  2.1min finished\n"
     ]
    },
    {
     "name": "stdout",
     "output_type": "stream",
     "text": [
      "all logreg pca\n",
      "Fitting 5 folds for each of 18 candidates, totalling 90 fits\n"
     ]
    },
    {
     "name": "stderr",
     "output_type": "stream",
     "text": [
      "[Parallel(n_jobs=-1)]: Done  25 tasks      | elapsed:    3.5s\n",
      "[Parallel(n_jobs=-1)]: Done  75 out of  90 | elapsed:    3.6s remaining:    0.6s\n",
      "[Parallel(n_jobs=-1)]: Done  90 out of  90 | elapsed:    3.7s finished\n"
     ]
    },
    {
     "name": "stdout",
     "output_type": "stream",
     "text": [
      "features rf clinical\n",
      "Fitting 5 folds for each of 100 candidates, totalling 500 fits\n"
     ]
    },
    {
     "name": "stderr",
     "output_type": "stream",
     "text": [
      "[Parallel(n_jobs=-1)]: Done  25 tasks      | elapsed:    6.1s\n",
      "[Parallel(n_jobs=-1)]: Done 146 tasks      | elapsed:   32.7s\n",
      "[Parallel(n_jobs=-1)]: Done 349 tasks      | elapsed:  1.2min\n",
      "[Parallel(n_jobs=-1)]: Done 500 out of 500 | elapsed:  1.7min finished\n"
     ]
    },
    {
     "name": "stdout",
     "output_type": "stream",
     "text": [
      "features logreg clinical\n",
      "Fitting 5 folds for each of 18 candidates, totalling 90 fits\n"
     ]
    },
    {
     "name": "stderr",
     "output_type": "stream",
     "text": [
      "[Parallel(n_jobs=-1)]: Done  25 tasks      | elapsed:    3.7s\n",
      "[Parallel(n_jobs=-1)]: Done  75 out of  90 | elapsed:    3.8s remaining:    0.7s\n",
      "[Parallel(n_jobs=-1)]: Done  90 out of  90 | elapsed:    3.8s finished\n"
     ]
    },
    {
     "name": "stdout",
     "output_type": "stream",
     "text": [
      "features rf rfe\n",
      "Fitting 5 folds for each of 100 candidates, totalling 500 fits\n"
     ]
    },
    {
     "name": "stderr",
     "output_type": "stream",
     "text": [
      "[Parallel(n_jobs=-1)]: Done  25 tasks      | elapsed:    7.2s\n",
      "[Parallel(n_jobs=-1)]: Done 146 tasks      | elapsed:   36.9s\n",
      "[Parallel(n_jobs=-1)]: Done 349 tasks      | elapsed:  1.4min\n",
      "[Parallel(n_jobs=-1)]: Done 500 out of 500 | elapsed:  1.9min finished\n"
     ]
    },
    {
     "name": "stdout",
     "output_type": "stream",
     "text": [
      "features logreg rfe\n",
      "Fitting 5 folds for each of 18 candidates, totalling 90 fits\n"
     ]
    },
    {
     "name": "stderr",
     "output_type": "stream",
     "text": [
      "[Parallel(n_jobs=-1)]: Done  25 tasks      | elapsed:    3.5s\n",
      "[Parallel(n_jobs=-1)]: Done  75 out of  90 | elapsed:    3.5s remaining:    0.6s\n",
      "[Parallel(n_jobs=-1)]: Done  90 out of  90 | elapsed:    3.6s finished\n"
     ]
    },
    {
     "name": "stdout",
     "output_type": "stream",
     "text": [
      "all rf rfe\n",
      "Fitting 5 folds for each of 100 candidates, totalling 500 fits\n"
     ]
    },
    {
     "name": "stderr",
     "output_type": "stream",
     "text": [
      "[Parallel(n_jobs=-1)]: Done  25 tasks      | elapsed:    6.4s\n",
      "[Parallel(n_jobs=-1)]: Done 146 tasks      | elapsed:   35.5s\n",
      "[Parallel(n_jobs=-1)]: Done 349 tasks      | elapsed:  1.4min\n",
      "[Parallel(n_jobs=-1)]: Done 500 out of 500 | elapsed:  1.9min finished\n"
     ]
    },
    {
     "name": "stdout",
     "output_type": "stream",
     "text": [
      "all logreg rfe\n",
      "Fitting 5 folds for each of 18 candidates, totalling 90 fits\n"
     ]
    },
    {
     "name": "stderr",
     "output_type": "stream",
     "text": [
      "[Parallel(n_jobs=-1)]: Done  25 tasks      | elapsed:    3.5s\n",
      "[Parallel(n_jobs=-1)]: Done  90 out of  90 | elapsed:    3.7s finished\n"
     ]
    },
    {
     "name": "stdout",
     "output_type": "stream",
     "text": [
      "TDA FOLD: 6 DONE WITH TIME TAKEN (IN MIN): 10.0774\n",
      "TDA fold number: 7\n",
      "features rf pca\n",
      "Fitting 5 folds for each of 100 candidates, totalling 500 fits\n"
     ]
    },
    {
     "name": "stderr",
     "output_type": "stream",
     "text": [
      "[Parallel(n_jobs=-1)]: Done  25 tasks      | elapsed:    9.9s\n",
      "[Parallel(n_jobs=-1)]: Done 146 tasks      | elapsed:   39.5s\n",
      "[Parallel(n_jobs=-1)]: Done 349 tasks      | elapsed:  1.5min\n",
      "[Parallel(n_jobs=-1)]: Done 500 out of 500 | elapsed:  2.1min finished\n"
     ]
    },
    {
     "name": "stdout",
     "output_type": "stream",
     "text": [
      "features logreg pca\n",
      "Fitting 5 folds for each of 18 candidates, totalling 90 fits\n"
     ]
    },
    {
     "name": "stderr",
     "output_type": "stream",
     "text": [
      "[Parallel(n_jobs=-1)]: Done  25 tasks      | elapsed:    3.9s\n",
      "[Parallel(n_jobs=-1)]: Done  75 out of  90 | elapsed:    3.9s remaining:    0.7s\n",
      "[Parallel(n_jobs=-1)]: Done  90 out of  90 | elapsed:    3.9s finished\n"
     ]
    },
    {
     "name": "stdout",
     "output_type": "stream",
     "text": [
      "all rf pca\n",
      "Fitting 5 folds for each of 100 candidates, totalling 500 fits\n"
     ]
    },
    {
     "name": "stderr",
     "output_type": "stream",
     "text": [
      "[Parallel(n_jobs=-1)]: Done  25 tasks      | elapsed:    9.9s\n",
      "[Parallel(n_jobs=-1)]: Done 146 tasks      | elapsed:   38.4s\n",
      "[Parallel(n_jobs=-1)]: Done 349 tasks      | elapsed:  1.5min\n",
      "[Parallel(n_jobs=-1)]: Done 500 out of 500 | elapsed:  2.0min finished\n"
     ]
    },
    {
     "name": "stdout",
     "output_type": "stream",
     "text": [
      "all logreg pca\n",
      "Fitting 5 folds for each of 18 candidates, totalling 90 fits\n"
     ]
    },
    {
     "name": "stderr",
     "output_type": "stream",
     "text": [
      "[Parallel(n_jobs=-1)]: Done  25 tasks      | elapsed:    3.5s\n",
      "[Parallel(n_jobs=-1)]: Done  75 out of  90 | elapsed:    3.6s remaining:    0.6s\n",
      "[Parallel(n_jobs=-1)]: Done  90 out of  90 | elapsed:    3.8s finished\n"
     ]
    },
    {
     "name": "stdout",
     "output_type": "stream",
     "text": [
      "features rf clinical\n",
      "Fitting 5 folds for each of 100 candidates, totalling 500 fits\n"
     ]
    },
    {
     "name": "stderr",
     "output_type": "stream",
     "text": [
      "[Parallel(n_jobs=-1)]: Done  25 tasks      | elapsed:    8.7s\n",
      "[Parallel(n_jobs=-1)]: Done 146 tasks      | elapsed:   33.1s\n",
      "[Parallel(n_jobs=-1)]: Done 349 tasks      | elapsed:  1.3min\n",
      "[Parallel(n_jobs=-1)]: Done 500 out of 500 | elapsed:  1.8min finished\n"
     ]
    },
    {
     "name": "stdout",
     "output_type": "stream",
     "text": [
      "features logreg clinical\n",
      "Fitting 5 folds for each of 18 candidates, totalling 90 fits\n"
     ]
    },
    {
     "name": "stderr",
     "output_type": "stream",
     "text": [
      "[Parallel(n_jobs=-1)]: Done  25 tasks      | elapsed:    3.8s\n",
      "[Parallel(n_jobs=-1)]: Done  75 out of  90 | elapsed:    3.9s remaining:    0.7s\n",
      "[Parallel(n_jobs=-1)]: Done  90 out of  90 | elapsed:    3.9s finished\n"
     ]
    },
    {
     "name": "stdout",
     "output_type": "stream",
     "text": [
      "features rf rfe\n",
      "Fitting 5 folds for each of 100 candidates, totalling 500 fits\n"
     ]
    },
    {
     "name": "stderr",
     "output_type": "stream",
     "text": [
      "[Parallel(n_jobs=-1)]: Done  25 tasks      | elapsed:    9.8s\n",
      "[Parallel(n_jobs=-1)]: Done 146 tasks      | elapsed:   36.7s\n",
      "[Parallel(n_jobs=-1)]: Done 349 tasks      | elapsed:  1.4min\n",
      "[Parallel(n_jobs=-1)]: Done 500 out of 500 | elapsed:  1.9min finished\n"
     ]
    },
    {
     "name": "stdout",
     "output_type": "stream",
     "text": [
      "features logreg rfe\n",
      "Fitting 5 folds for each of 18 candidates, totalling 90 fits\n"
     ]
    },
    {
     "name": "stderr",
     "output_type": "stream",
     "text": [
      "[Parallel(n_jobs=-1)]: Done  25 tasks      | elapsed:    3.5s\n",
      "[Parallel(n_jobs=-1)]: Done  90 out of  90 | elapsed:    3.6s finished\n"
     ]
    },
    {
     "name": "stdout",
     "output_type": "stream",
     "text": [
      "all rf rfe\n",
      "Fitting 5 folds for each of 100 candidates, totalling 500 fits\n"
     ]
    },
    {
     "name": "stderr",
     "output_type": "stream",
     "text": [
      "[Parallel(n_jobs=-1)]: Done  25 tasks      | elapsed:    9.3s\n",
      "[Parallel(n_jobs=-1)]: Done 146 tasks      | elapsed:   36.5s\n",
      "[Parallel(n_jobs=-1)]: Done 349 tasks      | elapsed:  1.4min\n",
      "[Parallel(n_jobs=-1)]: Done 500 out of 500 | elapsed:  1.9min finished\n"
     ]
    },
    {
     "name": "stdout",
     "output_type": "stream",
     "text": [
      "all logreg rfe\n",
      "Fitting 5 folds for each of 18 candidates, totalling 90 fits\n"
     ]
    },
    {
     "name": "stderr",
     "output_type": "stream",
     "text": [
      "[Parallel(n_jobs=-1)]: Done  25 tasks      | elapsed:    3.5s\n",
      "[Parallel(n_jobs=-1)]: Done  75 out of  90 | elapsed:    3.6s remaining:    0.6s\n",
      "[Parallel(n_jobs=-1)]: Done  90 out of  90 | elapsed:    3.6s finished\n"
     ]
    },
    {
     "name": "stdout",
     "output_type": "stream",
     "text": [
      "TDA FOLD: 7 DONE WITH TIME TAKEN (IN MIN): 10.165\n",
      "TDA fold number: 8\n",
      "features rf pca\n",
      "Fitting 5 folds for each of 100 candidates, totalling 500 fits\n"
     ]
    },
    {
     "name": "stderr",
     "output_type": "stream",
     "text": [
      "[Parallel(n_jobs=-1)]: Done  25 tasks      | elapsed:   11.4s\n",
      "[Parallel(n_jobs=-1)]: Done 146 tasks      | elapsed:   40.1s\n",
      "[Parallel(n_jobs=-1)]: Done 349 tasks      | elapsed:  1.6min\n",
      "[Parallel(n_jobs=-1)]: Done 500 out of 500 | elapsed:  2.0min finished\n"
     ]
    },
    {
     "name": "stdout",
     "output_type": "stream",
     "text": [
      "features logreg pca\n",
      "Fitting 5 folds for each of 18 candidates, totalling 90 fits\n"
     ]
    },
    {
     "name": "stderr",
     "output_type": "stream",
     "text": [
      "[Parallel(n_jobs=-1)]: Done  25 tasks      | elapsed:    3.5s\n",
      "[Parallel(n_jobs=-1)]: Done  90 out of  90 | elapsed:    3.6s finished\n"
     ]
    },
    {
     "name": "stdout",
     "output_type": "stream",
     "text": [
      "all rf pca\n",
      "Fitting 5 folds for each of 100 candidates, totalling 500 fits\n"
     ]
    },
    {
     "name": "stderr",
     "output_type": "stream",
     "text": [
      "[Parallel(n_jobs=-1)]: Done  25 tasks      | elapsed:   10.9s\n",
      "[Parallel(n_jobs=-1)]: Done 146 tasks      | elapsed:   37.3s\n",
      "[Parallel(n_jobs=-1)]: Done 349 tasks      | elapsed:  1.4min\n",
      "[Parallel(n_jobs=-1)]: Done 500 out of 500 | elapsed:  1.9min finished\n"
     ]
    },
    {
     "name": "stdout",
     "output_type": "stream",
     "text": [
      "all logreg pca\n",
      "Fitting 5 folds for each of 18 candidates, totalling 90 fits\n"
     ]
    },
    {
     "name": "stderr",
     "output_type": "stream",
     "text": [
      "[Parallel(n_jobs=-1)]: Done  25 tasks      | elapsed:    3.5s\n",
      "[Parallel(n_jobs=-1)]: Done  75 out of  90 | elapsed:    3.6s remaining:    0.6s\n",
      "[Parallel(n_jobs=-1)]: Done  90 out of  90 | elapsed:    3.8s finished\n"
     ]
    },
    {
     "name": "stdout",
     "output_type": "stream",
     "text": [
      "features rf clinical\n",
      "Fitting 5 folds for each of 100 candidates, totalling 500 fits\n"
     ]
    },
    {
     "name": "stderr",
     "output_type": "stream",
     "text": [
      "[Parallel(n_jobs=-1)]: Done  25 tasks      | elapsed:    9.4s\n",
      "[Parallel(n_jobs=-1)]: Done 146 tasks      | elapsed:   31.3s\n",
      "[Parallel(n_jobs=-1)]: Done 349 tasks      | elapsed:  1.2min\n",
      "[Parallel(n_jobs=-1)]: Done 500 out of 500 | elapsed:  1.6min finished\n"
     ]
    },
    {
     "name": "stdout",
     "output_type": "stream",
     "text": [
      "features logreg clinical\n",
      "Fitting 5 folds for each of 18 candidates, totalling 90 fits\n"
     ]
    },
    {
     "name": "stderr",
     "output_type": "stream",
     "text": [
      "[Parallel(n_jobs=-1)]: Done  25 tasks      | elapsed:    3.5s\n",
      "[Parallel(n_jobs=-1)]: Done  75 out of  90 | elapsed:    3.5s remaining:    0.6s\n",
      "[Parallel(n_jobs=-1)]: Done  90 out of  90 | elapsed:    3.6s finished\n"
     ]
    },
    {
     "name": "stdout",
     "output_type": "stream",
     "text": [
      "features rf rfe\n",
      "Fitting 5 folds for each of 100 candidates, totalling 500 fits\n"
     ]
    },
    {
     "name": "stderr",
     "output_type": "stream",
     "text": [
      "[Parallel(n_jobs=-1)]: Done  25 tasks      | elapsed:   10.0s\n",
      "[Parallel(n_jobs=-1)]: Done 146 tasks      | elapsed:   34.5s\n",
      "[Parallel(n_jobs=-1)]: Done 349 tasks      | elapsed:  1.3min\n",
      "[Parallel(n_jobs=-1)]: Done 500 out of 500 | elapsed:  1.7min finished\n"
     ]
    },
    {
     "name": "stdout",
     "output_type": "stream",
     "text": [
      "features logreg rfe\n",
      "Fitting 5 folds for each of 18 candidates, totalling 90 fits\n"
     ]
    },
    {
     "name": "stderr",
     "output_type": "stream",
     "text": [
      "[Parallel(n_jobs=-1)]: Done  25 tasks      | elapsed:    3.5s\n",
      "[Parallel(n_jobs=-1)]: Done  90 out of  90 | elapsed:    3.6s finished\n"
     ]
    },
    {
     "name": "stdout",
     "output_type": "stream",
     "text": [
      "all rf rfe\n",
      "Fitting 5 folds for each of 100 candidates, totalling 500 fits\n"
     ]
    },
    {
     "name": "stderr",
     "output_type": "stream",
     "text": [
      "[Parallel(n_jobs=-1)]: Done  25 tasks      | elapsed:   10.0s\n",
      "[Parallel(n_jobs=-1)]: Done 146 tasks      | elapsed:   34.6s\n",
      "[Parallel(n_jobs=-1)]: Done 349 tasks      | elapsed:  1.3min\n",
      "[Parallel(n_jobs=-1)]: Done 500 out of 500 | elapsed:  1.7min finished\n"
     ]
    },
    {
     "name": "stdout",
     "output_type": "stream",
     "text": [
      "all logreg rfe\n",
      "Fitting 5 folds for each of 18 candidates, totalling 90 fits\n"
     ]
    },
    {
     "name": "stderr",
     "output_type": "stream",
     "text": [
      "[Parallel(n_jobs=-1)]: Done  25 tasks      | elapsed:    3.5s\n",
      "[Parallel(n_jobs=-1)]: Done  90 out of  90 | elapsed:    3.6s finished\n"
     ]
    },
    {
     "name": "stdout",
     "output_type": "stream",
     "text": [
      "TDA FOLD: 8 DONE WITH TIME TAKEN (IN MIN): 9.43376\n",
      "TDA fold number: 9\n",
      "features rf pca\n",
      "Fitting 5 folds for each of 100 candidates, totalling 500 fits\n"
     ]
    },
    {
     "name": "stderr",
     "output_type": "stream",
     "text": [
      "[Parallel(n_jobs=-1)]: Done  25 tasks      | elapsed:    8.4s\n",
      "[Parallel(n_jobs=-1)]: Done 146 tasks      | elapsed:   41.8s\n",
      "[Parallel(n_jobs=-1)]: Done 349 tasks      | elapsed:  1.6min\n",
      "[Parallel(n_jobs=-1)]: Done 500 out of 500 | elapsed:  2.3min finished\n"
     ]
    },
    {
     "name": "stdout",
     "output_type": "stream",
     "text": [
      "features logreg pca\n",
      "Fitting 5 folds for each of 18 candidates, totalling 90 fits\n"
     ]
    },
    {
     "name": "stderr",
     "output_type": "stream",
     "text": [
      "[Parallel(n_jobs=-1)]: Done  25 tasks      | elapsed:    3.5s\n",
      "[Parallel(n_jobs=-1)]: Done  75 out of  90 | elapsed:    3.5s remaining:    0.6s\n",
      "[Parallel(n_jobs=-1)]: Done  90 out of  90 | elapsed:    3.6s finished\n"
     ]
    },
    {
     "name": "stdout",
     "output_type": "stream",
     "text": [
      "all rf pca\n",
      "Fitting 5 folds for each of 100 candidates, totalling 500 fits\n"
     ]
    },
    {
     "name": "stderr",
     "output_type": "stream",
     "text": [
      "[Parallel(n_jobs=-1)]: Done  25 tasks      | elapsed:    8.1s\n",
      "[Parallel(n_jobs=-1)]: Done 146 tasks      | elapsed:   38.4s\n",
      "[Parallel(n_jobs=-1)]: Done 349 tasks      | elapsed:  1.5min\n",
      "[Parallel(n_jobs=-1)]: Done 500 out of 500 | elapsed:  2.1min finished\n"
     ]
    },
    {
     "name": "stdout",
     "output_type": "stream",
     "text": [
      "all logreg pca\n",
      "Fitting 5 folds for each of 18 candidates, totalling 90 fits\n"
     ]
    },
    {
     "name": "stderr",
     "output_type": "stream",
     "text": [
      "[Parallel(n_jobs=-1)]: Done  25 tasks      | elapsed:    3.5s\n",
      "[Parallel(n_jobs=-1)]: Done  75 out of  90 | elapsed:    3.7s remaining:    0.7s\n",
      "[Parallel(n_jobs=-1)]: Done  90 out of  90 | elapsed:    3.8s finished\n"
     ]
    },
    {
     "name": "stdout",
     "output_type": "stream",
     "text": [
      "features rf clinical\n",
      "Fitting 5 folds for each of 100 candidates, totalling 500 fits\n"
     ]
    },
    {
     "name": "stderr",
     "output_type": "stream",
     "text": [
      "[Parallel(n_jobs=-1)]: Done  25 tasks      | elapsed:    6.9s\n",
      "[Parallel(n_jobs=-1)]: Done 146 tasks      | elapsed:   31.2s\n",
      "[Parallel(n_jobs=-1)]: Done 349 tasks      | elapsed:  1.2min\n",
      "[Parallel(n_jobs=-1)]: Done 500 out of 500 | elapsed:  1.7min finished\n"
     ]
    },
    {
     "name": "stdout",
     "output_type": "stream",
     "text": [
      "features logreg clinical\n",
      "Fitting 5 folds for each of 18 candidates, totalling 90 fits\n"
     ]
    },
    {
     "name": "stderr",
     "output_type": "stream",
     "text": [
      "[Parallel(n_jobs=-1)]: Done  25 tasks      | elapsed:    3.5s\n",
      "[Parallel(n_jobs=-1)]: Done  75 out of  90 | elapsed:    3.6s remaining:    0.6s\n",
      "[Parallel(n_jobs=-1)]: Done  90 out of  90 | elapsed:    3.6s finished\n"
     ]
    },
    {
     "name": "stdout",
     "output_type": "stream",
     "text": [
      "features rf rfe\n",
      "Fitting 5 folds for each of 100 candidates, totalling 500 fits\n"
     ]
    },
    {
     "name": "stderr",
     "output_type": "stream",
     "text": [
      "[Parallel(n_jobs=-1)]: Done  25 tasks      | elapsed:    7.6s\n",
      "[Parallel(n_jobs=-1)]: Done 146 tasks      | elapsed:   35.9s\n",
      "[Parallel(n_jobs=-1)]: Done 349 tasks      | elapsed:  1.4min\n",
      "[Parallel(n_jobs=-1)]: Done 500 out of 500 | elapsed:  2.0min finished\n"
     ]
    },
    {
     "name": "stdout",
     "output_type": "stream",
     "text": [
      "features logreg rfe\n",
      "Fitting 5 folds for each of 18 candidates, totalling 90 fits\n"
     ]
    },
    {
     "name": "stderr",
     "output_type": "stream",
     "text": [
      "[Parallel(n_jobs=-1)]: Done  25 tasks      | elapsed:    3.5s\n",
      "[Parallel(n_jobs=-1)]: Done  90 out of  90 | elapsed:    3.6s finished\n"
     ]
    },
    {
     "name": "stdout",
     "output_type": "stream",
     "text": [
      "all rf rfe\n",
      "Fitting 5 folds for each of 100 candidates, totalling 500 fits\n"
     ]
    },
    {
     "name": "stderr",
     "output_type": "stream",
     "text": [
      "[Parallel(n_jobs=-1)]: Done  25 tasks      | elapsed:    7.5s\n",
      "[Parallel(n_jobs=-1)]: Done 146 tasks      | elapsed:   34.9s\n",
      "[Parallel(n_jobs=-1)]: Done 349 tasks      | elapsed:  1.3min\n",
      "[Parallel(n_jobs=-1)]: Done 500 out of 500 | elapsed:  1.9min finished\n"
     ]
    },
    {
     "name": "stdout",
     "output_type": "stream",
     "text": [
      "all logreg rfe\n",
      "Fitting 5 folds for each of 18 candidates, totalling 90 fits\n"
     ]
    },
    {
     "name": "stderr",
     "output_type": "stream",
     "text": [
      "[Parallel(n_jobs=-1)]: Done  25 tasks      | elapsed:    3.5s\n",
      "[Parallel(n_jobs=-1)]: Done  75 out of  90 | elapsed:    3.6s remaining:    0.6s\n",
      "[Parallel(n_jobs=-1)]: Done  90 out of  90 | elapsed:    3.7s finished\n"
     ]
    },
    {
     "name": "stdout",
     "output_type": "stream",
     "text": [
      "TDA FOLD: 9 DONE WITH TIME TAKEN (IN MIN): 10.3337\n"
     ]
    }
   ],
   "source": [
    "\n",
    "# modals\n",
    "modal_list = ['FLAIR','T1', 'T1post','T2']\n",
    "#study = 'CNN' # <== CHANGE HERE\n",
    "# study_list = ['texture','TDA','CNN']\n",
    "study_list = ['texture','TDA','CNN','cmb']\n",
    "study_list = ['cmb']\n",
    "ICC_filt = 0\n",
    "\n",
    "study_list = ['texture','TDA']\n",
    "ICC_filt = 1\n",
    "\n",
    "# study_list = ['texture','TDA','CNN','cmb']\n",
    "# ICC_filt = 0\n",
    "\n",
    "if ICC_filt == 1:\n",
    "    suffix = '_icc2'\n",
    "else: \n",
    "    suffix = ''\n",
    "\n",
    "for study in study_list:\n",
    "    (origdir,basedir,imagedir,normdir,splitdir,out_dir,model_dir) = file_structure.file_dirs(study)\n",
    "    # load feature names and corr+rfe filtered feature names\n",
    "    #if study == 'TDA':\n",
    "    #    feature_names = np.load(data_dir + 'ph_feature_names.npy')\n",
    "    #    corr_rfe_selected_list = np.load(os.path.join(out_dir,'corr_rfe_ph_features_09.npy')).item()\n",
    "    #elif study == 'texture':\n",
    "    #    feature_names = np.load(data_dir + 'rfecv_tex_features_selected.npy')\n",
    "    #    corr_rfe_selected_list = np.load(os.path.join(out_dir, 'rfe_tex_features_selected.npy')).item()\n",
    "    corr_rfe_selected_list = np.load(os.path.join(out_dir,'rfe_%s_features_selected%s.npy' % (study.lower()[0:3],suffix))).item()\n",
    "    random_state_list = [2,4,6,8,10,12,14,16,18,20] \n",
    "\n",
    "    # For timing purpose\n",
    "    time_list = []\n",
    "\n",
    "    for fold in range(10):\n",
    "        print('%s fold number: %d' % (study, fold))\n",
    "        #t0 = time.time() python 2 vs python 3\n",
    "        t0 = time.time()\n",
    "\n",
    "        random_state = random_state_list[fold]\n",
    "\n",
    "        fold_dir = os.path.join(splitdir,'fold_' + str(fold))\n",
    "\n",
    "        #study_saved_model = data_dir_fold + 'saved_models/' + study + '_saved_model/'\n",
    "\n",
    "        # load data\n",
    "        (train_samples, train_features_pca, train_1p19q, train_age, \n",
    "         train_KPS, train_gender, train_id, train_fnames)= load_data.load_data('train',fold,study,ICC_filt)\n",
    "        (val_samples,val_features_pca, val_1p19q, val_age, \n",
    "         val_KPS, val_gender, val_id, val_fnames)= load_data.load_data('val',fold,study,ICC_filt)\n",
    "\n",
    "        feature_names = train_fnames\n",
    "\n",
    "        # conver 1,0 into string: 'codel' and 'non-codel'\n",
    "        train_1p19q_str = label_conversion(train_1p19q)\n",
    "        val_1p19q_str = label_conversion(val_1p19q)\n",
    "\n",
    "        # Create clinical variable df\n",
    "        clinical_names = ['age', 'KPS', 'gender']\n",
    "        train_clinical_df = pd.DataFrame(data = np.vstack((train_age, train_KPS, train_gender)).transpose(), \n",
    "                                            columns = clinical_names, index=train_1p19q_str)\n",
    "        val_clinical_df = pd.DataFrame(data = np.vstack((val_age, val_KPS, val_gender)).transpose(), \n",
    "                                            columns = clinical_names, index=val_1p19q_str)\n",
    "\n",
    "        # leave one group out for CV purpose later\n",
    "        logo = LeaveOneGroupOut()\n",
    "\n",
    "        for train_features, val_features, rfe_pca_flag in [(train_features_pca, val_features_pca,'pca'),\n",
    "                                                           (train_clinical_df, val_clinical_df,'clinical'),\n",
    "                                                           (train_samples, val_samples,'rfe')\n",
    "                                                          ]:\n",
    "\n",
    "            if rfe_pca_flag == 'rfe': # original features (i.e. non PCA features). This part needs to be filtered with corr_rfe selection\n",
    "                # create the pandas dataframes\n",
    "                train_features_df = pd.DataFrame(data=train_features, columns=feature_names, index=train_1p19q_str)\n",
    "                val_features_df = pd.DataFrame(data=val_features, columns=feature_names, index=val_1p19q_str)\n",
    "\n",
    "                # Remove Flatness and LeastAxis since they are all 0s for every sample\n",
    "                drop_features = ['shape_Flatness_', 'shape_LeastAxis_']\n",
    "                drop_features = [elemt + modal for modal in modal_list for elemt in drop_features]\n",
    "\n",
    "                train_features_df = train_features_df.drop(drop_features, axis=1, errors = 'ignore')\n",
    "                val_features_df = val_features_df.drop(drop_features, axis=1, errors = 'ignore')\n",
    "\n",
    "                # obtain feature names to select from corr + RFE\n",
    "                corr_rfe_selected = corr_rfe_selected_list[fold]\n",
    "\n",
    "                # only the corr rfe selected features\n",
    "                train_features_df = train_features_df[corr_rfe_selected]\n",
    "                val_features_df = val_features_df[corr_rfe_selected]\n",
    "\n",
    "            elif rfe_pca_flag == 'pca': #PCA features\n",
    "                # create the pandas dataframes\n",
    "                train_features_df = pd.DataFrame(data=train_features, index=train_1p19q_str)\n",
    "                val_features_df = pd.DataFrame(data=val_features, index=val_1p19q_str)\n",
    "            elif rfe_pca_flag == 'clinical': #PCA features\n",
    "                # create the pandas dataframes\n",
    "                train_features_df = pd.DataFrame(data=train_features, index=train_1p19q_str)\n",
    "                val_features_df = pd.DataFrame(data=val_features, index=val_1p19q_str)\n",
    "\n",
    "            # combine train and val for CV purpose\n",
    "            train_val_features_df = pd.concat([train_features_df, val_features_df], axis=0)\n",
    "            train_val_clinical_df = pd.concat([train_clinical_df, val_clinical_df], axis=0)\n",
    "            train_val_1p19q = np.append(train_1p19q, val_1p19q)\n",
    "            train_val_1p19q_str = train_1p19q_str + val_1p19q_str\n",
    "\n",
    "            # combine the membership as well for CV purpose\n",
    "            #train_val_group_membership = train_group_membership + val_group_membership\n",
    "            train_val_id = np.append(train_id, val_id)\n",
    "\n",
    "            # features + clinical \n",
    "            train_val_all_df = pd.concat([train_val_features_df, train_val_clinical_df], axis=1)\n",
    "\n",
    "\n",
    "\n",
    "            for sample_case in ['features', 'all']: #features without clinical vs features + clinical\n",
    "                # group kfold split (initially unused, donnie did leave one out)\n",
    "                # cross validation groups were too small, and it was causing errors\n",
    "                #if sample_case == 'features':\n",
    "                #elif sample_case == 'all':\n",
    "                if (rfe_pca_flag == 'clinical' and sample_case != 'features'):\n",
    "                    continue # only run clinical once through\n",
    "\n",
    "                for classifier in ['rf','logreg']:\n",
    "                    print(sample_case,classifier,rfe_pca_flag)\n",
    "                    if classifier == 'rf':\n",
    "                        estimator_instance = RandomForestClassifier() \n",
    "                        estimator_grid = RF_random_grid()\n",
    "\n",
    "                        n_iter = 100\n",
    "                        if sample_case == 'features':\n",
    "                            gkf = GroupKFold(n_splits=5) #5-fold cross-validation\n",
    "                            gkfSp = gkf.split(train_val_features_df,train_val_1p19q, groups = train_val_id)\n",
    "\n",
    "                            estimator = RandomizedSearchCV(\n",
    "                                estimator = estimator_instance, \n",
    "                                param_distributions = estimator_grid,\n",
    "                                scoring = 'roc_auc',\n",
    "                                #cv = logo.split(train_val_features_df, train_val_1p19q, groups = train_val_id),\n",
    "                                cv = gkfSp,\n",
    "                                verbose=2,\n",
    "                                random_state = random_state,\n",
    "                                n_iter = n_iter,\n",
    "                                refit = True,\n",
    "                                n_jobs = -1)\n",
    "\n",
    "                            estimator.fit(train_val_features_df, train_val_1p19q)\n",
    "\n",
    "                        elif sample_case == 'all':\n",
    "                            gkf = GroupKFold(n_splits=5) #5-fold cross-validation\n",
    "                            gkfSp = gkf.split(train_val_all_df,train_val_1p19q, groups = train_val_id)\n",
    "                            estimator = RandomizedSearchCV(\n",
    "                                estimator = estimator_instance, \n",
    "                                param_distributions = estimator_grid,\n",
    "                                scoring = 'roc_auc',\n",
    "                                #cv = logo.split(train_val_all_df, train_val_1p19q, groups = train_val_id),\n",
    "                                cv = gkfSp,\n",
    "                                verbose=2,\n",
    "                                random_state = random_state,\n",
    "                                n_iter = n_iter,\n",
    "                                refit = True,\n",
    "                                n_jobs = -1)\n",
    "                            estimator.fit(train_val_all_df, train_val_1p19q)\n",
    "\n",
    "                    elif classifier == 'logreg':\n",
    "                        estimator_instance = LogisticRegression()\n",
    "                        estimator_grid = Logreg_grid()\n",
    "\n",
    "                        if sample_case == 'features':\n",
    "                            gkf = GroupKFold(n_splits=5) #5-fold cross-validation\n",
    "                            gkfSp = gkf.split(train_val_features_df,train_val_1p19q, groups = train_val_id)\n",
    "\n",
    "                            estimator = GridSearchCV(\n",
    "                                estimator = estimator_instance, \n",
    "                                param_grid = estimator_grid,\n",
    "                                scoring = 'roc_auc',\n",
    "                                #cv = logo.split(train_val_features_df, train_val_1p19q, groups = train_val_id),\n",
    "                                cv = gkfSp,\n",
    "                                verbose=2,\n",
    "                                refit = True,\n",
    "                                n_jobs = -1)\n",
    "\n",
    "                            estimator.fit(train_val_features_df, train_val_1p19q)\n",
    "\n",
    "                        elif sample_case == 'all':\n",
    "                            gkf = GroupKFold(n_splits=5) #5-fold cross-validation\n",
    "                            gkfSp = gkf.split(train_val_all_df,train_val_1p19q, groups = train_val_id)\n",
    "                            estimator = GridSearchCV(\n",
    "                                estimator = estimator_instance, \n",
    "                                param_grid = estimator_grid,\n",
    "                                scoring = 'roc_auc',\n",
    "                                #cv = logo.split(train_val_all_df, train_val_1p19q, groups = train_val_id),\n",
    "                                cv = gkfSp,\n",
    "                                verbose=2,\n",
    "                                refit = True,\n",
    "                                n_jobs = -1)\n",
    "\n",
    "                            estimator.fit(train_val_all_df, train_val_1p19q)\n",
    "\n",
    "                    best_estimator = estimator.best_estimator_.__dict__\n",
    "                    best_score = estimator.best_score_\n",
    "\n",
    "                    # save models and train score\n",
    "\n",
    "    #                if rfe_pca_flag == 'rfe': # corr + rfe\n",
    "    #                    estimator_name = classifier + '_' + sample_case +'_rfe_' + str(fold) + '.npy'\n",
    "    #                    estimator_score_name = classifier + '_' + sample_case +'_rfe_' + str(fold) + '_best_cv_score.npy'\n",
    "\n",
    "    #                elif rfe_pca_flag == 'pca': # pca\n",
    "    #                    estimator_name = classifier + '_' + sample_case +'_pca_' + str(fold) + '.npy'\n",
    "    #                    estimator_score_name = classifier + '_' + sample_case +'_pca_' + str(fold) + '_best_cv_score.npy'\n",
    "    #                elif rfe_pca_flag == 'clinical': # pca\n",
    "    #                    estimator_name = classifier '_' + sample_case + '_clinical_' + str(fold) + '.npy'\n",
    "    #                    estimator_score_name = classifier'_' + sample_case + '_clinical_' + str(fold) + '_best_cv_score.npy'\n",
    "\n",
    "                    estimator_name = (classifier + '_' + sample_case + '_'\n",
    "                                      + rfe_pca_flag + '_' + str(fold) +suffix + '.npy')\n",
    "                    estimator_score_name =(classifier +  '_' + sample_case + '_'+ rfe_pca_flag \n",
    "                                           +'_' + str(fold) + '_best_cv_score'+suffix+'.npy')\n",
    "\n",
    "                    np.save(os.path.join(model_dir,estimator_name), best_estimator)\n",
    "                    np.save(os.path.join(model_dir,estimator_score_name), best_score)\n",
    "\n",
    "        t1 = time.time()\n",
    "        time_list.append((t1-t0)/60)\n",
    "        print('%s FOLD: %d DONE WITH TIME TAKEN (IN MIN): %g' % (study, fold, (t1-t0)/60))\n"
   ]
  },
  {
   "cell_type": "code",
   "execution_count": 72,
   "metadata": {},
   "outputs": [
    {
     "name": "stdout",
     "output_type": "stream",
     "text": [
      "features rf pca\n",
      "Empty DataFrame\n",
      "Columns: []\n",
      "Index: [non-codel, non-codel, non-codel, non-codel, non-codel, non-codel, non-codel, non-codel, non-codel, non-codel, non-codel, non-codel, non-codel, non-codel, non-codel, non-codel, non-codel, non-codel, non-codel, non-codel, non-codel, non-codel, non-codel, non-codel, non-codel, non-codel, non-codel, non-codel, non-codel, non-codel, non-codel, non-codel, non-codel, non-codel, non-codel, non-codel, non-codel, non-codel, non-codel, non-codel, non-codel, non-codel, non-codel, non-codel, non-codel, non-codel, non-codel, non-codel, non-codel, non-codel, non-codel, non-codel, non-codel, non-codel, non-codel, non-codel, non-codel, non-codel, non-codel, non-codel, non-codel, non-codel, non-codel, non-codel, non-codel, non-codel, non-codel, non-codel, non-codel, non-codel, non-codel, non-codel, non-codel, non-codel, non-codel, non-codel, non-codel, non-codel, non-codel, non-codel, non-codel, non-codel, non-codel, non-codel, non-codel, non-codel, non-codel, non-codel, non-codel, non-codel, non-codel, non-codel, non-codel, non-codel, non-codel, non-codel, non-codel, non-codel, non-codel, non-codel, ...]\n",
      "\n",
      "[316 rows x 0 columns]\n",
      "[]\n",
      "C:\\Users\\ncwang\\Documents\\Rao_lab\\1p19q Project\\data\\data_split_n4\\fold_0\\train_tex_pca_icc2.npy\n"
     ]
    }
   ],
   "source": [
    "print(sample_case,classifier,rfe_pca_flag)\n",
    "print(train_val_features_df)\n",
    "print(train_features_pca)\n",
    "dataset = 'train'\n",
    "mode = study\n",
    "pca_name = os.path.join(fold_dir, '%s_%s_pca%s.npy' % (dataset,mode[0:3].lower(),suffix))\n",
    "print(pca_name)"
   ]
  },
  {
   "cell_type": "code",
   "execution_count": null,
   "metadata": {},
   "outputs": [],
   "source": []
  }
 ],
 "metadata": {
  "kernelspec": {
   "display_name": "Python 3",
   "language": "python",
   "name": "python3"
  },
  "language_info": {
   "codemirror_mode": {
    "name": "ipython",
    "version": 3
   },
   "file_extension": ".py",
   "mimetype": "text/x-python",
   "name": "python",
   "nbconvert_exporter": "python",
   "pygments_lexer": "ipython3",
   "version": "3.6.5"
  }
 },
 "nbformat": 4,
 "nbformat_minor": 2
}
